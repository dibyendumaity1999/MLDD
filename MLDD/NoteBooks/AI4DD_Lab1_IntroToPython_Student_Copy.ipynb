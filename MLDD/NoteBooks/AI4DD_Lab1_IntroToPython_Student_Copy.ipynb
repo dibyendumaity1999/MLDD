{
  "nbformat": 4,
  "nbformat_minor": 0,
  "metadata": {
    "colab": {
      "name": "AI4DD_Lab1_IntroToPython Student Copy",
      "provenance": [],
      "collapsed_sections": []
    },
    "kernelspec": {
      "name": "python3",
      "display_name": "Python 3"
    },
    "language_info": {
      "name": "python"
    }
  },
  "cells": [
    {
      "cell_type": "markdown",
      "source": [
        "## Variables, Datatypes, Type Casting"
      ],
      "metadata": {
        "id": "M08WnjO8tHUi"
      }
    },
    {
      "cell_type": "markdown",
      "source": [
        "\\Imagine you need to add two integers, and print the result, the C code would look something like this: \n",
        "\n",
        "```c\n",
        "int main{\n",
        "    int a = 10;\n",
        "    int b = 20;\n",
        "    int c;\n",
        "\n",
        "    c = a + b;\n",
        "\n",
        "    printf(\"%d\", c);\n",
        "\n",
        "    return 0;\n",
        "}\n",
        "```\n",
        "\n",
        "\n"
      ],
      "metadata": {
        "id": "ypX_ZXm3b9bZ"
      }
    },
    {
      "cell_type": "code",
      "source": [
        "a = 10\n",
        "b = 20\n",
        "\n",
        "sum = a + b\n",
        "\n",
        "print(sum)"
      ],
      "metadata": {
        "colab": {
          "base_uri": "https://localhost:8080/"
        },
        "id": "5Wwfx4uQkM1X",
        "outputId": "ae8c5133-347c-46db-cd0d-660bca4a01d2"
      },
      "execution_count": null,
      "outputs": [
        {
          "output_type": "stream",
          "name": "stdout",
          "text": [
            "30\n"
          ]
        }
      ]
    },
    {
      "cell_type": "markdown",
      "source": [
        "Imagine you need to add two floating point numbers, and print the result, the C code would look something like this: \n",
        "\n",
        "```c\n",
        "int main{\n",
        "    float a = 10.0;\n",
        "    float b = 20.0;\n",
        "    float c;\n",
        "\n",
        "    c = a + b;\n",
        "\n",
        "    printf(\"%f\", c);\n",
        "    return 0;\n",
        "}\n",
        "```\n",
        "\n"
      ],
      "metadata": {
        "id": "WRDx1XoqkhlL"
      }
    },
    {
      "cell_type": "code",
      "source": [
        "a = 10.0\n",
        "b = 20.0\n",
        "\n",
        "sum = a + b\n",
        "\n",
        "print(sum)"
      ],
      "metadata": {
        "colab": {
          "base_uri": "https://localhost:8080/"
        },
        "id": "WZGAXuQ9kvkN",
        "outputId": "3c5af3d8-0903-44c3-863d-7c9c4bb12e76"
      },
      "execution_count": null,
      "outputs": [
        {
          "output_type": "stream",
          "name": "stdout",
          "text": [
            "30.0\n"
          ]
        }
      ]
    },
    {
      "cell_type": "code",
      "source": [
        "var_1 = 70\n",
        "var_2 = 70.0\n",
        "var_3 = \"70\""
      ],
      "metadata": {
        "id": "ygIuo6EN3mdR"
      },
      "execution_count": null,
      "outputs": []
    },
    {
      "cell_type": "code",
      "source": [
        "var_1 = 70    # int\n",
        "var_2 = 70.0  # float\n",
        "var_3 = \"70\"  # string\n",
        "\n",
        "print(type(var_1)) # use the type() function to get the datatype"
      ],
      "metadata": {
        "colab": {
          "base_uri": "https://localhost:8080/"
        },
        "id": "AbW7SWURvGkr",
        "outputId": "9f81aa6a-8b8d-44b4-b199-c9a046e915e4"
      },
      "execution_count": null,
      "outputs": [
        {
          "output_type": "stream",
          "name": "stdout",
          "text": [
            "<class 'int'>\n"
          ]
        }
      ]
    },
    {
      "cell_type": "code",
      "source": [
        "# All three of these variables will hold an object of the datatype \"int\" with the value 70\n",
        "var_1 = int(70)\n",
        "var_2 = int(70.6)   # Remember that this does not work like round() function\n",
        "var_3 = int(\"70\")\n",
        "\n",
        "print(var_1, var_2, var_3)"
      ],
      "metadata": {
        "id": "jD9VyKi7xYIp"
      },
      "execution_count": null,
      "outputs": []
    },
    {
      "cell_type": "markdown",
      "source": [
        "## Operators"
      ],
      "metadata": {
        "id": "49YSB2qBy2gg"
      }
    },
    {
      "cell_type": "code",
      "source": [
        "# Arithmetic Operators\n",
        "# -----------------\n",
        "# +  : addition\n",
        "# -  : subtraction\n",
        "# *  : multiplication\n",
        "# /  : division\n",
        "# %  : modulus\n",
        "# ** : exponentiation\n",
        "# // : floor division\n",
        "# -----------------\n",
        "\n",
        "var_1 = 3 + 8\n",
        "var_2 = 5\n",
        "var_3 = var_1 + var_2\n",
        "print(var_3)\n",
        "\n",
        "var_3 -= 5 # Equivalent to `var_3 = var_3 - 5`\n",
        "print(var_3)"
      ],
      "metadata": {
        "colab": {
          "base_uri": "https://localhost:8080/"
        },
        "id": "lhBpF5Yl0FQd",
        "outputId": "4af513a4-f559-41bc-db78-65e3d7381aaa"
      },
      "execution_count": null,
      "outputs": [
        {
          "output_type": "stream",
          "name": "stdout",
          "text": [
            "16\n",
            "11\n"
          ]
        }
      ]
    },
    {
      "cell_type": "code",
      "source": [
        "# Comparison Operators\n",
        "# -----------------\n",
        "# <  : less than\n",
        "# <= : less than or equal to\n",
        "# >  : greater than\n",
        "# >= : greater than or equal to\n",
        "# == : equal\n",
        "# != : not equal\n",
        "# -----------------\n",
        "\n",
        "result_bool = 6 < 23\n",
        "print(result_bool)"
      ],
      "metadata": {
        "colab": {
          "base_uri": "https://localhost:8080/"
        },
        "id": "nkSYvubA5500",
        "outputId": "16e11352-f757-4502-939f-e69c0cd5f047"
      },
      "execution_count": null,
      "outputs": [
        {
          "output_type": "stream",
          "name": "stdout",
          "text": [
            "True\n"
          ]
        }
      ]
    },
    {
      "cell_type": "markdown",
      "source": [
        "# Short Quiz:\n",
        "\n",
        "\n",
        "What will be the output of the following"
      ],
      "metadata": {
        "id": "9dPWFhKPk-RF"
      }
    },
    {
      "cell_type": "code",
      "source": [
        "a = 30\n",
        "b = 20\n",
        "c = -1\n",
        "d = 3\n"
      ],
      "metadata": {
        "id": "C62uLvAnlFhC"
      },
      "execution_count": null,
      "outputs": []
    },
    {
      "cell_type": "code",
      "source": [
        "print(a/d+b*c)"
      ],
      "metadata": {
        "colab": {
          "base_uri": "https://localhost:8080/"
        },
        "id": "WAXT78sflFoB",
        "outputId": "c4dc70dc-486e-46af-a769-c01876ce1a5e"
      },
      "execution_count": null,
      "outputs": [
        {
          "output_type": "stream",
          "name": "stdout",
          "text": [
            "-10.0\n"
          ]
        }
      ]
    },
    {
      "cell_type": "code",
      "source": [
        "print(b*c%d)"
      ],
      "metadata": {
        "colab": {
          "base_uri": "https://localhost:8080/"
        },
        "id": "rgHZuB_ylFsT",
        "outputId": "f3ea76df-bd25-45fe-d776-fc4c147544cf"
      },
      "execution_count": null,
      "outputs": [
        {
          "output_type": "stream",
          "name": "stdout",
          "text": [
            "1\n"
          ]
        }
      ]
    },
    {
      "cell_type": "code",
      "source": [
        "print(a/b < b/c)"
      ],
      "metadata": {
        "colab": {
          "base_uri": "https://localhost:8080/"
        },
        "id": "c2ljXfwBlV8H",
        "outputId": "0fea2fd0-217e-4922-a1c1-ab6eccce1f53"
      },
      "execution_count": null,
      "outputs": [
        {
          "output_type": "stream",
          "name": "stdout",
          "text": [
            "False\n"
          ]
        }
      ]
    },
    {
      "cell_type": "markdown",
      "source": [
        "## Strings and String Formatting"
      ],
      "metadata": {
        "id": "miKzZSP8yxZJ"
      }
    },
    {
      "cell_type": "code",
      "source": [
        "my_string = \"Hello\" + \" World!\" # Notice the space in the string literal\n",
        "print(my_string)\n",
        "\n",
        "my_introduction = \"Hello, I am x years old!\"\n",
        "\n",
        "my_age = 25\n",
        "my_introduction = f\"I am {my_age} years old!\"\n",
        "print(my_introduction)\n",
        "\n",
        "tutorial_left = 2.6625\n",
        "time_left_string = f\"There are {tutorial_left:.2f} hours left in this tutorial.\"\n",
        "print(time_left_string)\n",
        "\n",
        "print('----')\n",
        "line_string = \"\"\"\n",
        "\n",
        "This is a big string with a line at the end\n",
        "\n",
        "\n",
        "\"\"\"\n",
        "print(\"String before formatting:\", line_string)\n",
        "print(\"String after stripping:\", line_string.strip())\n",
        "\n",
        "# Optional: Check out the format() method for strings. It is more preferable than f-strings in a few cases"
      ],
      "metadata": {
        "colab": {
          "base_uri": "https://localhost:8080/"
        },
        "id": "zny75L_60Fqc",
        "outputId": "77fcbec8-4225-40eb-d68b-e10789ee885f"
      },
      "execution_count": null,
      "outputs": [
        {
          "output_type": "stream",
          "name": "stdout",
          "text": [
            "Hello World!\n",
            "I am 25 years old!\n",
            "There are 2.66 hours left in this tutorial.\n",
            "----\n",
            "String before formatting: \n",
            "\n",
            "This is a big string with a line at the end\n",
            "\n",
            "\n",
            "\n",
            "String after stripping: This is a big string with a line at the end\n"
          ]
        }
      ]
    },
    {
      "cell_type": "markdown",
      "source": [
        "Short Quiz:\n",
        "\n",
        "\n",
        "How would you accomplish these:\n",
        "\n",
        "\n",
        "- \n",
        "\n",
        "-\n"
      ],
      "metadata": {
        "id": "_zOvUH0RluOh"
      }
    },
    {
      "cell_type": "code",
      "source": [
        "a = 1.23452384053\n",
        "# Print the above variable clipped off to 3 decimal places\n",
        "\n",
        "# Input:  a = 1.23452384053, b = 8.2433235, c = 9.3423445.\n",
        "\"\"\"\n",
        "\n",
        "Output:\n",
        "\n",
        "Number a is 1.23\n",
        "NUmber b is 8.24\n",
        "Number b is 9.34\n",
        "Sum of the numbers is ...(rounded to 3 places)\n",
        "\"\"\""
      ],
      "metadata": {
        "id": "DKmkAe3Ml3S0"
      },
      "execution_count": null,
      "outputs": []
    },
    {
      "cell_type": "markdown",
      "source": [
        "\n",
        "## Collections - Lists, Tuples, and Sets"
      ],
      "metadata": {
        "id": "olKLqu5hy30W"
      }
    },
    {
      "cell_type": "code",
      "source": [
        "# Lists - ordered, mutable, allow duplicate values\n",
        "\n",
        "compounds = [\"Methane\", \"Ethane\", \"Acetylene\", \"Methane\"]\n",
        "print(type(compounds))\n",
        "\n",
        "print(f\"The first compound is {compounds[0]}.\")\n",
        "compounds[0] = \"Ethene\"\n",
        "print(f\"The first compound is now {compounds[0]}.\")\n",
        "print(f\"The last compound is {compounds[-1]}.\")\n",
        "\n",
        "compounds.append(\"Formic Acid\")\n",
        "print(f\"List after appending: {compounds}\")\n",
        "\n",
        "compounds.insert(2, \"Propane\")\n",
        "print(f\"List after inserting at index: {compounds}\")\n",
        "\n",
        "compounds.remove(\"Formic Acid\")\n",
        "print(f\"List after removing: {compounds}\")\n",
        "\n",
        "compounds.pop(2)\n",
        "print(f\"List after removing element at index: {compounds}\")\n",
        "\n",
        "print()\n",
        "\n",
        "# Some important List operations\n",
        "print(f\"We have {len(compounds)} compounds.\") # len() function returns the number of items a list has\n",
        "\n",
        "print(\"Looping through all compounds\")\n",
        "for compound in compounds: # Loop through the items in the list\n",
        "  print(compound)\n",
        "\n",
        "print()\n",
        "\n",
        "# List Slicing\n",
        "print(f\"The first 3 compounds are {compounds[:3]}.\")\n",
        "\n",
        "print()\n",
        "\n",
        "compounds.sort()\n",
        "print(f\"List after sorting: {compounds}\")\n",
        "\n",
        "print(f\"All the compounds are: {','.join(compounds)}.\")\n",
        "\n",
        "compounds.clear()\n",
        "print(f\"List after clearing: {compounds}\")"
      ],
      "metadata": {
        "colab": {
          "base_uri": "https://localhost:8080/"
        },
        "id": "6BEFmifHy8za",
        "outputId": "a86a7b26-e11e-4636-9136-2bf96c6a707c"
      },
      "execution_count": null,
      "outputs": [
        {
          "output_type": "stream",
          "name": "stdout",
          "text": [
            "<class 'list'>\n",
            "The first compound is Methane.\n",
            "The first compound is now Ethene.\n",
            "The last compound is Methane.\n",
            "List after appending: ['Ethene', 'Ethane', 'Acetylene', 'Methane', 'Formic Acid']\n",
            "List after inserting at index: ['Ethene', 'Ethane', 'Propane', 'Acetylene', 'Methane', 'Formic Acid']\n",
            "List after removing: ['Ethene', 'Ethane', 'Propane', 'Acetylene', 'Methane']\n",
            "List after removing element at index: ['Ethene', 'Ethane', 'Acetylene', 'Methane']\n",
            "\n",
            "We have 4 compounds.\n",
            "Looping through all compounds\n",
            "Ethene\n",
            "Ethane\n",
            "Acetylene\n",
            "Methane\n",
            "\n",
            "The first 3 compounds are ['Ethene', 'Ethane', 'Acetylene'].\n",
            "\n",
            "List after sorting: ['Acetylene', 'Ethane', 'Ethene', 'Methane']\n",
            "All the compounds are: Acetylene,Ethane,Ethene,Methane\n",
            "List after clearing: []\n"
          ]
        }
      ]
    },
    {
      "cell_type": "markdown",
      "source": [
        "## Short Quiz"
      ],
      "metadata": {
        "id": "iP4kF-DCteuT"
      }
    },
    {
      "cell_type": "code",
      "source": [
        "\"\"\"\n",
        "1. Define a list of unique numbers, and delete the smallest number from the list. \n",
        "2. Define a list of unique random numbers, and retrieve the largest number. Append, number+1 to the list \n",
        "3. Get the median of a list of numbers from a list. \n",
        "\n",
        "\"\"\""
      ],
      "metadata": {
        "id": "lmSfj9Q_HmIP"
      },
      "execution_count": null,
      "outputs": []
    },
    {
      "cell_type": "code",
      "source": [
        "# Tuples - ordered, immmutable, allow duplicate values\n",
        "\n",
        "compounds = (\"Methane\", \"Ethane\", \"Acetylene\")\n",
        "print(type(compounds))\n",
        "\n",
        "print(f\"The first compound is {compounds[0]}.\")\n",
        "print(f\"The last compound is {compounds[-1]}.\")\n",
        "compounds[0] = \"Ethene\" # This will not work since you cannot change values in a tuple"
      ],
      "metadata": {
        "colab": {
          "base_uri": "https://localhost:8080/",
          "height": 263
        },
        "id": "DK2s-baAGaQU",
        "outputId": "04b861b4-2345-46db-e5f2-29c929fd6acf"
      },
      "execution_count": null,
      "outputs": [
        {
          "output_type": "stream",
          "name": "stdout",
          "text": [
            "<class 'tuple'>\n",
            "The first compound is Methane.\n",
            "The last compound is Acetylene.\n"
          ]
        },
        {
          "output_type": "error",
          "ename": "TypeError",
          "evalue": "ignored",
          "traceback": [
            "\u001b[0;31m---------------------------------------------------------------------------\u001b[0m",
            "\u001b[0;31mTypeError\u001b[0m                                 Traceback (most recent call last)",
            "\u001b[0;32m<ipython-input-9-6ec68d845523>\u001b[0m in \u001b[0;36m<module>\u001b[0;34m()\u001b[0m\n\u001b[1;32m      6\u001b[0m \u001b[0mprint\u001b[0m\u001b[0;34m(\u001b[0m\u001b[0;34mf\"The first compound is {compounds[0]}.\"\u001b[0m\u001b[0;34m)\u001b[0m\u001b[0;34m\u001b[0m\u001b[0;34m\u001b[0m\u001b[0m\n\u001b[1;32m      7\u001b[0m \u001b[0mprint\u001b[0m\u001b[0;34m(\u001b[0m\u001b[0;34mf\"The last compound is {compounds[-1]}.\"\u001b[0m\u001b[0;34m)\u001b[0m\u001b[0;34m\u001b[0m\u001b[0;34m\u001b[0m\u001b[0m\n\u001b[0;32m----> 8\u001b[0;31m \u001b[0mcompounds\u001b[0m\u001b[0;34m[\u001b[0m\u001b[0;36m0\u001b[0m\u001b[0;34m]\u001b[0m \u001b[0;34m=\u001b[0m \u001b[0;34m\"Ethene\"\u001b[0m \u001b[0;31m# This will not work since you cannot change values in a tuple\u001b[0m\u001b[0;34m\u001b[0m\u001b[0;34m\u001b[0m\u001b[0m\n\u001b[0m",
            "\u001b[0;31mTypeError\u001b[0m: 'tuple' object does not support item assignment"
          ]
        }
      ]
    },
    {
      "cell_type": "code",
      "source": [
        "# Sets - unordered, immutable (individual entries), do not allow duplicate values\n",
        "\n",
        "empty_set = set()\n",
        "print(empty_set)\n",
        "\n",
        "compounds = {\"Methane\", \"Ethane\", \"Acetylene\", \"Methane\"}\n",
        "print(compounds, type(compounds))\n",
        "\n",
        "compounds.add(\"Formic Acid\")\n",
        "print(f\"Set after addition: {compounds}\")\n",
        "\n",
        "compounds.add(\"Formic Acid\")\n",
        "print(f\"Set after attempted addition: {compounds}\")"
      ],
      "metadata": {
        "colab": {
          "base_uri": "https://localhost:8080/"
        },
        "id": "5MoVLiz5IKor",
        "outputId": "c197f525-4c87-49c3-a6de-4438cbeb3ace"
      },
      "execution_count": null,
      "outputs": [
        {
          "output_type": "stream",
          "name": "stdout",
          "text": [
            "set()\n",
            "{'Acetylene', 'Ethane', 'Methane'} <class 'set'>\n",
            "Set after addition: {'Acetylene', 'Formic Acid', 'Ethane', 'Methane'}\n",
            "Set after attempted addition: {'Acetylene', 'Formic Acid', 'Ethane', 'Methane'}\n"
          ]
        }
      ]
    },
    {
      "cell_type": "markdown",
      "source": [
        "## Collections - Dictionaries"
      ],
      "metadata": {
        "id": "HbDVym4Vy-WH"
      }
    },
    {
      "cell_type": "code",
      "source": [
        "# Dictionaries - ordered, mutable, do not allow duplicate values\n",
        "\n",
        "element = {\n",
        "    \"symbol\": \"C\",\n",
        "    \"atomic_number\": 6,\n",
        "    }\n",
        "\n",
        "print(type(element))\n",
        "print(f\"The symbol of the element is: {element['symbol']}\")\n",
        "\n",
        "print()\n",
        "\n",
        "print(f\"The keys of the dictionary are: {element.keys()}\")\n",
        "print(f\"The values of the dictionary are: {element.values()}\")"
      ],
      "metadata": {
        "colab": {
          "base_uri": "https://localhost:8080/"
        },
        "id": "CNaGej-E0Gmz",
        "outputId": "80a7656b-dda9-4ca6-cd50-a8207b80055b"
      },
      "execution_count": null,
      "outputs": [
        {
          "output_type": "stream",
          "name": "stdout",
          "text": [
            "<class 'dict'>\n",
            "The symbol of the element is: C\n",
            "\n",
            "The keys of the dictionary are: dict_keys(['symbol', 'atomic_number'])\n",
            "The values of the dictionary are: dict_values(['C', 6])\n"
          ]
        }
      ]
    },
    {
      "cell_type": "code",
      "source": [
        "## Short Quiz"
      ],
      "metadata": {
        "id": "eEU8cRK5If-8"
      },
      "execution_count": null,
      "outputs": []
    },
    {
      "cell_type": "code",
      "source": [
        "\"\"\"\n",
        "1. Given a set, construct a map from element to index, and index to element\n",
        "\n",
        "\"\"\""
      ],
      "metadata": {
        "id": "qokxGpROImsq"
      },
      "execution_count": null,
      "outputs": []
    },
    {
      "cell_type": "markdown",
      "source": [
        "\n",
        "\n",
        "```\n",
        "# This is formatted as code\n",
        "```\n",
        "\n",
        "## Conditional Statements"
      ],
      "metadata": {
        "id": "n81VA6qfzLxb"
      }
    },
    {
      "cell_type": "code",
      "source": [
        "var_1 = 5\n",
        "var_2 = 10\n",
        "\n",
        "if var_1 < var_2 :\n",
        "  print(f\"The first variable({var_1}) is less than the second variable({var_2})\")\n",
        "elif var_1 == var_2:\n",
        "  print(f\"The first variable({var_1}) is equal to the second variable({var_2})\")\n",
        "else:\n",
        "  print(f\"The first variable({var_1}) is greater than the second variable({var_2})\")\n",
        "\n",
        "print()\n",
        "\n",
        "# Logical operators like `and` and `or` combine conditional statements\n",
        "if var_1 < var_2 and var_1 == 5:\n",
        "  print(f\"The first variable({var_1}) is less than the second variable({var_2}) and the first variable is equal to 5\")\n",
        "\n",
        "# Nested if loops\n"
      ],
      "metadata": {
        "colab": {
          "base_uri": "https://localhost:8080/"
        },
        "id": "9QS7dzEQ0G6_",
        "outputId": "4f9c4673-864d-43d8-c85b-e7c6abbc6820"
      },
      "execution_count": null,
      "outputs": [
        {
          "output_type": "stream",
          "name": "stdout",
          "text": [
            "The first variable(5) is less than the second variable(10)\n",
            "\n",
            "The first variable(5) is less than the second variable(10) and the first variable is equal to 5\n"
          ]
        }
      ]
    },
    {
      "cell_type": "markdown",
      "source": [
        "## Short Quiz\n",
        "\n"
      ],
      "metadata": {
        "id": "b1bAkmiTI0Fx"
      }
    },
    {
      "cell_type": "code",
      "source": [
        "\"\"\"\n",
        "\n",
        "What is the output of the following:\n",
        "\n",
        "a = 5, b = 10, c = 15\n",
        "\n",
        "result = (a+b is c and a > b)\n",
        "\n",
        "print(result)\n",
        "\n",
        "\n",
        "\"\"\""
      ],
      "metadata": {
        "id": "DF_LhIhpI15n"
      },
      "execution_count": null,
      "outputs": []
    },
    {
      "cell_type": "markdown",
      "source": [
        "## Loops"
      ],
      "metadata": {
        "id": "6jiEAu4zzWi0"
      }
    },
    {
      "cell_type": "code",
      "source": [
        "# A while-loop runs as long as a conditional statement (or multiple combined statements) are true\n",
        "atomic_num = 1\n",
        "while atomic_num < 10: # This while-loop runs as long as `atomic_num` is less than 10\n",
        "  print(atomic_num)\n",
        "  atomic_num += 1\n",
        "\n",
        "print()\n",
        "\n",
        "print(\"While loop with break, continue statements\")\n",
        "atomic_num = 0\n",
        "while atomic_num < 10: # This while-loop runs as long as `atomic_num` is less than 10\n",
        "  if atomic_num == 7:\n",
        "    break              # You can break the while loop even when the original condition is true\n",
        "\n",
        "  atomic_num += 1\n",
        "  if atomic_num == 5:\n",
        "    continue           # You can skip the remaining part of the code in the while-loop\n",
        "\n",
        "  print(atomic_num)\n",
        "\n"
      ],
      "metadata": {
        "colab": {
          "base_uri": "https://localhost:8080/"
        },
        "id": "n-1VY2qX0HWq",
        "outputId": "e5eb8967-d43b-4ce0-e14e-3883f469a90c"
      },
      "execution_count": null,
      "outputs": [
        {
          "output_type": "stream",
          "name": "stdout",
          "text": [
            "1\n",
            "2\n",
            "3\n",
            "4\n",
            "5\n",
            "6\n",
            "7\n",
            "8\n",
            "9\n",
            "\n",
            "While loop with break, continue statements\n",
            "1\n",
            "2\n",
            "3\n",
            "4\n",
            "6\n",
            "7\n"
          ]
        }
      ]
    },
    {
      "cell_type": "code",
      "source": [
        "# a for-loop is used to iterate over any sequence or collection. This is different from the `for` keyword in programming languages like C/C++\n",
        "\n",
        "compounds = [\"Methane\", \"Ethane\", \"Acetylene\", \"Methane\"]\n",
        "for compound in compounds:\n",
        "  print(compound)\n",
        "\n",
        "print()\n",
        "for letter in \"AI4DD\":\n",
        "  if letter == '4':\n",
        "    continue\n",
        "  print(letter)\n",
        "\n",
        "print()\n",
        "print(\"For loop with range, break, continue statements\")\n",
        "for atomic_num in range(10): # This for-loop iterates `atomic_num` through all the elements in `range(10)`\n",
        "  if atomic_num == 7:\n",
        "    break              # You can break the for loop even when the original condition is true\n",
        "\n",
        "  atomic_num += 1\n",
        "  if atomic_num == 5:\n",
        "    continue           # You can skip the remaining part of the code in the for-loop\n",
        "\n",
        "  print(atomic_num)"
      ],
      "metadata": {
        "colab": {
          "base_uri": "https://localhost:8080/"
        },
        "id": "dxKML9DHQHrb",
        "outputId": "252db111-fba9-45fc-d5a4-4baf4dd3a907"
      },
      "execution_count": null,
      "outputs": [
        {
          "output_type": "stream",
          "name": "stdout",
          "text": [
            "Methane\n",
            "Ethane\n",
            "Acetylene\n",
            "Methane\n",
            "\n",
            "A\n",
            "I\n",
            "D\n",
            "D\n",
            "\n",
            "For loop with range, break, continue statements\n",
            "1\n",
            "2\n",
            "3\n",
            "4\n",
            "6\n",
            "7\n"
          ]
        }
      ]
    },
    {
      "cell_type": "code",
      "source": [
        "# Task: Write a loop to print the sum of first N natural numbers\n",
        "\n",
        "# n = 5; Output = 15"
      ],
      "metadata": {
        "id": "EYBvJL0ytkM4"
      },
      "execution_count": null,
      "outputs": []
    },
    {
      "cell_type": "code",
      "source": [
        "# Task: Write a loop to print the product of first N negative numbers\n",
        "\n",
        "# n = 5; Output = -120"
      ],
      "metadata": {
        "id": "rmOIppfUt0NZ"
      },
      "execution_count": null,
      "outputs": []
    },
    {
      "cell_type": "code",
      "source": [
        "# Task: Print the following patterns with any loop(s) of your choice\n",
        "\n",
        "\"\"\"\n",
        "1\n",
        "12\n",
        "123\n",
        "1234\n",
        "12345\n",
        "\"\"\"\n",
        "\n"
      ],
      "metadata": {
        "colab": {
          "base_uri": "https://localhost:8080/",
          "height": 35
        },
        "id": "yi_3JKoYQIeZ",
        "outputId": "4c63fe2b-7ce3-4416-d22a-001627998f64"
      },
      "execution_count": null,
      "outputs": [
        {
          "output_type": "execute_result",
          "data": {
            "text/plain": [
              "'\\n*\\n**\\n*\\n**\\n***\\n*\\n**\\n***\\n****\\n*\\n**\\n***\\n****\\n*****\\n'"
            ],
            "application/vnd.google.colaboratory.intrinsic+json": {
              "type": "string"
            }
          },
          "metadata": {},
          "execution_count": 15
        }
      ]
    },
    {
      "cell_type": "markdown",
      "source": [
        "## Functions"
      ],
      "metadata": {
        "id": "atM5u9UOzbuh"
      }
    },
    {
      "cell_type": "code",
      "source": [
        "def elaborate_element():\n",
        "  print(\"This is a line from a function\")\n",
        "\n",
        "elaborate_element()"
      ],
      "metadata": {
        "colab": {
          "base_uri": "https://localhost:8080/"
        },
        "id": "xeuWYdM-yzGJ",
        "outputId": "64f37481-96d8-4e51-d211-194bcd2baf74"
      },
      "execution_count": null,
      "outputs": [
        {
          "output_type": "stream",
          "name": "stdout",
          "text": [
            "This is a line from a function\n"
          ]
        }
      ]
    },
    {
      "cell_type": "code",
      "source": [
        "def elaborate_element(elem_name, atomic_num):\n",
        "  print(f\"The element {elem_name} has the atomic number {atomic_num}.\")\n",
        "\n",
        "elaborate_element(\"H\", 1)\n",
        "elaborate_element(\"He\", 2)"
      ],
      "metadata": {
        "colab": {
          "base_uri": "https://localhost:8080/"
        },
        "id": "cwkHHYpBSM57",
        "outputId": "66c0c498-67e3-491f-b50d-3411bcd757ed"
      },
      "execution_count": null,
      "outputs": [
        {
          "output_type": "stream",
          "name": "stdout",
          "text": [
            "The element H has the atomic number 1.\n",
            "The element He has the atomic number 2.\n"
          ]
        }
      ]
    },
    {
      "cell_type": "code",
      "source": [
        "def elaborate_element(elem_name, atomic_num):\n",
        "  print(f\"The element {elem_name} has the atomic number {atomic_num}.\")\n",
        "\n",
        "elaborate_element(elem_name = \"H\", atomic_num = 1)"
      ],
      "metadata": {
        "colab": {
          "base_uri": "https://localhost:8080/"
        },
        "id": "K7QsLGSlUM_G",
        "outputId": "f146bc31-21ed-401d-c192-351bb2339af0"
      },
      "execution_count": null,
      "outputs": [
        {
          "output_type": "stream",
          "name": "stdout",
          "text": [
            "The element H has the atomic number 1.\n"
          ]
        }
      ]
    },
    {
      "cell_type": "code",
      "source": [
        "def element_properties(*properties):\n",
        "  print(\"The properties of the element are:\")\n",
        "  for each_property in properties:\n",
        "    print(each_property)\n",
        "\n",
        "element_properties(1, \"H\", \"Non Metal\")"
      ],
      "metadata": {
        "colab": {
          "base_uri": "https://localhost:8080/"
        },
        "id": "t3uYYUHlUllc",
        "outputId": "780522eb-39da-4776-e77e-fb11e95e37eb"
      },
      "execution_count": null,
      "outputs": [
        {
          "output_type": "stream",
          "name": "stdout",
          "text": [
            "The properties of the element are:\n",
            "1\n",
            "H\n",
            "Non Metal\n"
          ]
        }
      ]
    },
    {
      "cell_type": "code",
      "source": [
        "# Task: \n",
        "\n",
        "\"\"\"\n",
        "\n",
        "Write a function named \"calculator\" that takes in 2 numbers and an operation as a string, and returns the result. \n",
        "Eg:\n",
        "\n",
        "a = calculator(1,2,\"add\")\n",
        "b = calculator(3,2,\"subtract\")\n",
        "c = calculator(3,2,\"multiply\")\n",
        "d = calculator(3,2,\"divide\")\n",
        "\n",
        "\"\"\""
      ],
      "metadata": {
        "id": "PZhc5HKduOcw"
      },
      "execution_count": null,
      "outputs": []
    },
    {
      "cell_type": "code",
      "source": [
        "# Task: \n",
        "\n",
        "\"\"\"\n",
        "\n",
        "Write a function that takes in a number and returns a factorial of the number.\n",
        "Eg:\n",
        "\n",
        "result = factorial(5)\n",
        "\n",
        "Output: 120 (1*2*3*4*5)\n",
        "\n",
        "\"\"\""
      ],
      "metadata": {
        "id": "C0X0A0WIKbG7"
      },
      "execution_count": null,
      "outputs": []
    },
    {
      "cell_type": "markdown",
      "source": [
        "## Scopes"
      ],
      "metadata": {
        "id": "Mx3hOrXLG5CS"
      }
    },
    {
      "cell_type": "code",
      "source": [
        "x = 300\n",
        "\n",
        "def myfunc():\n",
        "  x = 200\n",
        "  print(x)\n",
        "\n",
        "myfunc()\n",
        "\n",
        "print(x)"
      ],
      "metadata": {
        "colab": {
          "base_uri": "https://localhost:8080/"
        },
        "id": "VA2MqenQFQtb",
        "outputId": "a33debfa-4816-46fc-cd2a-fb7af525cf2f"
      },
      "execution_count": null,
      "outputs": [
        {
          "output_type": "stream",
          "name": "stdout",
          "text": [
            "200\n",
            "300\n"
          ]
        }
      ]
    },
    {
      "cell_type": "code",
      "source": [
        "def myfunc():\n",
        "  global x\n",
        "  x = 500\n",
        "\n",
        "myfunc()\n",
        "\n",
        "print(x)"
      ],
      "metadata": {
        "colab": {
          "base_uri": "https://localhost:8080/"
        },
        "id": "ofZd44_DHDV6",
        "outputId": "f6e91a3e-eab1-4165-ed2f-02865f578b05"
      },
      "execution_count": null,
      "outputs": [
        {
          "output_type": "stream",
          "name": "stdout",
          "text": [
            "500\n"
          ]
        }
      ]
    },
    {
      "cell_type": "markdown",
      "source": [
        "## Lambda Functions and Enumerate in python\n",
        "\n",
        "Lambda functions are anonymous functions which are often used for callbacks and passing functions as argument"
      ],
      "metadata": {
        "id": "9J3IblqIHb0D"
      }
    },
    {
      "cell_type": "code",
      "source": [
        "fun1 = lambda a : a*a\n",
        "fun1(5)"
      ],
      "metadata": {
        "colab": {
          "base_uri": "https://localhost:8080/"
        },
        "id": "FftfjpkNHHI1",
        "outputId": "17ceffe3-0cc8-4378-be09-2b52c99d3185"
      },
      "execution_count": null,
      "outputs": [
        {
          "output_type": "execute_result",
          "data": {
            "text/plain": [
              "25"
            ]
          },
          "metadata": {},
          "execution_count": 30
        }
      ]
    },
    {
      "cell_type": "code",
      "source": [
        "def functionMaker(m):\n",
        "  return lambda x: x*m"
      ],
      "metadata": {
        "id": "KK6Wa8gVIAgh"
      },
      "execution_count": null,
      "outputs": []
    },
    {
      "cell_type": "code",
      "source": [
        "multipliers = [functionMaker(i) for i in range(2, 6)] "
      ],
      "metadata": {
        "id": "PORjiA-1IILr"
      },
      "execution_count": null,
      "outputs": []
    },
    {
      "cell_type": "code",
      "source": [
        "for fun in multipliers:\n",
        "  print(fun(2))"
      ],
      "metadata": {
        "colab": {
          "base_uri": "https://localhost:8080/"
        },
        "id": "KBPMWMo3IPcm",
        "outputId": "e41ba1f3-dd2d-4e59-9773-ccf705b83e78"
      },
      "execution_count": null,
      "outputs": [
        {
          "output_type": "stream",
          "name": "stdout",
          "text": [
            "4\n",
            "6\n",
            "8\n",
            "10\n"
          ]
        }
      ]
    },
    {
      "cell_type": "code",
      "source": [
        "# We might also need to know which index of the array of functions is actually operating on the \n",
        "# input value. For that we can use the enumerate function"
      ],
      "metadata": {
        "id": "27QUH0MYJQiD"
      },
      "execution_count": null,
      "outputs": []
    },
    {
      "cell_type": "code",
      "source": [
        "for idx, fun in enumerate(multipliers):\n",
        "  print(\"Function number {} outputs value {} after operating on {}\".format(idx, fun(2), 2))"
      ],
      "metadata": {
        "colab": {
          "base_uri": "https://localhost:8080/"
        },
        "id": "rXGBtwbjJnS1",
        "outputId": "66c1ffb8-9fa3-41ed-f0ab-7ca56ce4c41e"
      },
      "execution_count": null,
      "outputs": [
        {
          "output_type": "stream",
          "name": "stdout",
          "text": [
            "Function number 0 outputs value 4 after operating on 2\n",
            "Function number 1 outputs value 6 after operating on 2\n",
            "Function number 2 outputs value 8 after operating on 2\n",
            "Function number 3 outputs value 10 after operating on 2\n"
          ]
        }
      ]
    },
    {
      "cell_type": "markdown",
      "source": [
        "## Sorting using Keys"
      ],
      "metadata": {
        "id": "wTsZG6y5R4Ej"
      }
    },
    {
      "cell_type": "code",
      "source": [
        "my_array = []\n",
        "\n",
        "letters = [\"A\", \"B\", \"CG\", \"D\", \"5D\", \"9\"]\n",
        "\n",
        "for _ in range(25):\n",
        "  my_array.append((np.random.choice(letters), np.random.choice(9)))\n",
        "\n"
      ],
      "metadata": {
        "id": "p-ACTEXHOjl8"
      },
      "execution_count": null,
      "outputs": []
    },
    {
      "cell_type": "code",
      "source": [
        "sorted(my_array)[:10]"
      ],
      "metadata": {
        "colab": {
          "base_uri": "https://localhost:8080/"
        },
        "id": "Gz8q44G7Q4Jr",
        "outputId": "b98d010f-b7b8-4a68-e82d-22da3f245e36"
      },
      "execution_count": null,
      "outputs": [
        {
          "output_type": "execute_result",
          "data": {
            "text/plain": [
              "[('5D', 0),\n",
              " ('5D', 1),\n",
              " ('5D', 4),\n",
              " ('5D', 4),\n",
              " ('5D', 7),\n",
              " ('9', 1),\n",
              " ('9', 5),\n",
              " ('9', 5),\n",
              " ('9', 6),\n",
              " ('A', 1)]"
            ]
          },
          "metadata": {},
          "execution_count": 37
        }
      ]
    },
    {
      "cell_type": "markdown",
      "source": [
        "## Giving key in such a way that preceding numbers have a smaller key value than those which are further away. \n",
        "\n",
        "We can query the ascii value of a string letter using the `ord()` method"
      ],
      "metadata": {
        "id": "g0XIpu83TGsr"
      }
    },
    {
      "cell_type": "code",
      "source": [
        "sorted(my_array, key=lambda x: 1000*len(x[0]) + ord(x[0][0]))[:10]"
      ],
      "metadata": {
        "colab": {
          "base_uri": "https://localhost:8080/"
        },
        "id": "Mze9DDlkRtzi",
        "outputId": "8b4506a6-4c82-43f6-ed0b-08f2ed6ce830"
      },
      "execution_count": null,
      "outputs": [
        {
          "output_type": "execute_result",
          "data": {
            "text/plain": [
              "[('9', 6),\n",
              " ('9', 1),\n",
              " ('9', 5),\n",
              " ('9', 5),\n",
              " ('A', 7),\n",
              " ('A', 2),\n",
              " ('A', 8),\n",
              " ('A', 1),\n",
              " ('B', 1),\n",
              " ('D', 5)]"
            ]
          },
          "metadata": {},
          "execution_count": 38
        }
      ]
    },
    {
      "cell_type": "markdown",
      "source": [
        "## Exception Handling in python"
      ],
      "metadata": {
        "id": "85TW8iM-Tw85"
      }
    },
    {
      "cell_type": "code",
      "source": [
        "try:\n",
        "  f = open(\"This File dont exist. mp4\", \"rb\")\n",
        "except Exception as e:\n",
        "  print(\"We got the error : {}\".format(e))\n",
        "  print(e.__class__.__name__)\n",
        "else:\n",
        "  print(\"No error was found\")\n",
        "finally:\n",
        "  print(\"This gets executed regardless of the fact that exception gets raised or not\")"
      ],
      "metadata": {
        "colab": {
          "base_uri": "https://localhost:8080/"
        },
        "id": "9v4HLlxdSG4w",
        "outputId": "e8a00e88-6b0e-46a5-9471-72c5962bfef9"
      },
      "execution_count": null,
      "outputs": [
        {
          "output_type": "stream",
          "name": "stdout",
          "text": [
            "We got the error : [Errno 2] No such file or directory: 'This File dont exist. mp4'\n",
            "FileNotFoundError\n",
            "This gets executed regardless of the fact that exception gets raised or not\n"
          ]
        }
      ]
    },
    {
      "cell_type": "markdown",
      "source": [
        "## Classes, Objects and Inheritance"
      ],
      "metadata": {
        "id": "_pR6EMyj5gJ2"
      }
    },
    {
      "cell_type": "code",
      "source": [
        "class Polygon:\n",
        "\n",
        "  def __init__(self, num_sides : int):\n",
        "    self.n = num_sides\n",
        "    self.sides = [None] * self.n\n",
        "  \n",
        "  def set_sides(self, sides_array) -> None:\n",
        "    assert len(sides_array) == self.n, \"Number of sides not equal to that of the polygon\"\n",
        "    self.sides = sides_array\n",
        "\n",
        "  def get_sides(self) -> list:\n",
        "    return self.sides\n",
        "\n",
        "# Task: Raise an error if the input to the init of the function Polygon is\n",
        "# invalid i.e num_sides should be valid "
      ],
      "metadata": {
        "id": "hw0WfcXS5sdu"
      },
      "execution_count": null,
      "outputs": []
    },
    {
      "cell_type": "code",
      "source": [
        "p1 = Polygon(5)\n",
        "p1.set_sides([2, 3, 4, 5, 6])\n",
        "#Goes Through\n",
        "\n",
        "\n",
        "p1.set_sides([1, 2, 3, 4, 5, 6])\n",
        "# Would throw an assertion error"
      ],
      "metadata": {
        "colab": {
          "base_uri": "https://localhost:8080/",
          "height": 355
        },
        "id": "yJBU8dtX8_j2",
        "outputId": "b0985bd6-a712-4980-ddba-ad72ab4c8e76"
      },
      "execution_count": null,
      "outputs": [
        {
          "output_type": "error",
          "ename": "AssertionError",
          "evalue": "ignored",
          "traceback": [
            "\u001b[0;31m---------------------------------------------------------------------------\u001b[0m",
            "\u001b[0;31mAssertionError\u001b[0m                            Traceback (most recent call last)",
            "\u001b[0;32m<ipython-input-21-38f12932e4e6>\u001b[0m in \u001b[0;36m<module>\u001b[0;34m()\u001b[0m\n\u001b[1;32m      4\u001b[0m \u001b[0;34m\u001b[0m\u001b[0m\n\u001b[1;32m      5\u001b[0m \u001b[0;34m\u001b[0m\u001b[0m\n\u001b[0;32m----> 6\u001b[0;31m \u001b[0mp1\u001b[0m\u001b[0;34m.\u001b[0m\u001b[0mset_sides\u001b[0m\u001b[0;34m(\u001b[0m\u001b[0;34m[\u001b[0m\u001b[0;36m1\u001b[0m\u001b[0;34m,\u001b[0m \u001b[0;36m2\u001b[0m\u001b[0;34m,\u001b[0m \u001b[0;36m3\u001b[0m\u001b[0;34m,\u001b[0m \u001b[0;36m4\u001b[0m\u001b[0;34m,\u001b[0m \u001b[0;36m5\u001b[0m\u001b[0;34m,\u001b[0m \u001b[0;36m6\u001b[0m\u001b[0;34m]\u001b[0m\u001b[0;34m)\u001b[0m\u001b[0;34m\u001b[0m\u001b[0;34m\u001b[0m\u001b[0m\n\u001b[0m\u001b[1;32m      7\u001b[0m \u001b[0;31m# Would throw an assertion error\u001b[0m\u001b[0;34m\u001b[0m\u001b[0;34m\u001b[0m\u001b[0;34m\u001b[0m\u001b[0m\n",
            "\u001b[0;32m<ipython-input-20-482877b048de>\u001b[0m in \u001b[0;36mset_sides\u001b[0;34m(self, sides_array)\u001b[0m\n\u001b[1;32m      6\u001b[0m \u001b[0;34m\u001b[0m\u001b[0m\n\u001b[1;32m      7\u001b[0m   \u001b[0;32mdef\u001b[0m \u001b[0mset_sides\u001b[0m\u001b[0;34m(\u001b[0m\u001b[0mself\u001b[0m\u001b[0;34m,\u001b[0m \u001b[0msides_array\u001b[0m\u001b[0;34m)\u001b[0m \u001b[0;34m->\u001b[0m \u001b[0;32mNone\u001b[0m\u001b[0;34m:\u001b[0m\u001b[0;34m\u001b[0m\u001b[0;34m\u001b[0m\u001b[0m\n\u001b[0;32m----> 8\u001b[0;31m     \u001b[0;32massert\u001b[0m \u001b[0mlen\u001b[0m\u001b[0;34m(\u001b[0m\u001b[0msides_array\u001b[0m\u001b[0;34m)\u001b[0m \u001b[0;34m==\u001b[0m \u001b[0mself\u001b[0m\u001b[0;34m.\u001b[0m\u001b[0mn\u001b[0m\u001b[0;34m,\u001b[0m \u001b[0;34m\"Number of sides not equal to that of the polygon\"\u001b[0m\u001b[0;34m\u001b[0m\u001b[0;34m\u001b[0m\u001b[0m\n\u001b[0m\u001b[1;32m      9\u001b[0m     \u001b[0mself\u001b[0m\u001b[0;34m.\u001b[0m\u001b[0msides\u001b[0m \u001b[0;34m=\u001b[0m \u001b[0msides_array\u001b[0m\u001b[0;34m\u001b[0m\u001b[0;34m\u001b[0m\u001b[0m\n\u001b[1;32m     10\u001b[0m \u001b[0;34m\u001b[0m\u001b[0m\n",
            "\u001b[0;31mAssertionError\u001b[0m: Number of sides not equal to that of the polygon"
          ]
        }
      ]
    },
    {
      "cell_type": "code",
      "source": [
        "class Triangle(Polygon):\n",
        "  def __init__(self):\n",
        "    super().__init__(3)\n",
        "  \n",
        "  def get_area(self) -> float:\n",
        "    a, b, c = self.sides\n",
        "    s = (a + b + c) / 2\n",
        "    area = (s*(s-a)*(s-b)*(s-c)) ** 0.5\n",
        "    return area"
      ],
      "metadata": {
        "id": "ASZcF_HG9Rp3"
      },
      "execution_count": null,
      "outputs": []
    },
    {
      "cell_type": "code",
      "source": [
        "t1 = Triangle()\n",
        "t1.set_sides([3, 4, 5])\n",
        "print(\"The area of the triangle is: {}\".format(t1.get_area()))"
      ],
      "metadata": {
        "colab": {
          "base_uri": "https://localhost:8080/"
        },
        "id": "0STUArlL_NS9",
        "outputId": "e9d063eb-540f-4e67-8e33-ffee8f56f4b6"
      },
      "execution_count": null,
      "outputs": [
        {
          "output_type": "stream",
          "name": "stdout",
          "text": [
            "The area of the triangle is: 6.0\n"
          ]
        }
      ]
    },
    {
      "cell_type": "code",
      "source": [
        "class RegularPolygon(Polygon):\n",
        "  def __init__(self, n):\n",
        "    super().__init__(n)\n",
        "\n",
        "  def set_sides(self, l : float):\n",
        "    super().set_sides([l] * self.n)\n",
        "\n",
        "class EquilateralTriangle(Triangle, RegularPolygon):\n",
        "  def __init__(self):\n",
        "    super().__init__()"
      ],
      "metadata": {
        "id": "_hK05s53_vCH"
      },
      "execution_count": null,
      "outputs": []
    },
    {
      "cell_type": "code",
      "source": [
        "e1 = EquilateralTriangle()\n",
        "e1.set_sides(3)"
      ],
      "metadata": {
        "id": "I2HxthPXDIyk"
      },
      "execution_count": null,
      "outputs": []
    },
    {
      "cell_type": "code",
      "source": [
        "e1.get_area()"
      ],
      "metadata": {
        "colab": {
          "base_uri": "https://localhost:8080/"
        },
        "id": "j4L5u7fIDO4Q",
        "outputId": "fc8a2725-4fc1-4eaa-f399-f723e9fb0fd0"
      },
      "execution_count": null,
      "outputs": [
        {
          "output_type": "execute_result",
          "data": {
            "text/plain": [
              "3.897114317029974"
            ]
          },
          "metadata": {},
          "execution_count": 26
        }
      ]
    },
    {
      "cell_type": "code",
      "source": [
        "print(isinstance(e1, Polygon))\n",
        "print(isinstance(t1, RegularPolygon))\n",
        "print(issubclass(EquilateralTriangle, RegularPolygon))\n",
        "print(issubclass(RegularPolygon, Triangle))"
      ],
      "metadata": {
        "colab": {
          "base_uri": "https://localhost:8080/"
        },
        "id": "lsSJvQlFEzh1",
        "outputId": "546c8745-f7bb-4037-d327-da1111ab8aa3"
      },
      "execution_count": null,
      "outputs": [
        {
          "output_type": "stream",
          "name": "stdout",
          "text": [
            "True\n",
            "False\n",
            "True\n",
            "False\n"
          ]
        }
      ]
    },
    {
      "cell_type": "markdown",
      "source": [
        "## Using few of important method decorators:"
      ],
      "metadata": {
        "id": "noU7nDdDXIfk"
      }
    },
    {
      "cell_type": "code",
      "source": [
        "class Circle:\n",
        "    def __init__(self, radius):\n",
        "        self._radius = radius\n",
        "\n",
        "    @property\n",
        "    def radius(self):\n",
        "        \"\"\"Get value of radius\"\"\"\n",
        "        return self._radius\n",
        "\n",
        "    @radius.setter\n",
        "    def radius(self, value):\n",
        "        \"\"\"Set radius, raise error if negative\"\"\"\n",
        "        if value >= 0:\n",
        "            self._radius = value\n",
        "        else:\n",
        "            raise ValueError(\"Radius must be positive\")\n",
        "\n",
        "    @property\n",
        "    def area(self):\n",
        "        \"\"\"Calculate area inside circle\"\"\"\n",
        "        return self.pi() * self.radius**2\n",
        "\n",
        "    def cylinder_volume(self, height):\n",
        "        \"\"\"Calculate volume of cylinder with circle as base\"\"\"\n",
        "        return self.area * height\n",
        "\n",
        "    @classmethod\n",
        "    def unit_circle(cls):\n",
        "        \"\"\"Factory method creating a circle with radius 1\"\"\"\n",
        "        return cls(1)\n",
        "\n",
        "    @staticmethod\n",
        "    def pi():\n",
        "        \"\"\"Value of π, could use math.pi instead though\"\"\"\n",
        "        return 3.1415926535"
      ],
      "metadata": {
        "id": "A4zcydBIU7yQ"
      },
      "execution_count": null,
      "outputs": []
    },
    {
      "cell_type": "code",
      "source": [
        "c = Circle(3)"
      ],
      "metadata": {
        "id": "MsDJ8JaqXaC5"
      },
      "execution_count": null,
      "outputs": []
    },
    {
      "cell_type": "code",
      "source": [
        "print(c.radius)\n",
        "print(c.area)\n",
        "\n",
        "print(c.cylinder_volume(5))\n",
        "\n",
        "c.radius = c.pi()"
      ],
      "metadata": {
        "colab": {
          "base_uri": "https://localhost:8080/"
        },
        "id": "OdbU7KOYXcs6",
        "outputId": "a50a3a79-0f8a-4487-f5e3-c9fef252edfb"
      },
      "execution_count": null,
      "outputs": [
        {
          "output_type": "stream",
          "name": "stdout",
          "text": [
            "3\n",
            "28.2743338815\n",
            "141.3716694075\n"
          ]
        }
      ]
    },
    {
      "cell_type": "code",
      "source": [
        "c2 = Circle.unit_circle()\n",
        "print(c2.pi())\n",
        "print(Circle.pi())"
      ],
      "metadata": {
        "colab": {
          "base_uri": "https://localhost:8080/"
        },
        "id": "_oqiGty2ZQkq",
        "outputId": "44348f2f-b747-4a3d-ca87-78228e4e016c"
      },
      "execution_count": null,
      "outputs": [
        {
          "output_type": "stream",
          "name": "stdout",
          "text": [
            "3.1415926535\n",
            "3.1415926535\n"
          ]
        }
      ]
    },
    {
      "cell_type": "markdown",
      "source": [
        "---\n"
      ],
      "metadata": {
        "id": "GI0QwDw3ZfR9"
      }
    },
    {
      "cell_type": "code",
      "source": [
        ""
      ],
      "metadata": {
        "id": "laTSrRH4Zg_A"
      },
      "execution_count": null,
      "outputs": []
    },
    {
      "cell_type": "markdown",
      "source": [
        "# Homework exercises "
      ],
      "metadata": {
        "id": "E4O-UCS3KwsH"
      }
    },
    {
      "cell_type": "code",
      "source": [
        "\"\"\"\n",
        "\n",
        "Write a function, that takes a list of names names as input and returns a dictionary of rollnums:names in alphabetical order\n",
        "\n",
        "Eg: \n",
        "names = [\"sriram\",\"bhuvanesh\",\"animesh\",\"arihant\"]\n",
        "result = get_rollnums(names)\n",
        "print(result)\n",
        "\n",
        "Output:\n",
        "{1:\"animesh\",2:\"\"arihant\",3:\"bhuvanesh\",4:\"sriram\"}\n",
        "Insert your in this cell\n",
        "\n",
        "\"\"\"\n",
        "\n",
        "\n",
        "def get_rollnums(names):\n",
        "  result = {}\n",
        "\n",
        "  # Insert your code here\n",
        "\n",
        "  return result\n",
        "\n",
        "names = [\"sriram\",\"bhuvanesh\",\"animesh\",\"arihant\"]\n",
        "result = get_rollnums(names)\n",
        "print(result)\n",
        "\n"
      ],
      "metadata": {
        "colab": {
          "base_uri": "https://localhost:8080/"
        },
        "id": "CkAqGWgHKzD5",
        "outputId": "bb5b7f28-017e-49f0-8498-c35b7176b199"
      },
      "execution_count": null,
      "outputs": [
        {
          "output_type": "stream",
          "name": "stdout",
          "text": [
            "{}\n"
          ]
        }
      ]
    },
    {
      "cell_type": "code",
      "source": [
        "\"\"\"\n",
        "Take a smiles string as an input, and make a dictionary of Number of Carbon atoms, Number of oxygen atoms, Number of nitrogen atoms. Consider, both capital and small letters. \n",
        "\n",
        "Eg:\n",
        "\n",
        "input = \"OCCc1c(C)[n+](cs1)Cc2cnc(C)nc2N\"\n",
        "output = get_smile_stats(input)\n",
        "print(output)\n",
        "\n",
        "Output:\n",
        "\n",
        "{\"C\":12,\"O\":1,\"N\":4}\n",
        "\n",
        "\n",
        "\"\"\"\n",
        "\n",
        "\n",
        "def get_smile_stats(input):\n",
        "  result = {}\n",
        "\n",
        "  # Insert code here\n",
        "\n",
        "  return result\n",
        "\n",
        "\n",
        "input = \"OCCc1c(C)[n+](cs1)Cc2cnc(C)nc2N\"\n",
        "output = get_smile_stats(input)\n",
        "print(output)\n",
        "\n"
      ],
      "metadata": {
        "id": "9W6f_zfJL1ul"
      },
      "execution_count": null,
      "outputs": []
    }
  ]
}