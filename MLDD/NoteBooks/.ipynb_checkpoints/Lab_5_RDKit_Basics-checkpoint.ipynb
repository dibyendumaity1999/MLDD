{
 "cells": [
  {
   "cell_type": "code",
   "execution_count": null,
   "metadata": {
    "colab": {
     "base_uri": "https://localhost:8080/"
    },
    "id": "U0Y1-eC1AkpI",
    "outputId": "3fa0e531-04b1-4f34-c985-0de4c21b821b"
   },
   "outputs": [
    {
     "name": "stdout",
     "output_type": "stream",
     "text": [
      "--2022-04-15 12:05:41--  https://repo.continuum.io/miniconda/Miniconda3-py37_4.8.3-Linux-x86_64.sh\n",
      "Resolving repo.continuum.io (repo.continuum.io)... 104.18.200.79, 104.18.201.79, 2606:4700::6812:c84f, ...\n",
      "Connecting to repo.continuum.io (repo.continuum.io)|104.18.200.79|:443... connected.\n",
      "HTTP request sent, awaiting response... 301 Moved Permanently\n",
      "Location: https://repo.anaconda.com/miniconda/Miniconda3-py37_4.8.3-Linux-x86_64.sh [following]\n",
      "--2022-04-15 12:05:41--  https://repo.anaconda.com/miniconda/Miniconda3-py37_4.8.3-Linux-x86_64.sh\n",
      "Resolving repo.anaconda.com (repo.anaconda.com)... 104.16.130.3, 104.16.131.3, 2606:4700::6810:8303, ...\n",
      "Connecting to repo.anaconda.com (repo.anaconda.com)|104.16.130.3|:443... connected.\n",
      "HTTP request sent, awaiting response... 416 Requested Range Not Satisfiable\n",
      "\n",
      "    The file is already fully retrieved; nothing to do.\n",
      "\n",
      "PREFIX=/usr/local\n",
      "Unpacking payload ...\n",
      "Collecting package metadata (current_repodata.json): - \b\b\\ \b\b| \b\bdone\n",
      "Solving environment: - \b\b\\ \b\b| \b\b/ \b\b- \b\b\\ \n",
      "The environment is inconsistent, please check the package plan carefully\n",
      "The following packages are causing the inconsistency:\n",
      "\n",
      "  - defaults/linux-64::certifi==2021.10.8=py37h06a4308_2\n",
      "  - defaults/linux-64::freetype==2.11.0=h70c0345_0\n",
      "  - defaults/noarch::pyparsing==3.0.4=pyhd3eb1b0_0\n",
      "  - defaults/linux-64::lcms2==2.12=h3be6417_0\n",
      "  - defaults/linux-64::lz4-c==1.9.3=h295c915_1\n",
      "  - defaults/linux-64::libtiff==4.2.0=h85742a9_0\n",
      "  - defaults/linux-64::pyopenssl==19.1.0=py37_0\n",
      "  - defaults/linux-64::numexpr==2.8.1=py37h6abb31d_0\n",
      "  - defaults/linux-64::py-boost==1.73.0=py37ha9443f7_11\n",
      "  - defaults/linux-64::bottleneck==1.3.4=py37hce1f21e_0\n",
      "  - defaults/linux-64::libwebp==1.2.2=h55f646e_0\n",
      "  - defaults/linux-64::mkl_fft==1.3.1=py37hd3c417c_0\n",
      "  - defaults/linux-64::fontconfig==2.13.1=h6c09931_0\n",
      "  - defaults/linux-64::conda==4.12.0=py37h06a4308_0\n",
      "  - defaults/linux-64::tk==8.6.8=hbc83047_0\n",
      "  - defaults/linux-64::libgcc-ng==9.3.0=h5101ec6_17\n",
      "  - defaults/linux-64::pip==20.0.2=py37_3\n",
      "  - defaults/linux-64::jpeg==9d=h7f8727e_0\n",
      "  - defaults/linux-64::pixman==0.40.0=h7f8727e_1\n",
      "  - defaults/linux-64::giflib==5.2.1=h7b6447c_0\n",
      "  - defaults/noarch::python-dateutil==2.8.2=pyhd3eb1b0_0\n",
      "  - defaults/linux-64::mkl-service==2.4.0=py37h7f8727e_0\n",
      "  - defaults/linux-64::chardet==3.0.4=py37_1003\n",
      "  - defaults/linux-64::yaml==0.1.7=had09818_2\n",
      "  - defaults/linux-64::xz==5.2.5=h7b6447c_0\n",
      "  - defaults/linux-64::bzip2==1.0.8=h7b6447c_0\n",
      "  - defaults/noarch::idna==2.9=py_1\n",
      "  - defaults/linux-64::ruamel_yaml==0.15.87=py37h7b6447c_0\n",
      "  - defaults/linux-64::pillow==9.0.1=py37h22f2fdc_0\n",
      "  - defaults/linux-64::pandas==1.3.4=py37h8c16a72_0\n",
      "  - defaults/noarch::tqdm==4.46.0=py_0\n",
      "  - defaults/linux-64::pcre==8.45=h295c915_0\n",
      "  - defaults/linux-64::zlib==1.2.11=h7b6447c_3\n",
      "  - defaults/linux-64::sqlite==3.31.1=h62c20be_1\n",
      "  - defaults/linux-64::numpy==1.21.5=py37he7a7128_1\n",
      "  - defaults/linux-64::numpy-base==1.21.5=py37hf524024_1\n",
      "  - rdkit/linux-64::rdkit==2020.09.1.0=py37hd50e099_1\n",
      "  - defaults/noarch::packaging==21.3=pyhd3eb1b0_0\n",
      "  - defaults/linux-64::glib==2.69.1=h4ff587b_1\n",
      "  - defaults/linux-64::readline==8.0=h7b6447c_0\n",
      "  - defaults/linux-64::libpng==1.6.37=hbc83047_0\n",
      "  - defaults/noarch::pytz==2021.3=pyhd3eb1b0_0\n",
      "  - defaults/linux-64::python==3.7.7=hcff3b4d_5\n",
      "  - defaults/noarch::pycparser==2.20=py_0\n",
      "  - defaults/linux-64::cffi==1.14.0=py37he30daa8_1\n",
      "  - defaults/linux-64::libuuid==1.0.3=h7f8727e_2\n",
      "  - defaults/linux-64::conda-package-handling==1.6.1=py37h7b6447c_0\n",
      "  - defaults/linux-64::cryptography==2.9.2=py37h1ba5d50_0\n",
      "  - defaults/linux-64::icu==58.2=he6710b0_3\n",
      "  - defaults/linux-64::libxml2==2.9.12=h03d6c58_0\n",
      "  - defaults/linux-64::libxcb==1.14=h7b6447c_0\n",
      "  - defaults/linux-64::libffi==3.3=he6710b0_1\n",
      "  - defaults/linux-64::pysocks==1.7.1=py37_0\n",
      "  - defaults/linux-64::pycosat==0.6.3=py37h7b6447c_0\n",
      "  - defaults/linux-64::urllib3==1.25.8=py37_0\n",
      "  - defaults/linux-64::six==1.14.0=py37_0\n",
      "  - defaults/linux-64::wheel==0.34.2=py37_0\n",
      "  - defaults/linux-64::libwebp-base==1.2.2=h7f8727e_0\n",
      "  - defaults/linux-64::ncurses==6.2=he6710b0_1\n",
      "  - defaults/linux-64::mkl_random==1.2.2=py37h51133e4_0\n",
      "  - defaults/linux-64::cairo==1.16.0=hf32fb01_1\n",
      "  - defaults/linux-64::requests==2.23.0=py37_0\n",
      "  - defaults/linux-64::setuptools==46.4.0=py37_0\n",
      "  - defaults/linux-64::libboost==1.73.0=h3ff78a5_11\n",
      "  - defaults/linux-64::zstd==1.4.9=haebb681_0\n",
      "  - defaults/linux-64::libedit==3.1.20181209=hc058e9b_0\n",
      "  - defaults/linux-64::openssl==1.1.1n=h7f8727e_0\n",
      "\b\b| \b\b/ \b\b- \b\b\\ \b\b| \b\b/ \b\b- \b\b\\ \b\bdone\n",
      "\n",
      "## Package Plan ##\n",
      "\n",
      "  environment location: /usr/local\n",
      "\n",
      "  added / updated specs:\n",
      "    - _libgcc_mutex==0.1=main\n",
      "    - ca-certificates==2020.1.1=0\n",
      "    - certifi==2020.4.5.1=py37_0\n",
      "    - cffi==1.14.0=py37he30daa8_1\n",
      "    - chardet==3.0.4=py37_1003\n",
      "    - conda-package-handling==1.6.1=py37h7b6447c_0\n",
      "    - conda==4.8.3=py37_0\n",
      "    - cryptography==2.9.2=py37h1ba5d50_0\n",
      "    - idna==2.9=py_1\n",
      "    - ld_impl_linux-64==2.33.1=h53a641e_7\n",
      "    - libedit==3.1.20181209=hc058e9b_0\n",
      "    - libffi==3.3=he6710b0_1\n",
      "    - libgcc-ng==9.1.0=hdf63c60_0\n",
      "    - libstdcxx-ng==9.1.0=hdf63c60_0\n",
      "    - ncurses==6.2=he6710b0_1\n",
      "    - openssl==1.1.1g=h7b6447c_0\n",
      "    - pip==20.0.2=py37_3\n",
      "    - pycosat==0.6.3=py37h7b6447c_0\n",
      "    - pycparser==2.20=py_0\n",
      "    - pyopenssl==19.1.0=py37_0\n",
      "    - pysocks==1.7.1=py37_0\n",
      "    - python==3.7.7=hcff3b4d_5\n",
      "    - readline==8.0=h7b6447c_0\n",
      "    - requests==2.23.0=py37_0\n",
      "    - ruamel_yaml==0.15.87=py37h7b6447c_0\n",
      "    - setuptools==46.4.0=py37_0\n",
      "    - six==1.14.0=py37_0\n",
      "    - sqlite==3.31.1=h62c20be_1\n",
      "    - tk==8.6.8=hbc83047_0\n",
      "    - tqdm==4.46.0=py_0\n",
      "    - urllib3==1.25.8=py37_0\n",
      "    - wheel==0.34.2=py37_0\n",
      "    - xz==5.2.5=h7b6447c_0\n",
      "    - yaml==0.1.7=had09818_2\n",
      "    - zlib==1.2.11=h7b6447c_3\n",
      "\n",
      "\n",
      "The following packages will be DOWNGRADED:\n",
      "\n",
      "  ca-certificates                      2022.3.29-h06a4308_0 --> 2020.1.1-0\n",
      "\n",
      "\n",
      "Preparing transaction: / \b\bdone\n",
      "Executing transaction: \\ \b\bdone\n",
      "installation finished.\n",
      "WARNING:\n",
      "    You currently have a PYTHONPATH environment variable set. This may cause\n",
      "    unexpected behavior when running the Python interpreter in Miniconda3.\n",
      "    For best results, please verify that your PYTHONPATH only points to\n",
      "    directories of packages that are compatible with the Python interpreter\n",
      "    in Miniconda3: /usr/local\n",
      "\n",
      "real\t0m34.903s\n",
      "user\t0m25.972s\n",
      "sys\t0m12.393s\n",
      "Collecting package metadata (current_repodata.json): ...working... done\n",
      "Solving environment: ...working... done\n",
      "\n",
      "## Package Plan ##\n",
      "\n",
      "  environment location: /usr/local\n",
      "\n",
      "  added / updated specs:\n",
      "    - rdkit\n",
      "\n",
      "\n",
      "The following packages will be UPDATED:\n",
      "\n",
      "  ca-certificates                                2020.1.1-0 --> 2022.3.29-h06a4308_0\n",
      "\n",
      "\n",
      "Preparing transaction: ...working... done\n",
      "Verifying transaction: ...working... done\n",
      "Executing transaction: ...working... done\n",
      "\n",
      "real\t0m5.461s\n",
      "user\t0m4.643s\n",
      "sys\t0m0.733s\n"
     ]
    }
   ],
   "source": [
    "!wget -c https://repo.continuum.io/miniconda/Miniconda3-py37_4.8.3-Linux-x86_64.sh\n",
    "!chmod +x Miniconda3-py37_4.8.3-Linux-x86_64.sh\n",
    "!time bash ./Miniconda3-py37_4.8.3-Linux-x86_64.sh -b -f -p /usr/local\n",
    "!time conda install -q -y -c rdkit rdkit\n",
    "\n",
    "import sys\n",
    "sys.path.append('/usr/local/lib/python3.7/site-packages/')"
   ]
  },
  {
   "cell_type": "code",
   "execution_count": 1,
   "metadata": {
    "id": "m2uNQmdcBO5t"
   },
   "outputs": [],
   "source": [
    "import numpy as np\n",
    "import pandas as pd\n",
    "import tqdm.auto as tqdm\n",
    "\n",
    "from matplotlib import pyplot as plt\n",
    "import seaborn as sns\n",
    "\n",
    "import rdkit, rdkit.Chem.AllChem, rdkit.Chem.Crippen\n",
    "import rdkit.Chem as Chem\n",
    "from rdkit.Chem import Draw\n",
    "\n",
    "import torch\n"
   ]
  },
  {
   "cell_type": "code",
   "execution_count": 2,
   "metadata": {},
   "outputs": [],
   "source": [
    "import sklearn.linear_model, sklearn.model_selection"
   ]
  },
  {
   "cell_type": "markdown",
   "metadata": {
    "id": "dJ6S1PCHB-ii"
   },
   "source": [
    "## Introduction to RDKit"
   ]
  },
  {
   "cell_type": "markdown",
   "metadata": {
    "id": "gRgkLEI5CAm8"
   },
   "source": [
    "RDKit is a collection of cheminformatics and machine-learning software written in C++ and Python that allows you to work with molecules easily."
   ]
  },
  {
   "cell_type": "markdown",
   "metadata": {
    "id": "UharqiQ3CK9B"
   },
   "source": [
    "### Constructing a molecule"
   ]
  },
  {
   "cell_type": "code",
   "execution_count": 18,
   "metadata": {
    "colab": {
     "base_uri": "https://localhost:8080/"
    },
    "id": "5tY9mVBzB6eb",
    "outputId": "4f214f1e-01dd-4020-a1cc-258a236c647e"
   },
   "outputs": [
    {
     "name": "stdout",
     "output_type": "stream",
     "text": [
      "<class 'rdkit.Chem.rdchem.Mol'>\n"
     ]
    },
    {
     "ename": "TypeError",
     "evalue": "object of type 'Mol' has no len()",
     "output_type": "error",
     "traceback": [
      "\u001b[0;31m---------------------------------------------------------------------------\u001b[0m",
      "\u001b[0;31mTypeError\u001b[0m                                 Traceback (most recent call last)",
      "\u001b[0;32m/tmp/ipykernel_13203/3062908238.py\u001b[0m in \u001b[0;36m<module>\u001b[0;34m\u001b[0m\n\u001b[1;32m     15\u001b[0m \u001b[0;31m# All of these functions return None on failure\u001b[0m\u001b[0;34m\u001b[0m\u001b[0;34m\u001b[0m\u001b[0;34m\u001b[0m\u001b[0m\n\u001b[1;32m     16\u001b[0m \u001b[0mm\u001b[0m \u001b[0;34m=\u001b[0m \u001b[0mChem\u001b[0m\u001b[0;34m.\u001b[0m\u001b[0mMolFromSmiles\u001b[0m\u001b[0;34m(\u001b[0m\u001b[0;34m'c1ccc1'\u001b[0m\u001b[0;34m)\u001b[0m\u001b[0;34m\u001b[0m\u001b[0;34m\u001b[0m\u001b[0m\n\u001b[0;32m---> 17\u001b[0;31m \u001b[0mimg\u001b[0m \u001b[0;34m=\u001b[0m \u001b[0mDraw\u001b[0m\u001b[0;34m.\u001b[0m\u001b[0mMolsToGridImage\u001b[0m\u001b[0;34m(\u001b[0m\u001b[0mm\u001b[0m\u001b[0;34m,\u001b[0m \u001b[0mmolsPerRow\u001b[0m\u001b[0;34m=\u001b[0m\u001b[0;36m1\u001b[0m\u001b[0;34m,\u001b[0m \u001b[0mlegends\u001b[0m\u001b[0;34m=\u001b[0m\u001b[0;34m[\u001b[0m\u001b[0;34m\"benzene\"\u001b[0m\u001b[0;34m]\u001b[0m\u001b[0;34m)\u001b[0m\u001b[0;34m\u001b[0m\u001b[0;34m\u001b[0m\u001b[0m\n\u001b[0m\u001b[1;32m     18\u001b[0m \u001b[0mdisplay\u001b[0m\u001b[0;34m(\u001b[0m\u001b[0mimg\u001b[0m\u001b[0;34m)\u001b[0m\u001b[0;34m\u001b[0m\u001b[0;34m\u001b[0m\u001b[0m\n\u001b[1;32m     19\u001b[0m \u001b[0mprint\u001b[0m\u001b[0;34m(\u001b[0m\u001b[0mm\u001b[0m\u001b[0;34m)\u001b[0m\u001b[0;34m\u001b[0m\u001b[0;34m\u001b[0m\u001b[0m\n",
      "\u001b[0;32m~/Soft/anaconda3/envs/MLDD/lib/python3.7/site-packages/rdkit/Chem/Draw/IPythonConsole.py\u001b[0m in \u001b[0;36mShowMols\u001b[0;34m(mols, maxMols, **kwargs)\u001b[0m\n\u001b[1;32m    249\u001b[0m     \u001b[0mfn\u001b[0m \u001b[0;34m=\u001b[0m \u001b[0mDraw\u001b[0m\u001b[0;34m.\u001b[0m\u001b[0mMolsToGridImage\u001b[0m\u001b[0;34m\u001b[0m\u001b[0;34m\u001b[0m\u001b[0m\n\u001b[1;32m    250\u001b[0m \u001b[0;34m\u001b[0m\u001b[0m\n\u001b[0;32m--> 251\u001b[0;31m   \u001b[0;32mif\u001b[0m \u001b[0mlen\u001b[0m\u001b[0;34m(\u001b[0m\u001b[0mmols\u001b[0m\u001b[0;34m)\u001b[0m \u001b[0;34m>\u001b[0m \u001b[0mmaxMols\u001b[0m\u001b[0;34m:\u001b[0m\u001b[0;34m\u001b[0m\u001b[0;34m\u001b[0m\u001b[0m\n\u001b[0m\u001b[1;32m    252\u001b[0m     warnings.warn(\n\u001b[1;32m    253\u001b[0m       \u001b[0;34m\"Truncating the list of molecules to be displayed to %d. Change the maxMols value to display more.\"\u001b[0m\u001b[0;34m\u001b[0m\u001b[0;34m\u001b[0m\u001b[0m\n",
      "\u001b[0;31mTypeError\u001b[0m: object of type 'Mol' has no len()"
     ]
    }
   ],
   "source": [
    "# A molecule can be constructed through multiple approaches\n",
    "\n",
    "m = Chem.MolFromSmiles('c1ccccc1')\n",
    "\n",
    "m = Chem.MolFromMolFile(\"Data/lab5_data/benzene.mol\")\n",
    "\n",
    "stringWithMolData = open('Data/lab5_data/benzene.mol','r').read()\n",
    "m = Chem.MolFromMolBlock(stringWithMolData)\n",
    "\n",
    "\n",
    "# All of these functions return a rdkit.Chem.rdchem.Mol object on success\n",
    "print(type(m))\n",
    "\n",
    "\n"
   ]
  },
  {
   "cell_type": "code",
   "execution_count": 44,
   "metadata": {},
   "outputs": [
    {
     "data": {
      "image/png": "[encoded data removed]",
      "text/plain": [
       "<rdkit.Chem.rdchem.Mol at 0x7fe1eded2e90>"
      ]
     },
     "execution_count": 44,
     "metadata": {},
     "output_type": "execute_result"
    }
   ],
   "source": [
    "# All of these functions return None on failure\n",
    "m = Chem.MolFromSmiles('COc1ccc(C=NNC2=NC(=O)C(CC(=O)NC(C)C)S2)cc1')\n",
    "#img = Draw.MolsToGridImage(m, molsPerRow=1, legends=[\"benzene\"])\n",
    "#display(img)\n",
    "#print(m)\n",
    "m"
   ]
  },
  {
   "cell_type": "code",
   "execution_count": 24,
   "metadata": {},
   "outputs": [],
   "source": [
    "m"
   ]
  },
  {
   "cell_type": "markdown",
   "metadata": {
    "id": "VMHjTFj4DzCH"
   },
   "source": [
    "### Constructing sets of molecules"
   ]
  },
  {
   "cell_type": "code",
   "execution_count": 6,
   "metadata": {
    "colab": {
     "base_uri": "https://localhost:8080/"
    },
    "id": "vTMyfQ_KCmoY",
    "outputId": "fcbdce60-94ce-4dc2-fdab-f3c84451327b"
   },
   "outputs": [
    {
     "name": "stdout",
     "output_type": "stream",
     "text": [
      "<rdkit.Chem.rdchem.Mol object at 0x7fe1edf182b0>\n",
      "{'zinc_id': 'ZINC000001530427', 'smiles': 'C[C@@H]1O[C@@H]1P(=O)(O)O'}\n"
     ]
    }
   ],
   "source": [
    "suppl = Chem.SDMolSupplier('Data/lab5_data/biogenic.sdf')\n",
    "print(suppl[0])\n",
    "\n",
    "mol = suppl[0]\n",
    "print(mol.GetPropsAsDict())"
   ]
  },
  {
   "cell_type": "markdown",
   "metadata": {
    "id": "a0N9fOnRE-H_"
   },
   "source": [
    "### Exporting/Writing molecules"
   ]
  },
  {
   "cell_type": "code",
   "execution_count": 7,
   "metadata": {
    "colab": {
     "base_uri": "https://localhost:8080/"
    },
    "id": "Aoyqy9JPELrP",
    "outputId": "3b41d620-b4c0-4c6f-beec-1610aa2191fe"
   },
   "outputs": [
    {
     "name": "stdout",
     "output_type": "stream",
     "text": [
      "<class 'rdkit.Chem.rdchem.Mol'>\n",
      "c1ccccc1\n",
      "c1ccncc1 c1ccncc1 c1ccncc1\n",
      "\n",
      "c1ccccc1\n",
      "C1=CC=CC=C1\n"
     ]
    }
   ],
   "source": [
    "m = Chem.MolFromSmiles('c1ccccc1')\n",
    "print(type(m))\n",
    "\n",
    "smiles = Chem.MolToSmiles(m)\n",
    "print(smiles)\n",
    "\n",
    "# MolToSmiles gives the canonical SMILES, so  the output would be the same regardless of the input\n",
    "smiles_1 = Chem.MolToSmiles(Chem.MolFromSmiles('C1=CC=CN=C1'))\n",
    "smiles_2 = Chem.MolToSmiles(Chem.MolFromSmiles('c1cccnc1'))\n",
    "smiles_3 = Chem.MolToSmiles(Chem.MolFromSmiles('n1ccccc1'))\n",
    "print(smiles_1, smiles_2, smiles_3)\n",
    "\n",
    "print()\n",
    "# If you want to have the Kekule form, then use the kekuleSmiles parameter\n",
    "smiles = Chem.MolToSmiles(m)\n",
    "print(smiles)\n",
    "\n",
    "Chem.Kekulize(m)\n",
    "smiles = Chem.MolToSmiles(m, kekuleSmiles=True)\n",
    "print(smiles)\n"
   ]
  },
  {
   "cell_type": "code",
   "execution_count": 8,
   "metadata": {
    "colab": {
     "base_uri": "https://localhost:8080/"
    },
    "id": "xOptp4ovFE26",
    "outputId": "1e75159c-1c55-4f6d-face-e29495825233"
   },
   "outputs": [
    {
     "name": "stdout",
     "output_type": "stream",
     "text": [
      "benzene\n",
      "     RDKit          2D\n",
      "\n",
      "  6  6  0  0  0  0  0  0  0  0999 V2000\n",
      "    1.5000    0.0000    0.0000 C   0  0  0  0  0  0  0  0  0  0  0  0\n",
      "    0.7500   -1.2990    0.0000 C   0  0  0  0  0  0  0  0  0  0  0  0\n",
      "   -0.7500   -1.2990    0.0000 C   0  0  0  0  0  0  0  0  0  0  0  0\n",
      "   -1.5000    0.0000    0.0000 C   0  0  0  0  0  0  0  0  0  0  0  0\n",
      "   -0.7500    1.2990    0.0000 C   0  0  0  0  0  0  0  0  0  0  0  0\n",
      "    0.7500    1.2990    0.0000 C   0  0  0  0  0  0  0  0  0  0  0  0\n",
      "  1  2  2  0\n",
      "  2  3  1  0\n",
      "  3  4  2  0\n",
      "  4  5  1  0\n",
      "  5  6  2  0\n",
      "  6  1  1  0\n",
      "M  END\n",
      "\n"
     ]
    }
   ],
   "source": [
    "# You can also get the mol block of a molecule\n",
    "m.SetProp(\"_Name\",\"benzene\")\n",
    "print(Chem.MolToMolBlock(m))\n",
    "\n"
   ]
  },
  {
   "cell_type": "code",
   "execution_count": 9,
   "metadata": {
    "colab": {
     "base_uri": "https://localhost:8080/"
    },
    "id": "DDYgnKRMGnO8",
    "outputId": "8d98ef3b-5ce0-4a9d-891d-6e7e16bdf4de"
   },
   "outputs": [
    {
     "name": "stdout",
     "output_type": "stream",
     "text": [
      "benzene\n",
      "     RDKit          2D\n",
      "\n",
      "  6  6  0  0  0  0  0  0  0  0999 V2000\n",
      "    1.5000    0.0000    0.0000 C   0  0  0  0  0  0  0  0  0  0  0  0\n",
      "    0.7500   -1.2990    0.0000 C   0  0  0  0  0  0  0  0  0  0  0  0\n",
      "   -0.7500   -1.2990    0.0000 C   0  0  0  0  0  0  0  0  0  0  0  0\n",
      "   -1.5000    0.0000    0.0000 C   0  0  0  0  0  0  0  0  0  0  0  0\n",
      "   -0.7500    1.2990    0.0000 C   0  0  0  0  0  0  0  0  0  0  0  0\n",
      "    0.7500    1.2990    0.0000 C   0  0  0  0  0  0  0  0  0  0  0  0\n",
      "  1  2  2  0\n",
      "  2  3  1  0\n",
      "  3  4  2  0\n",
      "  4  5  1  0\n",
      "  5  6  2  0\n",
      "  6  1  1  0\n",
      "M  END\n",
      "\n"
     ]
    }
   ],
   "source": [
    "# In order for atom or bond stereochemistry to be recognised correctly by most software, it’s essential that the mol block have atomic coordinates\n",
    "# It’s also convenient for many reasons, such as drawing the molecules\n",
    "\n",
    "# Generating a mol block for a molecule that does not have coordinates will, by default, \n",
    "# automatically cause coordinates to be generated\n",
    "# These are not, however, stored with the molecule. \n",
    "# We have to use the AllChem module to generate the 3D coordinates\n",
    "\n",
    "from rdkit.Chem import AllChem\n",
    "\n",
    "AllChem.Compute2DCoords(m)\n",
    "# print(Chem.MolToMolBlock(m))\n",
    "\n",
    "# The Hydrogen atoms are implicit in the molecule, you can add them explicitly through\n",
    "m1 = Chem.AddHs(m)\n",
    "# print(Chem.MolToMolBlock(m1))\n",
    "\n",
    "# You can remove the Hydrogen atoms easily too. You would want to add the Hydrogens if you're computing the 3D coordinates for example\n",
    "m2 = Chem.RemoveHs(m1)\n",
    "print(Chem.MolToMolBlock(m2))\n"
   ]
  },
  {
   "cell_type": "markdown",
   "metadata": {
    "id": "I2u6NoFZJrvN"
   },
   "source": [
    "## Molecule Properties"
   ]
  },
  {
   "cell_type": "code",
   "execution_count": 10,
   "metadata": {
    "colab": {
     "base_uri": "https://localhost:8080/"
    },
    "id": "GTTTY-1hJKe5",
    "outputId": "e83365d8-2c64-4552-de64-bd7ad35a68ad"
   },
   "outputs": [
    {
     "name": "stdout",
     "output_type": "stream",
     "text": [
      "12\n"
     ]
    }
   ],
   "source": [
    "mol = Chem.MolFromSmiles('c1ccccc1')\n",
    "m1 = Chem.AddHs(mol)\n",
    "\n",
    "print(m1.GetNumAtoms())"
   ]
  },
  {
   "cell_type": "code",
   "execution_count": 11,
   "metadata": {
    "colab": {
     "base_uri": "https://localhost:8080/"
    },
    "id": "o4wzErAYJzjE",
    "outputId": "4c2c8382-ee75-4c01-cb42-5b00dadcc2b9"
   },
   "outputs": [
    {
     "name": "stdout",
     "output_type": "stream",
     "text": [
      "6\n",
      "6\n",
      "6\n",
      "6\n",
      "6\n",
      "6\n",
      "\n",
      "AROMATIC\n",
      "AROMATIC\n",
      "AROMATIC\n",
      "AROMATIC\n",
      "AROMATIC\n",
      "AROMATIC\n",
      "\n",
      "\n",
      "0 1\n",
      "\n",
      "6\n",
      "6\n",
      "True\n"
     ]
    }
   ],
   "source": [
    "# Once you have the molecule, you can loop over its atoms and bonds\n",
    "\n",
    "\n",
    "for atom in mol.GetAtoms():\n",
    "  print(atom.GetAtomicNum())\n",
    "\n",
    "print()\n",
    "\n",
    "for bond in mol.GetBonds():\n",
    "  print(bond.GetBondType())\n",
    "\n",
    "print()\n",
    "\n",
    "# You can also query individual bonds or atoms\n",
    "mol.GetAtomWithIdx(0).GetAtomicNum()\n",
    "mol.GetAtomWithIdx(0).GetExplicitValence()\n",
    "\n",
    "print()\n",
    "\n",
    "bond = mol.GetBondWithIdx(0)\n",
    "print(bond.GetBeginAtomIdx(), bond.GetEndAtomIdx())\n",
    "\n",
    "print()\n",
    "\n",
    "# You can also get the neighbours of a particular atom in a molecule\n",
    "atom = mol.GetAtomWithIdx(0)\n",
    "for n_atom in atom.GetNeighbors():\n",
    "  print(n_atom.GetAtomicNum())\n",
    "\n",
    "# Atoms and bonds both carry information about the molecule’s rings:\n",
    "print(mol.GetAtomWithIdx(0).IsInRing())"
   ]
  },
  {
   "cell_type": "markdown",
   "metadata": {
    "id": "pok75eBLLq1B"
   },
   "source": [
    "### Exercise Question\n",
    "\n",
    "- For \"COc1ccc(C=NNC2=NC(=O)C(CC(=O)NC(C)C)S2)cc1\", print all the bonds between a carbon and an oxygen atom."
   ]
  },
  {
   "cell_type": "code",
   "execution_count": 12,
   "metadata": {
    "colab": {
     "base_uri": "https://localhost:8080/"
    },
    "id": "tbMycfu_NCPW",
    "outputId": "83b01c02-08c4-40b1-95dd-72a71be28dde"
   },
   "outputs": [
    {
     "name": "stdout",
     "output_type": "stream",
     "text": [
      "C and O\n",
      "O and C\n",
      "C and O\n",
      "C and O\n"
     ]
    }
   ],
   "source": [
    "mol = Chem.MolFromSmiles(\"COc1ccc(C=NNC2=NC(=O)C(CC(=O)NC(C)C)S2)cc1\")\n",
    "\n",
    "for bond in mol.GetBonds():\n",
    "  f_atom = mol.GetAtomWithIdx(bond.GetBeginAtomIdx()).GetAtomicNum()\n",
    "  s_atom = mol.GetAtomWithIdx(bond.GetEndAtomIdx()).GetAtomicNum()\n",
    "\n",
    "  if f_atom == 6 and s_atom == 8:\n",
    "    print('C and O')\n",
    "  elif f_atom == 8 and s_atom == 6:\n",
    "    print('O and C')"
   ]
  },
  {
   "cell_type": "markdown",
   "metadata": {
    "id": "Aq8T467zO3ot"
   },
   "source": [
    "### Modifying Molecules"
   ]
  },
  {
   "cell_type": "code",
   "execution_count": 13,
   "metadata": {
    "colab": {
     "base_uri": "https://localhost:8080/"
    },
    "id": "PUrowfJ7LqRR",
    "outputId": "bd756d9e-0580-4c9e-bc15-35569171a953"
   },
   "outputs": [
    {
     "name": "stdout",
     "output_type": "stream",
     "text": [
      "3\n",
      "9\n",
      "3\n"
     ]
    }
   ],
   "source": [
    "# You can remove or add explicit Hydrogens in the molecule as we saw earlier. This helps when you're trying to optimize the 3D geometry for e.g.\n",
    "\n",
    "m=Chem.MolFromSmiles('CCO')\n",
    "print(m.GetNumAtoms())\n",
    "\n",
    "m2 = Chem.AddHs(m)\n",
    "print(m2.GetNumAtoms())\n",
    "\n",
    "m3 = Chem.RemoveHs(m2)\n",
    "print(m3.GetNumAtoms())\n"
   ]
  },
  {
   "cell_type": "code",
   "execution_count": 14,
   "metadata": {
    "colab": {
     "base_uri": "https://localhost:8080/"
    },
    "id": "uvB7A_GHKDkJ",
    "outputId": "af626bce-cf07-4196-c0f6-6acc9bc76ca8"
   },
   "outputs": [
    {
     "name": "stdout",
     "output_type": "stream",
     "text": [
      "AROMATIC\n",
      "DOUBLE True\n",
      "SINGLE True\n"
     ]
    }
   ],
   "source": [
    "# Bonds in the aromatic rings of molecules are stored as the aromatic bond type\n",
    "\n",
    "mol = Chem.MolFromSmiles('c1ccccc1')\n",
    "print(mol.GetBondWithIdx(0).GetBondType())\n",
    "\n",
    "# Kekulize the molecule to split up the bonds involved in the aromatic rings to single and double bonds. They are still flagged as aromatic bonds\n",
    "Chem.Kekulize(mol)\n",
    "print(mol.GetBondWithIdx(0).GetBondType(), mol.GetBondWithIdx(0).GetIsAromatic())\n",
    "print(mol.GetBondWithIdx(1).GetBondType(), mol.GetBondWithIdx(1).GetIsAromatic())"
   ]
  },
  {
   "cell_type": "markdown",
   "metadata": {
    "id": "8LaeVW51PkMM"
   },
   "source": [
    "### Displaying Molecules"
   ]
  },
  {
   "cell_type": "code",
   "execution_count": 15,
   "metadata": {
    "colab": {
     "base_uri": "https://localhost:8080/",
     "height": 407
    },
    "id": "rNs5EHL-PjrX",
    "outputId": "8d52da58-befc-4e97-c314-09e84e91796b"
   },
   "outputs": [
    {
     "data": {
      "image/png": "[encoded data removed]",
      "text/plain": [
       "<IPython.core.display.Image object>"
      ]
     },
     "metadata": {},
     "output_type": "display_data"
    }
   ],
   "source": [
    "suppl = Chem.SDMolSupplier('Data/lab5_data/biogenic.sdf')\n",
    "mols = [x for x in suppl if x is not None]\n",
    "\n",
    "\n",
    "img = Draw.MolsToGridImage(mols[:10], molsPerRow=5, legends=[x.GetProp('zinc_id') for x in mols[:10]])\n",
    "display(img)"
   ]
  },
  {
   "cell_type": "code",
   "execution_count": 71,
   "metadata": {},
   "outputs": [
    {
     "data": {
      "image/png": "[encoded data removed]",
      "text/html": [
       "<table><tr><td colspan=2 style=\"text-align:center\"><image src=\"data:image/png;base64,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\"></td></tr>\n",
       "<tr><th style=\"text-align:right\">zinc_id</th><td style=\"text-align:left\">ZINC000000896546</td></tr>\n",
       "<tr><th style=\"text-align:right\">smiles</th><td style=\"text-align:left\">Nc1nc(=O)[nH]cc1F</td></tr></table>"
      ],
      "text/plain": [
       "<rdkit.Chem.rdchem.Mol at 0x7fe1edf2a1c0>"
      ]
     },
     "execution_count": 71,
     "metadata": {},
     "output_type": "execute_result"
    }
   ],
   "source": [
    "mols[7]"
   ]
  },
  {
   "cell_type": "code",
   "execution_count": 101,
   "metadata": {},
   "outputs": [
    {
     "data": {
      "image/png": "[encoded data removed]",
      "text/plain": [
       "<rdkit.Chem.rdchem.Mol at 0x7fe1edaaa350>"
      ]
     },
     "execution_count": 101,
     "metadata": {},
     "output_type": "execute_result"
    }
   ],
   "source": [
    "m = Chem.MolFromSmiles('C[C@@H](C(F)(F)F)O')\n",
    "m"
   ]
  },
  {
   "cell_type": "code",
   "execution_count": 92,
   "metadata": {},
   "outputs": [
    {
     "data": {
      "image/png": "[encoded data removed]",
      "text/plain": [
       "<rdkit.Chem.rdchem.Mol at 0x7fe1edf403a0>"
      ]
     },
     "execution_count": 92,
     "metadata": {},
     "output_type": "execute_result"
    }
   ],
   "source": [
    "Chem.MolFromSmarts('C([c,C])([c,C])=O')"
   ]
  },
  {
   "cell_type": "markdown",
   "metadata": {
    "id": "SdGpV9dcQZeZ"
   },
   "source": [
    "### Substructure Searching"
   ]
  },
  {
   "cell_type": "code",
   "execution_count": 93,
   "metadata": {
    "colab": {
     "base_uri": "https://localhost:8080/",
     "height": 521
    },
    "id": "xP7ETU_nPQpd",
    "outputId": "17e81e6b-9691-4e0a-c43c-82bb14940ac4"
   },
   "outputs": [
    {
     "data": {
      "image/svg+xml": [
       "<svg baseProfile=\"full\" height=\"500px\" version=\"1.1\" viewBox=\"0 0 500 500\" width=\"500px\" xml:space=\"preserve\" xmlns=\"http://www.w3.org/2000/svg\" xmlns:rdkit=\"http://www.rdkit.org/xml\" xmlns:xlink=\"http://www.w3.org/1999/xlink\">\n",
       "<!-- END OF HEADER -->\n",
       "<rect height=\"500.0\" style=\"opacity:1.0;fill:#FFFFFF;stroke:none\" width=\"500.0\" x=\"0.0\" y=\"0.0\"> </rect>\n",
       "<path class=\"bond-0 atom-0 atom-1\" d=\"M 250.0,284.6 L 325.8,240.9\" style=\"fill:none;fill-rule:evenodd;stroke:#FF7F7F;stroke-width:18.7px;stroke-linecap:butt;stroke-linejoin:miter;stroke-opacity:1\"/>\n",
       "<path class=\"bond-6 atom-0 atom-7\" d=\"M 250.0,284.6 L 174.2,240.9\" style=\"fill:none;fill-rule:evenodd;stroke:#FF7F7F;stroke-width:18.7px;stroke-linecap:butt;stroke-linejoin:miter;stroke-opacity:1\"/>\n",
       "<path class=\"bond-12 atom-0 atom-13\" d=\"M 250.0,284.6 L 250.0,372.1\" style=\"fill:none;fill-rule:evenodd;stroke:#FF7F7F;stroke-width:18.7px;stroke-linecap:butt;stroke-linejoin:miter;stroke-opacity:1\"/>\n",
       "<ellipse class=\"atom-0\" cx=\"250.0\" cy=\"284.6\" rx=\"17.5\" ry=\"17.5\" style=\"fill:#FF7F7F;fill-rule:evenodd;stroke:#FF7F7F;stroke-width:1.0px;stroke-linecap:butt;stroke-linejoin:miter;stroke-opacity:1\"/>\n",
       "<ellipse class=\"atom-1\" cx=\"325.8\" cy=\"240.9\" rx=\"17.5\" ry=\"17.5\" style=\"fill:#FF7F7F;fill-rule:evenodd;stroke:#FF7F7F;stroke-width:1.0px;stroke-linecap:butt;stroke-linejoin:miter;stroke-opacity:1\"/>\n",
       "<ellipse class=\"atom-7\" cx=\"174.2\" cy=\"240.9\" rx=\"17.5\" ry=\"17.5\" style=\"fill:#FF7F7F;fill-rule:evenodd;stroke:#FF7F7F;stroke-width:1.0px;stroke-linecap:butt;stroke-linejoin:miter;stroke-opacity:1\"/>\n",
       "<ellipse class=\"atom-13\" cx=\"250.0\" cy=\"372.3\" rx=\"17.5\" ry=\"18.0\" style=\"fill:#FF7F7F;fill-rule:evenodd;stroke:#FF7F7F;stroke-width:1.0px;stroke-linecap:butt;stroke-linejoin:miter;stroke-opacity:1\"/>\n",
       "<path class=\"bond-0 atom-0 atom-1\" d=\"M 250.0,284.6 L 325.8,240.9\" style=\"fill:none;fill-rule:evenodd;stroke:#000000;stroke-width:2.0px;stroke-linecap:butt;stroke-linejoin:miter;stroke-opacity:1\"/>\n",
       "<path class=\"bond-1 atom-1 atom-2\" d=\"M 325.8,240.9 L 401.5,284.6\" style=\"fill:none;fill-rule:evenodd;stroke:#000000;stroke-width:2.0px;stroke-linecap:butt;stroke-linejoin:miter;stroke-opacity:1\"/>\n",
       "<path class=\"bond-1 atom-1 atom-2\" d=\"M 345.9,232.3 L 398.9,262.9\" style=\"fill:none;fill-rule:evenodd;stroke:#000000;stroke-width:2.0px;stroke-linecap:butt;stroke-linejoin:miter;stroke-opacity:1\"/>\n",
       "<path class=\"bond-2 atom-2 atom-3\" d=\"M 401.5,284.6 L 477.3,240.9\" style=\"fill:none;fill-rule:evenodd;stroke:#000000;stroke-width:2.0px;stroke-linecap:butt;stroke-linejoin:miter;stroke-opacity:1\"/>\n",
       "<path class=\"bond-3 atom-3 atom-4\" d=\"M 477.3,240.9 L 477.3,153.4\" style=\"fill:none;fill-rule:evenodd;stroke:#000000;stroke-width:2.0px;stroke-linecap:butt;stroke-linejoin:miter;stroke-opacity:1\"/>\n",
       "<path class=\"bond-3 atom-3 atom-4\" d=\"M 459.8,227.8 L 459.8,166.6\" style=\"fill:none;fill-rule:evenodd;stroke:#000000;stroke-width:2.0px;stroke-linecap:butt;stroke-linejoin:miter;stroke-opacity:1\"/>\n",
       "<path class=\"bond-4 atom-4 atom-5\" d=\"M 477.3,153.4 L 401.5,109.7\" style=\"fill:none;fill-rule:evenodd;stroke:#000000;stroke-width:2.0px;stroke-linecap:butt;stroke-linejoin:miter;stroke-opacity:1\"/>\n",
       "<path class=\"bond-5 atom-5 atom-6\" d=\"M 401.5,109.7 L 325.8,153.4\" style=\"fill:none;fill-rule:evenodd;stroke:#000000;stroke-width:2.0px;stroke-linecap:butt;stroke-linejoin:miter;stroke-opacity:1\"/>\n",
       "<path class=\"bond-5 atom-5 atom-6\" d=\"M 398.9,131.4 L 345.9,162.0\" style=\"fill:none;fill-rule:evenodd;stroke:#000000;stroke-width:2.0px;stroke-linecap:butt;stroke-linejoin:miter;stroke-opacity:1\"/>\n",
       "<path class=\"bond-6 atom-0 atom-7\" d=\"M 250.0,284.6 L 174.2,240.9\" style=\"fill:none;fill-rule:evenodd;stroke:#000000;stroke-width:2.0px;stroke-linecap:butt;stroke-linejoin:miter;stroke-opacity:1\"/>\n",
       "<path class=\"bond-7 atom-7 atom-8\" d=\"M 174.2,240.9 L 174.2,153.4\" style=\"fill:none;fill-rule:evenodd;stroke:#000000;stroke-width:2.0px;stroke-linecap:butt;stroke-linejoin:miter;stroke-opacity:1\"/>\n",
       "<path class=\"bond-7 atom-7 atom-8\" d=\"M 156.7,227.8 L 156.7,166.6\" style=\"fill:none;fill-rule:evenodd;stroke:#000000;stroke-width:2.0px;stroke-linecap:butt;stroke-linejoin:miter;stroke-opacity:1\"/>\n",
       "<path class=\"bond-8 atom-8 atom-9\" d=\"M 174.2,153.4 L 98.5,109.7\" style=\"fill:none;fill-rule:evenodd;stroke:#000000;stroke-width:2.0px;stroke-linecap:butt;stroke-linejoin:miter;stroke-opacity:1\"/>\n",
       "<path class=\"bond-9 atom-9 atom-10\" d=\"M 98.5,109.7 L 22.7,153.4\" style=\"fill:none;fill-rule:evenodd;stroke:#000000;stroke-width:2.0px;stroke-linecap:butt;stroke-linejoin:miter;stroke-opacity:1\"/>\n",
       "<path class=\"bond-9 atom-9 atom-10\" d=\"M 95.9,131.4 L 42.8,162.0\" style=\"fill:none;fill-rule:evenodd;stroke:#000000;stroke-width:2.0px;stroke-linecap:butt;stroke-linejoin:miter;stroke-opacity:1\"/>\n",
       "<path class=\"bond-10 atom-10 atom-11\" d=\"M 22.7,153.4 L 22.7,240.9\" style=\"fill:none;fill-rule:evenodd;stroke:#000000;stroke-width:2.0px;stroke-linecap:butt;stroke-linejoin:miter;stroke-opacity:1\"/>\n",
       "<path class=\"bond-11 atom-11 atom-12\" d=\"M 22.7,240.9 L 98.5,284.6\" style=\"fill:none;fill-rule:evenodd;stroke:#000000;stroke-width:2.0px;stroke-linecap:butt;stroke-linejoin:miter;stroke-opacity:1\"/>\n",
       "<path class=\"bond-11 atom-11 atom-12\" d=\"M 42.8,232.3 L 95.9,262.9\" style=\"fill:none;fill-rule:evenodd;stroke:#000000;stroke-width:2.0px;stroke-linecap:butt;stroke-linejoin:miter;stroke-opacity:1\"/>\n",
       "<path class=\"bond-12 atom-0 atom-13\" d=\"M 258.7,284.6 L 258.7,320.7\" style=\"fill:none;fill-rule:evenodd;stroke:#000000;stroke-width:2.0px;stroke-linecap:butt;stroke-linejoin:miter;stroke-opacity:1\"/>\n",
       "<path class=\"bond-12 atom-0 atom-13\" d=\"M 258.7,320.7 L 258.7,356.7\" style=\"fill:none;fill-rule:evenodd;stroke:#FF0000;stroke-width:2.0px;stroke-linecap:butt;stroke-linejoin:miter;stroke-opacity:1\"/>\n",
       "<path class=\"bond-12 atom-0 atom-13\" d=\"M 241.3,284.6 L 241.3,320.7\" style=\"fill:none;fill-rule:evenodd;stroke:#000000;stroke-width:2.0px;stroke-linecap:butt;stroke-linejoin:miter;stroke-opacity:1\"/>\n",
       "<path class=\"bond-12 atom-0 atom-13\" d=\"M 241.3,320.7 L 241.3,356.7\" style=\"fill:none;fill-rule:evenodd;stroke:#FF0000;stroke-width:2.0px;stroke-linecap:butt;stroke-linejoin:miter;stroke-opacity:1\"/>\n",
       "<path class=\"bond-13 atom-6 atom-1\" d=\"M 325.8,153.4 L 325.8,240.9\" style=\"fill:none;fill-rule:evenodd;stroke:#000000;stroke-width:2.0px;stroke-linecap:butt;stroke-linejoin:miter;stroke-opacity:1\"/>\n",
       "<path class=\"bond-14 atom-12 atom-7\" d=\"M 98.5,284.6 L 174.2,240.9\" style=\"fill:none;fill-rule:evenodd;stroke:#000000;stroke-width:2.0px;stroke-linecap:butt;stroke-linejoin:miter;stroke-opacity:1\"/>\n",
       "<path class=\"atom-13\" d=\"M 238.6 372.2 Q 238.6 366.2, 241.6 362.9 Q 244.5 359.6, 250.0 359.6 Q 255.5 359.6, 258.4 362.9 Q 261.4 366.2, 261.4 372.2 Q 261.4 378.2, 258.4 381.6 Q 255.4 385.0, 250.0 385.0 Q 244.5 385.0, 241.6 381.6 Q 238.6 378.2, 238.6 372.2 M 250.0 382.2 Q 253.8 382.2, 255.8 379.7 Q 257.9 377.2, 257.9 372.2 Q 257.9 367.3, 255.8 364.9 Q 253.8 362.4, 250.0 362.4 Q 246.2 362.4, 244.2 364.8 Q 242.1 367.3, 242.1 372.2 Q 242.1 377.2, 244.2 379.7 Q 246.2 382.2, 250.0 382.2 \" fill=\"#FF0000\"/>\n",
       "</svg>"
      ],
      "text/plain": [
       "<IPython.core.display.SVG object>"
      ]
     },
     "execution_count": 93,
     "metadata": {},
     "output_type": "execute_result"
    }
   ],
   "source": [
    "from rdkit.Chem.Draw import rdMolDraw2D\n",
    "from IPython.display import SVG\n",
    "\n",
    "#smi = 'COc1ccc(C=NNC2=NC(=O)C(CC(=O)NC(C)C)S2)cc1'\n",
    "#mol = Chem.MolFromSmiles(smi)\n",
    "smi = \"C(c1ccccc1)(c1ccccc1)=O\"\n",
    "mol = Chem.MolFromSmiles(smi)\n",
    "#patt = Chem.MolFromSmarts('[CX3]=[OX1]')\n",
    "patt = Chem.MolFromSmarts('C([c,C])([c,C])=O')\n",
    "hit_ats = list(mol.GetSubstructMatch(patt))\n",
    "\n",
    "hit_bonds = []\n",
    "for bond in patt.GetBonds():\n",
    "    aid1 = hit_ats[bond.GetBeginAtomIdx()]\n",
    "    aid2 = hit_ats[bond.GetEndAtomIdx()]\n",
    "    hit_bonds.append(mol.GetBondBetweenAtoms(aid1,aid2).GetIdx())\n",
    "\n",
    "\n",
    "d = rdMolDraw2D.MolDraw2DSVG(500, 500)\n",
    "rdMolDraw2D.PrepareAndDrawMolecule(d, mol, highlightAtoms=hit_ats,\n",
    "                                   highlightBonds=hit_bonds)\n",
    "d.FinishDrawing()\n",
    "SVG(d.GetDrawingText())"
   ]
  },
  {
   "cell_type": "markdown",
   "metadata": {
    "id": "rwMx7zpGRM7B"
   },
   "source": [
    "### Exercise\n",
    "\n",
    "- Find the SMARTS string that represents a ketone, and display the substructure in a molecule of your choice"
   ]
  },
  {
   "cell_type": "markdown",
   "metadata": {
    "id": "zpBEELq-SxlO"
   },
   "source": [
    "### Molecular Descriptors"
   ]
  },
  {
   "cell_type": "code",
   "execution_count": 94,
   "metadata": {
    "colab": {
     "base_uri": "https://localhost:8080/",
     "height": 235
    },
    "id": "-eDsoby0QwA3",
    "outputId": "1c96e186-fb2b-41dd-bd53-7e345c4f7d55"
   },
   "outputs": [
    {
     "data": {
      "image/png": "[encoded data removed]",
      "text/plain": [
       "<IPython.core.display.Image object>"
      ]
     },
     "metadata": {},
     "output_type": "display_data"
    },
    {
     "name": "stdout",
     "output_type": "stream",
     "text": [
      "1.5313999999999997 92.15 6\n"
     ]
    }
   ],
   "source": [
    "from rdkit.Chem import Descriptors\n",
    "\n",
    "\n",
    "m = Chem.MolFromSmiles(r'COc1ccc(C=NNC2=NC(=O)C(CC(=O)NC(C)C)S2)cc1')\n",
    "img = Draw.MolsToGridImage([m])\n",
    "display(img)\n",
    "\n",
    "print(Descriptors.MolLogP(m), Descriptors.TPSA(m), Descriptors.NumRotatableBonds(m))"
   ]
  },
  {
   "cell_type": "markdown",
   "metadata": {
    "id": "hocJ7kH3TD_M"
   },
   "source": [
    "### Generating 3D Conformers"
   ]
  },
  {
   "cell_type": "code",
   "execution_count": 95,
   "metadata": {
    "colab": {
     "base_uri": "https://localhost:8080/"
    },
    "id": "OoX4r9H8S3ve",
    "outputId": "a86796c3-1104-4a56-b725-a80b9eebe189"
   },
   "outputs": [
    {
     "name": "stdout",
     "output_type": "stream",
     "text": [
      "1\n",
      "5\n",
      "[[ 6.68425156 -0.5966471   2.26418068]\n",
      " [ 7.05845423 -0.67189964  0.90570023]\n",
      " [ 6.13966601 -0.29434629 -0.09174102]\n",
      " [ 4.89853362  0.13984537  0.26381193]\n",
      " [ 4.014217    0.50593858 -0.75707009]\n",
      " [ 4.38761837  0.42871438 -2.06366142]\n",
      " [ 3.48683852  0.80328317 -3.14050778]\n",
      " [ 2.33886833  1.21343305 -3.00513791]\n",
      " [ 1.4660647   1.48507356 -2.00093242]\n",
      " [ 0.40016573  0.65538614 -1.57207226]\n",
      " [ 0.2604333  -0.55812884 -1.91856908]\n",
      " [-0.81361747 -1.2815125  -1.44332135]\n",
      " [-0.91507419 -2.5578906  -1.26788395]\n",
      " [-1.98449437 -0.4257566  -1.10277738]\n",
      " [-2.81789094 -0.99534885  0.01110172]\n",
      " [-3.94939466 -0.06614079  0.2625555 ]\n",
      " [-4.09285732  0.99224906 -0.40225561]\n",
      " [-4.92945566 -0.32016312  1.26463796]\n",
      " [-6.02050208  0.60266811  1.48706703]\n",
      " [-5.96575459  1.1315047   2.90036344]\n",
      " [-7.35039975 -0.06225683  1.22127794]\n",
      " [-0.99757798  1.01631513 -0.50346197]\n",
      " [ 5.67309864 -0.02262659 -2.39528258]\n",
      " [ 6.53571489 -0.37986901 -1.39641771]\n",
      " [ 6.19429068  0.37734719  2.46199006]\n",
      " [ 5.90718887 -1.37237953  2.47007047]\n",
      " [ 7.5597858  -0.69272198  2.91725526]\n",
      " [ 4.54860266  0.22204776  1.26667615]\n",
      " [ 3.04463796  0.84422394 -0.45873483]\n",
      " [ 3.85201724  0.71800478 -4.19736344]\n",
      " [ 1.56558568  2.40293727 -1.47159112]\n",
      " [-2.56278933 -0.08332423 -1.95484782]\n",
      " [-2.22676003 -1.14248802  0.94220108]\n",
      " [-3.23524069 -1.98320485 -0.2677651 ]\n",
      " [-4.82096532 -1.20306757  1.82864623]\n",
      " [-5.9155157   1.4451538   0.77539332]\n",
      " [-6.80434326  0.75474469  3.53091027]\n",
      " [-5.03136874  0.89263607  3.41955587]\n",
      " [-6.05160931  2.24154533  2.88044092]\n",
      " [-8.0910221   0.7487556   1.06138031]\n",
      " [-7.6556251  -0.67776457  2.10007819]\n",
      " [-7.25938919 -0.66201244  0.29381906]\n",
      " [ 5.93718871 -0.07174759 -3.44318273]\n",
      " [ 7.53842528 -0.73105069 -1.67453604]]\n"
     ]
    }
   ],
   "source": [
    "m = Chem.MolFromSmiles(r'COc1ccc(C=NNC2=NC(=O)C(CC(=O)NC(C)C)S2)cc1')\n",
    "m = Chem.AddHs(m) # Add Hs to the molecule before generating the conformers\n",
    "\n",
    "AllChem.EmbedMolecule(m,randomSeed=0xf00d,useExpTorsionAnglePrefs=True,useBasicKnowledge=True)\n",
    "print(m.GetNumConformers())\n",
    "\n",
    "cids = AllChem.EmbedMultipleConfs(m,10,pruneRmsThresh=1.0,randomSeed=0xf00d,\n",
    "                           useExpTorsionAnglePrefs=True,useBasicKnowledge=True)\n",
    "print(m.GetNumConformers())\n",
    "\n",
    "conf = m.GetConformer(cids[0])\n",
    "print(conf.GetPositions())"
   ]
  },
  {
   "cell_type": "markdown",
   "metadata": {
    "id": "zv_-H1-kTvav"
   },
   "source": [
    "## Using MMFF94 force field to minimize the energy of a conformer"
   ]
  },
  {
   "cell_type": "code",
   "execution_count": 96,
   "metadata": {
    "colab": {
     "base_uri": "https://localhost:8080/"
    },
    "id": "XtR2tMELTu8N",
    "outputId": "cc0d21b1-58ec-451b-cbec-46f9b6cdb331"
   },
   "outputs": [
    {
     "name": "stdout",
     "output_type": "stream",
     "text": [
      "1\n",
      "[[ 4.50087876e+00 -6.13662848e-01  2.81232587e+00]\n",
      " [ 4.63092599e+00 -1.25307374e+00  1.54902661e+00]\n",
      " [ 4.33422825e+00 -5.06608509e-01  4.42550782e-01]\n",
      " [ 3.88160103e+00  8.14254633e-01  4.41440377e-01]\n",
      " [ 3.60911832e+00  1.46219362e+00 -7.68463788e-01]\n",
      " [ 3.78173160e+00  7.85186834e-01 -1.97847651e+00]\n",
      " [ 3.53900192e+00  1.45227971e+00 -3.27400465e+00]\n",
      " [ 2.56093832e+00  2.24030549e+00 -3.62125981e+00]\n",
      " [ 1.50068250e+00  2.36256771e+00 -2.76536219e+00]\n",
      " [ 6.01027124e-01  1.35471807e+00 -2.49694853e+00]\n",
      " [ 7.14768271e-01  9.41526859e-02 -2.74109862e+00]\n",
      " [-3.73199341e-01 -6.40530989e-01 -2.33980354e+00]\n",
      " [-4.32495774e-01 -1.86166532e+00 -2.44099946e+00]\n",
      " [-1.51187616e+00  1.73015080e-01 -1.74936170e+00]\n",
      " [-1.86642798e+00 -3.42577291e-01 -3.60703471e-01]\n",
      " [-3.25532437e+00  7.79306800e-02  6.31309449e-02]\n",
      " [-4.03710625e+00  6.71440471e-01 -6.69613323e-01]\n",
      " [-3.55270187e+00 -2.89089833e-01  1.36052202e+00]\n",
      " [-4.87929210e+00 -8.29908744e-02  1.92657911e+00]\n",
      " [-4.79144760e+00 -4.92448708e-03  3.44708551e+00]\n",
      " [-5.82718354e+00 -1.19971880e+00  1.49494285e+00]\n",
      " [-8.71694117e-01  1.87776510e+00 -1.71593956e+00]\n",
      " [ 4.25319013e+00 -5.27184207e-01 -1.98645182e+00]\n",
      " [ 4.51792712e+00 -1.17017998e+00 -7.75006732e-01]\n",
      " [ 5.18036850e+00  2.41211305e-01  2.89332445e+00]\n",
      " [ 3.46430206e+00 -3.14174178e-01  2.99854382e+00]\n",
      " [ 4.78231947e+00 -1.33678824e+00  3.58393851e+00]\n",
      " [ 3.73409031e+00  1.36966216e+00  1.36146955e+00]\n",
      " [ 3.27640339e+00  2.49671323e+00 -7.58420473e-01]\n",
      " [ 4.30836310e+00  1.26257672e+00 -4.04281452e+00]\n",
      " [ 1.04051274e+00  3.27075955e+00 -2.80298094e+00]\n",
      " [-2.34995659e+00  1.23406413e-01 -2.45248451e+00]\n",
      " [-1.13776538e+00 -1.67378238e-02  3.92106696e-01]\n",
      " [-1.86273092e+00 -1.44019244e+00 -3.52484721e-01]\n",
      " [-2.94447393e+00 -9.56637500e-01  1.81866603e+00]\n",
      " [-5.26723858e+00  8.70083557e-01  1.54739848e+00]\n",
      " [-4.40050765e+00 -9.36237888e-01  3.87230080e+00]\n",
      " [-4.12157848e+00  8.05212035e-01  3.75513145e+00]\n",
      " [-5.77626589e+00  1.83856467e-01  3.88683691e+00]\n",
      " [-6.82693105e+00 -1.04791922e+00  1.91490114e+00]\n",
      " [-5.46184092e+00 -2.17838257e+00  1.82536204e+00]\n",
      " [-5.92222065e+00 -1.23571778e+00  4.04393360e-01]\n",
      " [ 4.39154057e+00 -1.06438148e+00 -2.92086267e+00]\n",
      " [ 4.86633965e+00 -2.20045605e+00 -7.78435757e-01]]\n"
     ]
    }
   ],
   "source": [
    "m = Chem.MolFromSmiles(r'COc1ccc(C=NNC2=NC(=O)C(CC(=O)NC(C)C)S2)cc1')\n",
    "m = Chem.AddHs(m) # Add Hs to the molecule before generating the conformers\n",
    "\n",
    "AllChem.EmbedMolecule(m,randomSeed=0xf00d,useExpTorsionAnglePrefs=True,useBasicKnowledge=True)\n",
    "print(m.GetNumConformers())\n",
    "\n",
    "AllChem.MMFFOptimizeMolecule(m)\n",
    "\n",
    "for c in m.GetConformers():\n",
    "  print(c.GetPositions())"
   ]
  },
  {
   "cell_type": "markdown",
   "metadata": {
    "id": "hIReOa4kVT0b"
   },
   "source": [
    "# Molecule Features and Fingerprints\n",
    "\n",
    "![image.png](data:image/png;base64,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)\n",
    "\n",
    "Details of RDKit Fingerprinting: https://rdkit.org/UGM/2012/Landrum_RDKit_UGM.Fingerprints.Final.pptx.pdf\n",
    "\n",
    "There are many different methods for doing the same. For now we stick with RDKit Fingerprints. Fingerprints attempt to characterize local features and subgraphs.\n",
    "\n",
    "Matching subgraphs, a.k.a. subgraph isomorphism, is an NP-complete problem."
   ]
  },
  {
   "cell_type": "markdown",
   "metadata": {
    "id": "hB7AaSPvV7iw"
   },
   "source": [
    "## RDKit Fingerprint Algorithm\n",
    "\n",
    "* Substructure fingerprint\n",
    "* Atom types: set by atomic number and aromaticity\n",
    "* Bond types: set by atom types and bond types\n",
    "\n",
    "Algorithm:\n",
    "For each subgraph (or path, if `branchedPaths` is false) of length `minPath - maxPath` bonds:\n",
    "1. Generate hash for the path using bond types and each bond’s neighbor count\n",
    "2. seed random-number generator with hash\n",
    "3. generate `nBitsPerHash` random numbers between 0 and fpSize and set the corresponding bits\n",
    "4. [optional]: “fold” fingerprint to target density of `tgtDensity` of bits set (minimum size `minSize` bits)"
   ]
  },
  {
   "cell_type": "code",
   "execution_count": 97,
   "metadata": {
    "colab": {
     "base_uri": "https://localhost:8080/"
    },
    "id": "ct7S2yGHTW8o",
    "outputId": "0e895411-fda4-4fac-ae31-90c892f1b94a"
   },
   "outputs": [
    {
     "name": "stdout",
     "output_type": "stream",
     "text": [
      "Number of Bits: 2048\n",
      "Number of On Bits: 63\n",
      "Number of Off Bits: 1985\n",
      "Full Bit String: [0. 0. 0. ... 0. 0. 1.]\n"
     ]
    }
   ],
   "source": [
    "mol = Chem.MolFromSmiles(\"C(C)(C)NC(=O)NO\")\n",
    "fingerprint = Chem.RDKFingerprint(mol)\n",
    "\n",
    "print(\"Number of Bits:\", fingerprint.GetNumBits())\n",
    "print(\"Number of On Bits:\", fingerprint.GetNumOnBits())\n",
    "print(\"Number of Off Bits:\", fingerprint.GetNumOffBits())\n",
    "array = np.array([float(digit) for digit in fingerprint.ToBitString()])\n",
    "print(\"Full Bit String:\", array)\n"
   ]
  },
  {
   "cell_type": "markdown",
   "metadata": {
    "id": "NQ9eJPm-XREE"
   },
   "source": [
    "## Fingerprints for predicting Solvation Energy"
   ]
  },
  {
   "cell_type": "code",
   "execution_count": 98,
   "metadata": {
    "id": "dK3gaWD5XDuI"
   },
   "outputs": [],
   "source": [
    "df = pd.read_csv(\"Data/lab5_data/freesolv_database.csv\", sep=';')"
   ]
  },
  {
   "cell_type": "code",
   "execution_count": 99,
   "metadata": {},
   "outputs": [
    {
     "data": {
      "text/html": [
       "<div>\n",
       "<style scoped>\n",
       "    .dataframe tbody tr th:only-of-type {\n",
       "        vertical-align: middle;\n",
       "    }\n",
       "\n",
       "    .dataframe tbody tr th {\n",
       "        vertical-align: top;\n",
       "    }\n",
       "\n",
       "    .dataframe thead th {\n",
       "        text-align: right;\n",
       "    }\n",
       "</style>\n",
       "<table border=\"1\" class=\"dataframe\">\n",
       "  <thead>\n",
       "    <tr style=\"text-align: right;\">\n",
       "      <th></th>\n",
       "      <th>compound id (and file prefix)</th>\n",
       "      <th>SMILES</th>\n",
       "      <th>iupac name (or alternative if IUPAC is unavailable or not parseable by OEChem)</th>\n",
       "      <th>experimental value (kcal/mol)</th>\n",
       "      <th>experimental uncertainty (kcal/mol)</th>\n",
       "      <th>Mobley group calculated value (GAFF) (kcal/mol)</th>\n",
       "      <th>calculated uncertainty (kcal/mol)</th>\n",
       "      <th>experimental reference (original or paper this value was taken from)</th>\n",
       "      <th>calculated reference</th>\n",
       "      <th>text notes.</th>\n",
       "    </tr>\n",
       "  </thead>\n",
       "  <tbody>\n",
       "    <tr>\n",
       "      <th>0</th>\n",
       "      <td>mobley_1017962</td>\n",
       "      <td>CCCCCC(=O)OC</td>\n",
       "      <td>methyl hexanoate</td>\n",
       "      <td>-2.49</td>\n",
       "      <td>0.6</td>\n",
       "      <td>-3.30</td>\n",
       "      <td>0.03</td>\n",
       "      <td>10.1021/ct050097l</td>\n",
       "      <td>10.1021/ct800409d</td>\n",
       "      <td>Experimental uncertainty not presently availa...</td>\n",
       "    </tr>\n",
       "    <tr>\n",
       "      <th>1</th>\n",
       "      <td>mobley_1019269</td>\n",
       "      <td>CCCCO</td>\n",
       "      <td>butan-1-ol</td>\n",
       "      <td>-4.72</td>\n",
       "      <td>0.6</td>\n",
       "      <td>-3.23</td>\n",
       "      <td>0.03</td>\n",
       "      <td>10.1021/ct050097l</td>\n",
       "      <td>10.1021/ct800409d</td>\n",
       "      <td>Experimental uncertainty not presently availa...</td>\n",
       "    </tr>\n",
       "    <tr>\n",
       "      <th>2</th>\n",
       "      <td>mobley_1034539</td>\n",
       "      <td>c1cc(c(cc1c2cc(c(c(c2Cl)Cl)Cl)Cl)Cl)Cl</td>\n",
       "      <td>1,2,3,4-tetrachloro-5-(3,4-dichlorophenyl)ben...</td>\n",
       "      <td>-3.04</td>\n",
       "      <td>0.1</td>\n",
       "      <td>-1.08</td>\n",
       "      <td>0.04</td>\n",
       "      <td>10.1007/s10822-012-9568-8</td>\n",
       "      <td>10.1007/s10822-011-9528-8</td>\n",
       "      <td>Experimental uncertainty not presently availa...</td>\n",
       "    </tr>\n",
       "    <tr>\n",
       "      <th>3</th>\n",
       "      <td>mobley_1036761</td>\n",
       "      <td>C1CCC(CC1)N</td>\n",
       "      <td>cyclohexanamine</td>\n",
       "      <td>-4.59</td>\n",
       "      <td>0.6</td>\n",
       "      <td>-3.95</td>\n",
       "      <td>0.03</td>\n",
       "      <td>10.1021/ct050097l</td>\n",
       "      <td>10.1021/ct800409d</td>\n",
       "      <td>Experimental uncertainty not presently availa...</td>\n",
       "    </tr>\n",
       "    <tr>\n",
       "      <th>4</th>\n",
       "      <td>mobley_1046331</td>\n",
       "      <td>c1ccc(cc1)OC=O</td>\n",
       "      <td>phenyl formate</td>\n",
       "      <td>-3.82</td>\n",
       "      <td>0.6</td>\n",
       "      <td>-5.44</td>\n",
       "      <td>0.03</td>\n",
       "      <td>J. Peter Guthrie, unpublished data, as provid...</td>\n",
       "      <td>10.1021/ct800409d</td>\n",
       "      <td>Experimental uncertainty not presently availa...</td>\n",
       "    </tr>\n",
       "    <tr>\n",
       "      <th>...</th>\n",
       "      <td>...</td>\n",
       "      <td>...</td>\n",
       "      <td>...</td>\n",
       "      <td>...</td>\n",
       "      <td>...</td>\n",
       "      <td>...</td>\n",
       "      <td>...</td>\n",
       "      <td>...</td>\n",
       "      <td>...</td>\n",
       "      <td>...</td>\n",
       "    </tr>\n",
       "    <tr>\n",
       "      <th>638</th>\n",
       "      <td>mobley_9913368</td>\n",
       "      <td>C(=C/Cl)\\Cl</td>\n",
       "      <td>(E)-1,2-dichloroethylene</td>\n",
       "      <td>-0.78</td>\n",
       "      <td>0.6</td>\n",
       "      <td>1.02</td>\n",
       "      <td>0.02</td>\n",
       "      <td>10.1021/ct050097l</td>\n",
       "      <td>10.1021/ct800409d</td>\n",
       "      <td>Renamed mobley_9913368 from (E)-1,2-dichloroe...</td>\n",
       "    </tr>\n",
       "    <tr>\n",
       "      <th>639</th>\n",
       "      <td>mobley_9942801</td>\n",
       "      <td>CCc1ccc(cc1)C</td>\n",
       "      <td>1-ethyl-4-methyl-benzene</td>\n",
       "      <td>-0.95</td>\n",
       "      <td>0.6</td>\n",
       "      <td>-0.57</td>\n",
       "      <td>0.03</td>\n",
       "      <td>10.1021/ct050097l</td>\n",
       "      <td>10.1021/ct800409d</td>\n",
       "      <td>Experimental uncertainty not presently availa...</td>\n",
       "    </tr>\n",
       "    <tr>\n",
       "      <th>640</th>\n",
       "      <td>mobley_994483</td>\n",
       "      <td>CCBr</td>\n",
       "      <td>bromoethane</td>\n",
       "      <td>-0.74</td>\n",
       "      <td>0.6</td>\n",
       "      <td>0.49</td>\n",
       "      <td>0.02</td>\n",
       "      <td>10.1021/ct050097l</td>\n",
       "      <td>10.1021/ct800409d</td>\n",
       "      <td>Experimental uncertainty not presently availa...</td>\n",
       "    </tr>\n",
       "    <tr>\n",
       "      <th>641</th>\n",
       "      <td>mobley_9974966</td>\n",
       "      <td>CC(C)SC(C)C</td>\n",
       "      <td>2-isopropylsulfanylpropane</td>\n",
       "      <td>-1.21</td>\n",
       "      <td>0.6</td>\n",
       "      <td>0.14</td>\n",
       "      <td>0.03</td>\n",
       "      <td>10.1021/ct050097l</td>\n",
       "      <td>10.1021/ct800409d</td>\n",
       "      <td>Experimental uncertainty not presently availa...</td>\n",
       "    </tr>\n",
       "    <tr>\n",
       "      <th>642</th>\n",
       "      <td>mobley_9979854</td>\n",
       "      <td>C[C@H](C(F)(F)F)O</td>\n",
       "      <td>111-trifluoropropan-2-ol</td>\n",
       "      <td>-4.20</td>\n",
       "      <td>0.2</td>\n",
       "      <td>-3.49</td>\n",
       "      <td>0.03</td>\n",
       "      <td>10.1039/P29900000291</td>\n",
       "      <td>10.1021/jp0667442</td>\n",
       "      <td>Renamed mobley_9979854 from 1,1,1-trifluoropr...</td>\n",
       "    </tr>\n",
       "  </tbody>\n",
       "</table>\n",
       "<p>643 rows × 10 columns</p>\n",
       "</div>"
      ],
      "text/plain": [
       "    compound id (and file prefix)                                   SMILES  \\\n",
       "0                  mobley_1017962                             CCCCCC(=O)OC   \n",
       "1                  mobley_1019269                                    CCCCO   \n",
       "2                  mobley_1034539   c1cc(c(cc1c2cc(c(c(c2Cl)Cl)Cl)Cl)Cl)Cl   \n",
       "3                  mobley_1036761                              C1CCC(CC1)N   \n",
       "4                  mobley_1046331                           c1ccc(cc1)OC=O   \n",
       "..                            ...                                      ...   \n",
       "638                mobley_9913368                              C(=C/Cl)\\Cl   \n",
       "639                mobley_9942801                            CCc1ccc(cc1)C   \n",
       "640                 mobley_994483                                     CCBr   \n",
       "641                mobley_9974966                              CC(C)SC(C)C   \n",
       "642                mobley_9979854                        C[C@H](C(F)(F)F)O   \n",
       "\n",
       "    iupac name (or alternative if IUPAC is unavailable or not parseable by OEChem)  \\\n",
       "0                                     methyl hexanoate                               \n",
       "1                                           butan-1-ol                               \n",
       "2     1,2,3,4-tetrachloro-5-(3,4-dichlorophenyl)ben...                               \n",
       "3                                      cyclohexanamine                               \n",
       "4                                       phenyl formate                               \n",
       "..                                                 ...                               \n",
       "638                           (E)-1,2-dichloroethylene                               \n",
       "639                           1-ethyl-4-methyl-benzene                               \n",
       "640                                        bromoethane                               \n",
       "641                         2-isopropylsulfanylpropane                               \n",
       "642                           111-trifluoropropan-2-ol                               \n",
       "\n",
       "     experimental value (kcal/mol)  experimental uncertainty (kcal/mol)  \\\n",
       "0                            -2.49                                  0.6   \n",
       "1                            -4.72                                  0.6   \n",
       "2                            -3.04                                  0.1   \n",
       "3                            -4.59                                  0.6   \n",
       "4                            -3.82                                  0.6   \n",
       "..                             ...                                  ...   \n",
       "638                          -0.78                                  0.6   \n",
       "639                          -0.95                                  0.6   \n",
       "640                          -0.74                                  0.6   \n",
       "641                          -1.21                                  0.6   \n",
       "642                          -4.20                                  0.2   \n",
       "\n",
       "     Mobley group calculated value (GAFF) (kcal/mol)  \\\n",
       "0                                              -3.30   \n",
       "1                                              -3.23   \n",
       "2                                              -1.08   \n",
       "3                                              -3.95   \n",
       "4                                              -5.44   \n",
       "..                                               ...   \n",
       "638                                             1.02   \n",
       "639                                            -0.57   \n",
       "640                                             0.49   \n",
       "641                                             0.14   \n",
       "642                                            -3.49   \n",
       "\n",
       "     calculated uncertainty (kcal/mol)  \\\n",
       "0                                 0.03   \n",
       "1                                 0.03   \n",
       "2                                 0.04   \n",
       "3                                 0.03   \n",
       "4                                 0.03   \n",
       "..                                 ...   \n",
       "638                               0.02   \n",
       "639                               0.03   \n",
       "640                               0.02   \n",
       "641                               0.03   \n",
       "642                               0.03   \n",
       "\n",
       "    experimental reference (original or paper this value was taken from)  \\\n",
       "0                                    10.1021/ct050097l                     \n",
       "1                                    10.1021/ct050097l                     \n",
       "2                            10.1007/s10822-012-9568-8                     \n",
       "3                                    10.1021/ct050097l                     \n",
       "4     J. Peter Guthrie, unpublished data, as provid...                     \n",
       "..                                                 ...                     \n",
       "638                                  10.1021/ct050097l                     \n",
       "639                                  10.1021/ct050097l                     \n",
       "640                                  10.1021/ct050097l                     \n",
       "641                                  10.1021/ct050097l                     \n",
       "642                               10.1039/P29900000291                     \n",
       "\n",
       "           calculated reference  \\\n",
       "0             10.1021/ct800409d   \n",
       "1             10.1021/ct800409d   \n",
       "2     10.1007/s10822-011-9528-8   \n",
       "3             10.1021/ct800409d   \n",
       "4             10.1021/ct800409d   \n",
       "..                          ...   \n",
       "638           10.1021/ct800409d   \n",
       "639           10.1021/ct800409d   \n",
       "640           10.1021/ct800409d   \n",
       "641           10.1021/ct800409d   \n",
       "642           10.1021/jp0667442   \n",
       "\n",
       "                                           text notes.  \n",
       "0     Experimental uncertainty not presently availa...  \n",
       "1     Experimental uncertainty not presently availa...  \n",
       "2     Experimental uncertainty not presently availa...  \n",
       "3     Experimental uncertainty not presently availa...  \n",
       "4     Experimental uncertainty not presently availa...  \n",
       "..                                                 ...  \n",
       "638   Renamed mobley_9913368 from (E)-1,2-dichloroe...  \n",
       "639   Experimental uncertainty not presently availa...  \n",
       "640   Experimental uncertainty not presently availa...  \n",
       "641   Experimental uncertainty not presently availa...  \n",
       "642   Renamed mobley_9979854 from 1,1,1-trifluoropr...  \n",
       "\n",
       "[643 rows x 10 columns]"
      ]
     },
     "execution_count": 99,
     "metadata": {},
     "output_type": "execute_result"
    }
   ],
   "source": [
    "df"
   ]
  },
  {
   "cell_type": "markdown",
   "metadata": {
    "id": "Bsxb9IbvXqT7"
   },
   "source": [
    "Now for each of the molecules we need to compute molecular features, which are the fingerprints. We do it and stack them up to make our inputs matrix."
   ]
  },
  {
   "cell_type": "code",
   "execution_count": 102,
   "metadata": {
    "id": "M8Zz15HdXiPq"
   },
   "outputs": [],
   "source": [
    "def featurize(smiles):\n",
    "    molecule = rdkit.Chem.MolFromSmiles(smiles)\n",
    "    fingerprint = rdkit.Chem.RDKFingerprint(molecule)\n",
    "    x = np.array(\n",
    "        [float(digit) for digit in fingerprint.ToBitString()],\n",
    "        dtype=np.float32,\n",
    "    )\n",
    "    return x\n",
    "\n",
    "\n",
    "x = np.stack(df['SMILES'].apply(featurize).values)\n",
    "y = df['experimental value (kcal/mol)'].values"
   ]
  },
  {
   "cell_type": "markdown",
   "metadata": {
    "id": "UdeME7AUYCDP"
   },
   "source": [
    "We perform linear regression on this feature matrix."
   ]
  },
  {
   "cell_type": "code",
   "execution_count": 103,
   "metadata": {
    "colab": {
     "base_uri": "https://localhost:8080/"
    },
    "id": "1-saAfJsX9nc",
    "outputId": "ed7dbfc5-e7da-4a99-b2e9-05bb0445d761"
   },
   "outputs": [
    {
     "data": {
      "text/plain": [
       "LinearRegression()"
      ]
     },
     "execution_count": 103,
     "metadata": {},
     "output_type": "execute_result"
    }
   ],
   "source": [
    "model = sklearn.linear_model.LinearRegression()\n",
    "\n",
    "x_train, x_test, y_train, y_test = sklearn.model_selection.train_test_split(\n",
    "    x, y, test_size=0.2\n",
    ")\n",
    "model.fit(x_train, y_train)\n"
   ]
  },
  {
   "cell_type": "code",
   "execution_count": 104,
   "metadata": {
    "colab": {
     "base_uri": "https://localhost:8080/"
    },
    "id": "kvdhOnsaYOci",
    "outputId": "0c4266bf-76a0-4db6-b920-be3601b087b2"
   },
   "outputs": [
    {
     "name": "stdout",
     "output_type": "stream",
     "text": [
      "Error in Train Data: 0.042397615033030085\n",
      "Variance in the Train Data: 13.005607008811639\n",
      "Error in Test Data: 2158.1160616827856\n",
      "Variance in the Test Data: 21.405539967550027\n"
     ]
    }
   ],
   "source": [
    "print(\"Error in Train Data:\", \n",
    "      np.mean(np.square(y_train - model.predict(x_train))))\n",
    "print(\"Variance in the Train Data:\", np.var(y_train))\n",
    "\n",
    "print(\"Error in Test Data:\", \n",
    "      np.mean(np.square(y_test - model.predict(x_test))))\n",
    "print(\"Variance in the Test Data:\", np.var(y_test))"
   ]
  },
  {
   "cell_type": "markdown",
   "metadata": {
    "id": "lifcoEnBYkv-"
   },
   "source": [
    "## Extended Connectivity Fingerprints\n",
    "\n",
    "1. Compute a unique index for each atom. This is a long integer hash made using the following features (Daylight atomic invariants)\n",
    "\n",
    "* Number of non-hydrogen immediate neighbors\n",
    "* Valency minus the number of connected hydrogens (i.e., total bond order ignoring H)\n",
    "* Atomic number\n",
    "* Atomic mass\n",
    "* Atomic charge\n",
    "* Number of attached hydrogens (both implicit and explicit)\n",
    "\n",
    "2. Aggregate information from neighboring atoms and bonds connecting to them and use it to compute new feature vector.\n",
    "\n",
    "    `[bond-order-1, atom-1-hash, bond-order-1, atom-2-hash, ...]`\n",
    "\n",
    "    We hash this list to generate the 1-st iteration features for the atoms. These features in the 1-st iteration grab information from radius 1, diameter 2. We repeat this proecss, the 2-nd iteration vector will have information from radius 2, diameter 4.\n",
    "\n",
    "    We do this for 2-3 iterations, leading to the different ECFP types, **ECFP-4, ECFP-6**, etc., depending on the diameter of data aggregation. \n",
    "    \n",
    "    We also keep track of which bonds and atoms are getting aggregated in each iteration, and we de-duplicate the same neighborhood being added as a feature from two different starting points.\n",
    "\n",
    "3. Given a target vector size, say 2048, take all the computed hashes over all iterations and find their values in this mod-field. i.e. `feature-id = hash-index % 2048`.\n",
    "\n",
    "    Marks these feature ids in a 2048 length bit-vector, which now represents a hashed list of unique atom features, and substructure features upto small radii.\n",
    "\n",
    "The following features are important to note about ECFP:\n",
    "* The Hydrogen atoms are not a part of the fingerprinting process.\n",
    "* ECFP depends on the hash function implementation of each programming language and therefore may differ in value from implementation to implementation.\n",
    "* ECFP-4 is sufficient for most clustering or similarity indexing tasks.\n",
    "* ECFP-6 or ECFP-8 might be needed for activity prediction tasks.\n",
    "\n",
    "\n",
    "Refer to https://chemicbook.com/2021/03/25/a-beginners-guide-for-understanding-extended-connectivity-fingerprints.html for a detailed explainiation."
   ]
  },
  {
   "cell_type": "code",
   "execution_count": 105,
   "metadata": {
    "colab": {
     "base_uri": "https://localhost:8080/"
    },
    "id": "8aXQx6XgYUvJ",
    "outputId": "227beee9-bde9-4aec-c31e-f06cb1dcac2c"
   },
   "outputs": [
    {
     "name": "stdout",
     "output_type": "stream",
     "text": [
      "Morgan Fingerprint of Benzene [0 0 1 0 1 0 0 0 0 0 0 0 0 0 0 0 0 0 0 0 0 0 0 1 0 0 0 0 0 0 1 0]\n"
     ]
    }
   ],
   "source": [
    "molecule = rdkit.Chem.MolFromSmiles(\"C1CCCC1\")\n",
    "\n",
    "fingerprint = AllChem.GetMorganFingerprintAsBitVect(\n",
    "                                                    molecule,\n",
    "                                                    radius=3,\n",
    "                                                    nBits=32\n",
    "    )\n",
    "fingerprint = np.asarray(fingerprint)\n",
    "\n",
    "print(\"Morgan Fingerprint of Benzene\", fingerprint)"
   ]
  },
  {
   "cell_type": "markdown",
   "metadata": {
    "id": "-wWfJbQ_aKMp"
   },
   "source": [
    "## Molecule Similarity\n",
    "\n",
    "$$\\text{Travsky}_{a,b}(V_i, V_j) = \\frac{V_i \\cdot V_j}{a ||V_i||_1 + b ||V_j||_1 + (1 - a- b) V_i \\cdot V_j}$$\n",
    "\n",
    "Travsky similarity is the general framework in which all other fingerprint similarity measures fit."
   ]
  },
  {
   "cell_type": "markdown",
   "metadata": {
    "id": "phBEg0cDaUkE"
   },
   "source": [
    "$$\\text{Tanimoto}(V_i, V_j) = \\text{Travsky}_{1,1}(V_i, V_j)$$\n",
    "\n",
    "Tanimoto similarity is the ratio of the number of molecular features present in both molecules (intersection) over the number of molecular features present in either molecule (union).\n",
    "\n",
    "$$\\text{Tanimoto}(V_i, V_j) = \\frac{V_i \\cdot V_j}{||V_i||_1 + ||V_j||_1 - V_i \\cdot V_j}$$"
   ]
  },
  {
   "cell_type": "markdown",
   "metadata": {
    "id": "wK1iyLv7aXEh"
   },
   "source": [
    "$$\\text{Dice}(V_i, V_j) = \\text{Travsky}_{0.5,0.5}(V_i, V_j)$$\n",
    "\n",
    "Tanimoto similarity is the ratio of the number of molecular features present in both molecules (intersection) over the average number of molecular features present in both the molecules (mean of L1 norm).\n",
    "\n",
    "$$\\text{Dice}(V_i, V_j) = \\frac{V_i \\cdot V_j}{\\frac{1}{2} ||V_i||_1 + \\frac{1}{2} ||V_j||_1}$$"
   ]
  },
  {
   "cell_type": "code",
   "execution_count": 108,
   "metadata": {
    "colab": {
     "base_uri": "https://localhost:8080/",
     "height": 49,
     "referenced_widgets": [
      "bb7c3bc856af4aa788d5d86116fc610c",
      "c2df787e72ac41f6818c41feb297f907",
      "2787d6bb26ca4e48b551c8743c30eb0d",
      "182c25a8a64c4a799652efeb3bed839c",
      "60a267ef9d3544efb01718d29d24b66c",
      "c9f9ff54d01a4c5687c8dfac22ad8461",
      "28d5c50444434e6cb39b8921fcddafb9",
      "5bf12265fa894aa0a25fd1a5bf3b4605",
      "ece87f1fd58d4d0bbcf783c845634b0e",
      "892a24f93aa54646a0369c00e2bad8bd",
      "1958df63fead461eba9d397b578f6ba5"
     ]
    },
    "id": "I-41E4wyaE9A",
    "outputId": "1c8ba4e7-e8e8-47a8-fbd6-21f3405b9576"
   },
   "outputs": [
    {
     "data": {
      "application/vnd.jupyter.widget-view+json": {
       "model_id": "4b86082affa74ee4a817357e59c9fbcd",
       "version_major": 2,
       "version_minor": 0
      },
      "text/plain": [
       "  0%|          | 0/66706 [00:00<?, ?it/s]"
      ]
     },
     "metadata": {},
     "output_type": "display_data"
    }
   ],
   "source": [
    "def generate_molecule_data(batch_size=128):\n",
    "    smiles, data = [], []\n",
    "    with open(\"Data/lab5_data/gdb11_size08.smi\", \"r\") as f:\n",
    "        for dataline in tqdm.tqdm(list(f.readlines())):\n",
    "            smile = dataline.split()[0]\n",
    "            molecule = rdkit.Chem.MolFromSmiles(smile)\n",
    "            fingerprint = rdkit.Chem.RDKFingerprint(molecule)\n",
    "            data.append(fingerprint)\n",
    "            smiles.append(smile)\n",
    "    return data, smiles\n",
    "\n",
    "fingerprints, smiles = generate_molecule_data()"
   ]
  },
  {
   "cell_type": "code",
   "execution_count": 109,
   "metadata": {
    "id": "2uAPNCv7bBbD"
   },
   "outputs": [],
   "source": [
    "molecule_idx = np.random.randint(len(smiles))\n",
    "\n",
    "similarities = [\n",
    "    rdkit.DataStructs.FingerprintSimilarity(\n",
    "        fingerprints[molecule_idx],\n",
    "        fingerprint\n",
    "    )\n",
    "    for fingerprint in fingerprints\n",
    "]\n",
    "\n",
    "indexes = np.argsort(similarities)[::-1]"
   ]
  },
  {
   "cell_type": "code",
   "execution_count": 110,
   "metadata": {
    "colab": {
     "base_uri": "https://localhost:8080/",
     "height": 407
    },
    "id": "1nhjRRE7bR8D",
    "outputId": "5665e5ca-a8f2-45cb-93bb-474ff63c1be5"
   },
   "outputs": [
    {
     "data": {
      "image/png": "[encoded data removed]",
      "text/plain": [
       "<IPython.core.display.Image object>"
      ]
     },
     "metadata": {},
     "output_type": "display_data"
    }
   ],
   "source": [
    "img = rdkit.Chem.Draw.MolsToGridImage(\n",
    "    [rdkit.Chem.MolFromSmiles(smile) for smile in smiles[:10]],\n",
    "    molsPerRow=5,\n",
    "    legends=smiles[:10]\n",
    ")\n",
    "display(img)"
   ]
  },
  {
   "cell_type": "markdown",
   "metadata": {
    "id": "DEqEZM4ibmt-"
   },
   "source": [
    "## Exercise: Predict Log-p values"
   ]
  },
  {
   "cell_type": "code",
   "execution_count": 111,
   "metadata": {
    "colab": {
     "base_uri": "https://localhost:8080/",
     "height": 49,
     "referenced_widgets": [
      "93ef261cd5c043f3b083199c45ad8cf1",
      "c5e075d3529d43068a0676c5b01d4c53",
      "2abd15b956e649049aef63d91434ce47",
      "a79390214ead4a55b05cc9edb6443db0",
      "d08d45d493184181b77be53aadce78e2",
      "d1bc19c306134a24991e852d44d8e18c",
      "af516199fe51423295859bfe4d23fd0b",
      "b73ae306e09948b2a599f16786a0e0b4",
      "a237023cf9284bf6a1936559c9b49ddc",
      "7ff3fc4c683e417c8f526bc1034d4d35",
      "ce9242aa13b44eff887e0bb9dbdfc2cc"
     ]
    },
    "id": "xDX0kvoOb74E",
    "outputId": "780591d0-5999-4d29-a6f0-3982d23e01fd"
   },
   "outputs": [
    {
     "data": {
      "application/vnd.jupyter.widget-view+json": {
       "model_id": "302cd67cd66e4d74b1b96cd2bf28528a",
       "version_major": 2,
       "version_minor": 0
      },
      "text/plain": [
       "  0%|          | 0/66706 [00:00<?, ?it/s]"
      ]
     },
     "metadata": {},
     "output_type": "display_data"
    }
   ],
   "source": [
    "import rdkit.Chem.Crippen\n",
    "\n",
    "log_p = np.array([\n",
    "    rdkit.Chem.Crippen.MolLogP(rdkit.Chem.MolFromSmiles(smile))\n",
    "    for smile in tqdm.tqdm(smiles)\n",
    "], dtype=np.float32)"
   ]
  },
  {
   "cell_type": "markdown",
   "metadata": {
    "id": "vReYoLwMbuVx"
   },
   "source": [
    "Now you are given the list of all smiles and the list of all log-p values for those smiles. Use RDKit fingerprints and Morgan fingerprints (if it's hard to get these, see the code in the next segment) along with any other fingerprint methods of your choice, and evaluate which perform best as input to a linear regressor."
   ]
  },
  {
   "cell_type": "code",
   "execution_count": 112,
   "metadata": {
    "colab": {
     "base_uri": "https://localhost:8080/",
     "height": 49,
     "referenced_widgets": [
      "3a7d504117804a71b554ed98cd943e23",
      "5a82d2fe77b54f91aa475e10c431df39",
      "789523af8d604a2c9fb34a0d6449d50b",
      "e6828f229cca490db9c9bdecea29d727",
      "fc5812b57cff4c27bcff6ef78530b424",
      "28c1e034aef84977ab150243dc669d55",
      "c9cca113f4db4c93a8e2511897948f98",
      "1c411f463cae4687bab94edcc0fcbd96",
      "2efa4f8e86074c6f888da1615d868852",
      "fa8c2fcd6131445c8b61957da8124848",
      "dcf77c58d8a745ec906510e7193beb34"
     ]
    },
    "id": "bcskjb2qbTZZ",
    "outputId": "4eaf1554-80d5-405d-c028-c484c2c451c9"
   },
   "outputs": [
    {
     "data": {
      "application/vnd.jupyter.widget-view+json": {
       "model_id": "08c228078fbc406ab3cb79fea6e162ba",
       "version_major": 2,
       "version_minor": 0
      },
      "text/plain": [
       "  0%|          | 0/66706 [00:00<?, ?it/s]"
      ]
     },
     "metadata": {},
     "output_type": "display_data"
    }
   ],
   "source": [
    "fingerprint_array = np.array([\n",
    "    list(map(float, fingerprint.ToBitString()))\n",
    "    for fingerprint in tqdm.tqdm(fingerprints)\n",
    "], dtype=np.float32)"
   ]
  },
  {
   "cell_type": "code",
   "execution_count": 113,
   "metadata": {
    "colab": {
     "base_uri": "https://localhost:8080/"
    },
    "id": "KY6kBE7gc_aB",
    "outputId": "4bdab9d3-8826-49e6-8c0a-c6f621bdb8f2"
   },
   "outputs": [
    {
     "data": {
      "text/plain": [
       "((66706, 2048), (66706,))"
      ]
     },
     "execution_count": 113,
     "metadata": {},
     "output_type": "execute_result"
    }
   ],
   "source": [
    "fingerprint_array.shape, log_p.shape"
   ]
  },
  {
   "cell_type": "code",
   "execution_count": 114,
   "metadata": {
    "colab": {
     "base_uri": "https://localhost:8080/"
    },
    "id": "nJfHPFdzdCsO",
    "outputId": "b7ff982d-09e2-4d70-dc2b-83937f0504f1"
   },
   "outputs": [
    {
     "name": "stdout",
     "output_type": "stream",
     "text": [
      "Error in Test Data: 0.08733515\n",
      "Variance in the Test Data: 0.9773342\n",
      "Error in Test Data: 0.09476155\n",
      "Variance in the Test Data: 0.9551112\n"
     ]
    }
   ],
   "source": [
    "model = sklearn.linear_model.LinearRegression()\n",
    "\n",
    "fingerprint_array_train, fingerprint_array_test, log_p_train, log_p_test = \\\n",
    "    sklearn.model_selection.train_test_split(\n",
    "        fingerprint_array, log_p, test_size=0.2)\n",
    "\n",
    "model.fit(fingerprint_array_train, log_p_train)\n",
    "\n",
    "print(\"Error in Test Data:\",\n",
    "      np.mean(np.square(log_p_train - model.predict(fingerprint_array_train))))\n",
    "print(\"Variance in the Test Data:\", np.var(log_p_train))\n",
    "\n",
    "print(\"Error in Test Data:\",\n",
    "      np.mean(np.square(log_p_test - model.predict(fingerprint_array_test))))\n",
    "print(\"Variance in the Test Data:\", np.var(log_p_test))"
   ]
  },
  {
   "cell_type": "markdown",
   "metadata": {
    "id": "cx1cJeZjdebs"
   },
   "source": [
    "Now we use Morgan Fingerprints for the same classification."
   ]
  },
  {
   "cell_type": "code",
   "execution_count": 115,
   "metadata": {
    "colab": {
     "base_uri": "https://localhost:8080/",
     "height": 49,
     "referenced_widgets": [
      "a940c8b0c85044e8a8067d8f19e23780",
      "27db8eb73c1844c4a8a633b05d75fd29",
      "59ce040d4561482b9d8baa9fdd0f7c55",
      "4023e1702e584b02abbcc7088c2e56c3",
      "b8e6f342570c409db52821e037219b11",
      "93d3039bcc814d6c84e9968c1840e263",
      "ac1270f96a9d4cd38a4e350d5812f84f",
      "6b25151e2a0d45618e65d1beb307acc8",
      "193d1a8aeb4249f5a67bd211d59d521e",
      "05e4fa219b7144128afe25c2e170717a",
      "506949f6b93b4518b5adc8a8de7726e5"
     ]
    },
    "id": "177WaJrddeFJ",
    "outputId": "48f1e0ed-69a3-46b4-d600-f2e902d3fbe0"
   },
   "outputs": [
    {
     "data": {
      "application/vnd.jupyter.widget-view+json": {
       "model_id": "87feeded03a84bd9ab1ea2f7aebc2f5c",
       "version_major": 2,
       "version_minor": 0
      },
      "text/plain": [
       "  0%|          | 0/66706 [00:00<?, ?it/s]"
      ]
     },
     "metadata": {},
     "output_type": "display_data"
    }
   ],
   "source": [
    "morgan_fingerprint_array = np.stack([\n",
    "    np.asarray(\n",
    "        rdkit.Chem.AllChem.GetMorganFingerprintAsBitVect(\n",
    "            rdkit.Chem.MolFromSmiles(smile),\n",
    "            radius=3,\n",
    "            nBits=128\n",
    "        )\n",
    "    )\n",
    "    for smile in tqdm.tqdm(smiles)\n",
    "])"
   ]
  },
  {
   "cell_type": "code",
   "execution_count": 116,
   "metadata": {
    "colab": {
     "base_uri": "https://localhost:8080/"
    },
    "id": "-oVRL7MsdOb_",
    "outputId": "dc69baf1-8674-4764-8f4e-b7387ed547db"
   },
   "outputs": [
    {
     "name": "stdout",
     "output_type": "stream",
     "text": [
      "Error in Test Data: 0.43467978065206897\n",
      "Variance in the Test Data: 0.97441655\n",
      "Error in Test Data: 0.44142203552127124\n",
      "Variance in the Test Data: 0.96679217\n"
     ]
    }
   ],
   "source": [
    "model = sklearn.linear_model.LinearRegression()\n",
    "\n",
    "fingerprint_array_train, fingerprint_array_test, log_p_train, log_p_test = \\\n",
    "    sklearn.model_selection.train_test_split(\n",
    "        morgan_fingerprint_array, log_p, test_size=0.2)\n",
    "\n",
    "model.fit(fingerprint_array_train, log_p_train)\n",
    "\n",
    "print(\"Error in Test Data:\",\n",
    "      np.mean(np.square(log_p_train - model.predict(fingerprint_array_train))))\n",
    "print(\"Variance in the Test Data:\", np.var(log_p_train))\n",
    "\n",
    "print(\"Error in Test Data:\",\n",
    "      np.mean(np.square(log_p_test - model.predict(fingerprint_array_test))))\n",
    "print(\"Variance in the Test Data:\", np.var(log_p_test))"
   ]
  },
  {
   "cell_type": "markdown",
   "metadata": {
    "id": "5S0v6RdReAkr"
   },
   "source": [
    "**Exploratory Task:**\n",
    "Play around with the number of bits and radius of features in the Morgan Fingerprint, and compare it to other fingerprint methods, both for learning and finding similar elements. Also compare the different similarity measures for clustering tasks. See Topological-Torsion fingerprints and other methods."
   ]
  },
  {
   "cell_type": "markdown",
   "metadata": {
    "id": "WpV3E781eLzW"
   },
   "source": [
    "**Exploratory Task:**\n",
    "Lookup the ChEMBL dataset for Log-p values (drug likeness), and the Tox21 dataset for the toxicity value of molecules (the input already has in the sparse features file a list of ECFP fingerprints). Run classification/regression algorithms on these using the techniques learnt above. Attempt to characterize which tasks will these fingerprint based methods work well on and provide intuitive explainations for the same."
   ]
  },
  {
   "cell_type": "markdown",
   "metadata": {
    "id": "FysjvGVJef7V"
   },
   "source": [
    "# End of tutorial"
   ]
  },
  {
   "cell_type": "code",
   "execution_count": null,
   "metadata": {
    "id": "GiltXydDd1xZ"
   },
   "outputs": [],
   "source": []
  }
 ],
 "metadata": {
  "colab": {
   "collapsed_sections": [],
   "name": "AI4DD - Tutorial Lab 5",
   "provenance": []
  },
  "kernelspec": {
   "display_name": "Python 3 (ipykernel)",
   "language": "python",
   "name": "python3"
  },
  "language_info": {
   "codemirror_mode": {
    "name": "ipython",
    "version": 3
   },
   "file_extension": ".py",
   "mimetype": "text/x-python",
   "name": "python",
   "nbconvert_exporter": "python",
   "pygments_lexer": "ipython3",
   "version": "3.7.13"
  },
  "widgets": {
   "application/vnd.jupyter.widget-state+json": {
    "05e4fa219b7144128afe25c2e170717a": {
     "model_module": "@jupyter-widgets/base",
     "model_module_version": "1.2.0",
     "model_name": "LayoutModel",
     "state": {
      "_model_module": "@jupyter-widgets/base",
      "_model_module_version": "1.2.0",
      "_model_name": "LayoutModel",
      "_view_count": null,
      "_view_module": "@jupyter-widgets/base",
      "_view_module_version": "1.2.0",
      "_view_name": "LayoutView",
      "align_content": null,
      "align_items": null,
      "align_self": null,
      "border": null,
      "bottom": null,
      "display": null,
      "flex": null,
      "flex_flow": null,
      "grid_area": null,
      "grid_auto_columns": null,
      "grid_auto_flow": null,
      "grid_auto_rows": null,
      "grid_column": null,
      "grid_gap": null,
      "grid_row": null,
      "grid_template_areas": null,
      "grid_template_columns": null,
      "grid_template_rows": null,
      "height": null,
      "justify_content": null,
      "justify_items": null,
      "left": null,
      "margin": null,
      "max_height": null,
      "max_width": null,
      "min_height": null,
      "min_width": null,
      "object_fit": null,
      "object_position": null,
      "order": null,
      "overflow": null,
      "overflow_x": null,
      "overflow_y": null,
      "padding": null,
      "right": null,
      "top": null,
      "visibility": null,
      "width": null
     }
    },
    "182c25a8a64c4a799652efeb3bed839c": {
     "model_module": "@jupyter-widgets/controls",
     "model_module_version": "1.5.0",
     "model_name": "HTMLModel",
     "state": {
      "_dom_classes": [],
      "_model_module": "@jupyter-widgets/controls",
      "_model_module_version": "1.5.0",
      "_model_name": "HTMLModel",
      "_view_count": null,
      "_view_module": "@jupyter-widgets/controls",
      "_view_module_version": "1.5.0",
      "_view_name": "HTMLView",
      "description": "",
      "description_tooltip": null,
      "layout": "IPY_MODEL_892a24f93aa54646a0369c00e2bad8bd",
      "placeholder": "​",
      "style": "IPY_MODEL_1958df63fead461eba9d397b578f6ba5",
      "value": " 66706/66706 [00:10&lt;00:00, 4792.48it/s]"
     }
    },
    "193d1a8aeb4249f5a67bd211d59d521e": {
     "model_module": "@jupyter-widgets/controls",
     "model_module_version": "1.5.0",
     "model_name": "ProgressStyleModel",
     "state": {
      "_model_module": "@jupyter-widgets/controls",
      "_model_module_version": "1.5.0",
      "_model_name": "ProgressStyleModel",
      "_view_count": null,
      "_view_module": "@jupyter-widgets/base",
      "_view_module_version": "1.2.0",
      "_view_name": "StyleView",
      "bar_color": null,
      "description_width": ""
     }
    },
    "1958df63fead461eba9d397b578f6ba5": {
     "model_module": "@jupyter-widgets/controls",
     "model_module_version": "1.5.0",
     "model_name": "DescriptionStyleModel",
     "state": {
      "_model_module": "@jupyter-widgets/controls",
      "_model_module_version": "1.5.0",
      "_model_name": "DescriptionStyleModel",
      "_view_count": null,
      "_view_module": "@jupyter-widgets/base",
      "_view_module_version": "1.2.0",
      "_view_name": "StyleView",
      "description_width": ""
     }
    },
    "1c411f463cae4687bab94edcc0fcbd96": {
     "model_module": "@jupyter-widgets/base",
     "model_module_version": "1.2.0",
     "model_name": "LayoutModel",
     "state": {
      "_model_module": "@jupyter-widgets/base",
      "_model_module_version": "1.2.0",
      "_model_name": "LayoutModel",
      "_view_count": null,
      "_view_module": "@jupyter-widgets/base",
      "_view_module_version": "1.2.0",
      "_view_name": "LayoutView",
      "align_content": null,
      "align_items": null,
      "align_self": null,
      "border": null,
      "bottom": null,
      "display": null,
      "flex": null,
      "flex_flow": null,
      "grid_area": null,
      "grid_auto_columns": null,
      "grid_auto_flow": null,
      "grid_auto_rows": null,
      "grid_column": null,
      "grid_gap": null,
      "grid_row": null,
      "grid_template_areas": null,
      "grid_template_columns": null,
      "grid_template_rows": null,
      "height": null,
      "justify_content": null,
      "justify_items": null,
      "left": null,
      "margin": null,
      "max_height": null,
      "max_width": null,
      "min_height": null,
      "min_width": null,
      "object_fit": null,
      "object_position": null,
      "order": null,
      "overflow": null,
      "overflow_x": null,
      "overflow_y": null,
      "padding": null,
      "right": null,
      "top": null,
      "visibility": null,
      "width": null
     }
    },
    "2787d6bb26ca4e48b551c8743c30eb0d": {
     "model_module": "@jupyter-widgets/controls",
     "model_module_version": "1.5.0",
     "model_name": "FloatProgressModel",
     "state": {
      "_dom_classes": [],
      "_model_module": "@jupyter-widgets/controls",
      "_model_module_version": "1.5.0",
      "_model_name": "FloatProgressModel",
      "_view_count": null,
      "_view_module": "@jupyter-widgets/controls",
      "_view_module_version": "1.5.0",
      "_view_name": "ProgressView",
      "bar_style": "success",
      "description": "",
      "description_tooltip": null,
      "layout": "IPY_MODEL_5bf12265fa894aa0a25fd1a5bf3b4605",
      "max": 66706,
      "min": 0,
      "orientation": "horizontal",
      "style": "IPY_MODEL_ece87f1fd58d4d0bbcf783c845634b0e",
      "value": 66706
     }
    },
    "27db8eb73c1844c4a8a633b05d75fd29": {
     "model_module": "@jupyter-widgets/controls",
     "model_module_version": "1.5.0",
     "model_name": "HTMLModel",
     "state": {
      "_dom_classes": [],
      "_model_module": "@jupyter-widgets/controls",
      "_model_module_version": "1.5.0",
      "_model_name": "HTMLModel",
      "_view_count": null,
      "_view_module": "@jupyter-widgets/controls",
      "_view_module_version": "1.5.0",
      "_view_name": "HTMLView",
      "description": "",
      "description_tooltip": null,
      "layout": "IPY_MODEL_93d3039bcc814d6c84e9968c1840e263",
      "placeholder": "​",
      "style": "IPY_MODEL_ac1270f96a9d4cd38a4e350d5812f84f",
      "value": "100%"
     }
    },
    "28c1e034aef84977ab150243dc669d55": {
     "model_module": "@jupyter-widgets/base",
     "model_module_version": "1.2.0",
     "model_name": "LayoutModel",
     "state": {
      "_model_module": "@jupyter-widgets/base",
      "_model_module_version": "1.2.0",
      "_model_name": "LayoutModel",
      "_view_count": null,
      "_view_module": "@jupyter-widgets/base",
      "_view_module_version": "1.2.0",
      "_view_name": "LayoutView",
      "align_content": null,
      "align_items": null,
      "align_self": null,
      "border": null,
      "bottom": null,
      "display": null,
      "flex": null,
      "flex_flow": null,
      "grid_area": null,
      "grid_auto_columns": null,
      "grid_auto_flow": null,
      "grid_auto_rows": null,
      "grid_column": null,
      "grid_gap": null,
      "grid_row": null,
      "grid_template_areas": null,
      "grid_template_columns": null,
      "grid_template_rows": null,
      "height": null,
      "justify_content": null,
      "justify_items": null,
      "left": null,
      "margin": null,
      "max_height": null,
      "max_width": null,
      "min_height": null,
      "min_width": null,
      "object_fit": null,
      "object_position": null,
      "order": null,
      "overflow": null,
      "overflow_x": null,
      "overflow_y": null,
      "padding": null,
      "right": null,
      "top": null,
      "visibility": null,
      "width": null
     }
    },
    "28d5c50444434e6cb39b8921fcddafb9": {
     "model_module": "@jupyter-widgets/controls",
     "model_module_version": "1.5.0",
     "model_name": "DescriptionStyleModel",
     "state": {
      "_model_module": "@jupyter-widgets/controls",
      "_model_module_version": "1.5.0",
      "_model_name": "DescriptionStyleModel",
      "_view_count": null,
      "_view_module": "@jupyter-widgets/base",
      "_view_module_version": "1.2.0",
      "_view_name": "StyleView",
      "description_width": ""
     }
    },
    "2abd15b956e649049aef63d91434ce47": {
     "model_module": "@jupyter-widgets/controls",
     "model_module_version": "1.5.0",
     "model_name": "FloatProgressModel",
     "state": {
      "_dom_classes": [],
      "_model_module": "@jupyter-widgets/controls",
      "_model_module_version": "1.5.0",
      "_model_name": "FloatProgressModel",
      "_view_count": null,
      "_view_module": "@jupyter-widgets/controls",
      "_view_module_version": "1.5.0",
      "_view_name": "ProgressView",
      "bar_style": "success",
      "description": "",
      "description_tooltip": null,
      "layout": "IPY_MODEL_b73ae306e09948b2a599f16786a0e0b4",
      "max": 66706,
      "min": 0,
      "orientation": "horizontal",
      "style": "IPY_MODEL_a237023cf9284bf6a1936559c9b49ddc",
      "value": 66706
     }
    },
    "2efa4f8e86074c6f888da1615d868852": {
     "model_module": "@jupyter-widgets/controls",
     "model_module_version": "1.5.0",
     "model_name": "ProgressStyleModel",
     "state": {
      "_model_module": "@jupyter-widgets/controls",
      "_model_module_version": "1.5.0",
      "_model_name": "ProgressStyleModel",
      "_view_count": null,
      "_view_module": "@jupyter-widgets/base",
      "_view_module_version": "1.2.0",
      "_view_name": "StyleView",
      "bar_color": null,
      "description_width": ""
     }
    },
    "3a7d504117804a71b554ed98cd943e23": {
     "model_module": "@jupyter-widgets/controls",
     "model_module_version": "1.5.0",
     "model_name": "HBoxModel",
     "state": {
      "_dom_classes": [],
      "_model_module": "@jupyter-widgets/controls",
      "_model_module_version": "1.5.0",
      "_model_name": "HBoxModel",
      "_view_count": null,
      "_view_module": "@jupyter-widgets/controls",
      "_view_module_version": "1.5.0",
      "_view_name": "HBoxView",
      "box_style": "",
      "children": [
       "IPY_MODEL_5a82d2fe77b54f91aa475e10c431df39",
       "IPY_MODEL_789523af8d604a2c9fb34a0d6449d50b",
       "IPY_MODEL_e6828f229cca490db9c9bdecea29d727"
      ],
      "layout": "IPY_MODEL_fc5812b57cff4c27bcff6ef78530b424"
     }
    },
    "4023e1702e584b02abbcc7088c2e56c3": {
     "model_module": "@jupyter-widgets/controls",
     "model_module_version": "1.5.0",
     "model_name": "HTMLModel",
     "state": {
      "_dom_classes": [],
      "_model_module": "@jupyter-widgets/controls",
      "_model_module_version": "1.5.0",
      "_model_name": "HTMLModel",
      "_view_count": null,
      "_view_module": "@jupyter-widgets/controls",
      "_view_module_version": "1.5.0",
      "_view_name": "HTMLView",
      "description": "",
      "description_tooltip": null,
      "layout": "IPY_MODEL_05e4fa219b7144128afe25c2e170717a",
      "placeholder": "​",
      "style": "IPY_MODEL_506949f6b93b4518b5adc8a8de7726e5",
      "value": " 66706/66706 [01:27&lt;00:00, 797.20it/s]"
     }
    },
    "506949f6b93b4518b5adc8a8de7726e5": {
     "model_module": "@jupyter-widgets/controls",
     "model_module_version": "1.5.0",
     "model_name": "DescriptionStyleModel",
     "state": {
      "_model_module": "@jupyter-widgets/controls",
      "_model_module_version": "1.5.0",
      "_model_name": "DescriptionStyleModel",
      "_view_count": null,
      "_view_module": "@jupyter-widgets/base",
      "_view_module_version": "1.2.0",
      "_view_name": "StyleView",
      "description_width": ""
     }
    },
    "59ce040d4561482b9d8baa9fdd0f7c55": {
     "model_module": "@jupyter-widgets/controls",
     "model_module_version": "1.5.0",
     "model_name": "FloatProgressModel",
     "state": {
      "_dom_classes": [],
      "_model_module": "@jupyter-widgets/controls",
      "_model_module_version": "1.5.0",
      "_model_name": "FloatProgressModel",
      "_view_count": null,
      "_view_module": "@jupyter-widgets/controls",
      "_view_module_version": "1.5.0",
      "_view_name": "ProgressView",
      "bar_style": "success",
      "description": "",
      "description_tooltip": null,
      "layout": "IPY_MODEL_6b25151e2a0d45618e65d1beb307acc8",
      "max": 66706,
      "min": 0,
      "orientation": "horizontal",
      "style": "IPY_MODEL_193d1a8aeb4249f5a67bd211d59d521e",
      "value": 66706
     }
    },
    "5a82d2fe77b54f91aa475e10c431df39": {
     "model_module": "@jupyter-widgets/controls",
     "model_module_version": "1.5.0",
     "model_name": "HTMLModel",
     "state": {
      "_dom_classes": [],
      "_model_module": "@jupyter-widgets/controls",
      "_model_module_version": "1.5.0",
      "_model_name": "HTMLModel",
      "_view_count": null,
      "_view_module": "@jupyter-widgets/controls",
      "_view_module_version": "1.5.0",
      "_view_name": "HTMLView",
      "description": "",
      "description_tooltip": null,
      "layout": "IPY_MODEL_28c1e034aef84977ab150243dc669d55",
      "placeholder": "​",
      "style": "IPY_MODEL_c9cca113f4db4c93a8e2511897948f98",
      "value": "100%"
     }
    },
    "5bf12265fa894aa0a25fd1a5bf3b4605": {
     "model_module": "@jupyter-widgets/base",
     "model_module_version": "1.2.0",
     "model_name": "LayoutModel",
     "state": {
      "_model_module": "@jupyter-widgets/base",
      "_model_module_version": "1.2.0",
      "_model_name": "LayoutModel",
      "_view_count": null,
      "_view_module": "@jupyter-widgets/base",
      "_view_module_version": "1.2.0",
      "_view_name": "LayoutView",
      "align_content": null,
      "align_items": null,
      "align_self": null,
      "border": null,
      "bottom": null,
      "display": null,
      "flex": null,
      "flex_flow": null,
      "grid_area": null,
      "grid_auto_columns": null,
      "grid_auto_flow": null,
      "grid_auto_rows": null,
      "grid_column": null,
      "grid_gap": null,
      "grid_row": null,
      "grid_template_areas": null,
      "grid_template_columns": null,
      "grid_template_rows": null,
      "height": null,
      "justify_content": null,
      "justify_items": null,
      "left": null,
      "margin": null,
      "max_height": null,
      "max_width": null,
      "min_height": null,
      "min_width": null,
      "object_fit": null,
      "object_position": null,
      "order": null,
      "overflow": null,
      "overflow_x": null,
      "overflow_y": null,
      "padding": null,
      "right": null,
      "top": null,
      "visibility": null,
      "width": null
     }
    },
    "60a267ef9d3544efb01718d29d24b66c": {
     "model_module": "@jupyter-widgets/base",
     "model_module_version": "1.2.0",
     "model_name": "LayoutModel",
     "state": {
      "_model_module": "@jupyter-widgets/base",
      "_model_module_version": "1.2.0",
      "_model_name": "LayoutModel",
      "_view_count": null,
      "_view_module": "@jupyter-widgets/base",
      "_view_module_version": "1.2.0",
      "_view_name": "LayoutView",
      "align_content": null,
      "align_items": null,
      "align_self": null,
      "border": null,
      "bottom": null,
      "display": null,
      "flex": null,
      "flex_flow": null,
      "grid_area": null,
      "grid_auto_columns": null,
      "grid_auto_flow": null,
      "grid_auto_rows": null,
      "grid_column": null,
      "grid_gap": null,
      "grid_row": null,
      "grid_template_areas": null,
      "grid_template_columns": null,
      "grid_template_rows": null,
      "height": null,
      "justify_content": null,
      "justify_items": null,
      "left": null,
      "margin": null,
      "max_height": null,
      "max_width": null,
      "min_height": null,
      "min_width": null,
      "object_fit": null,
      "object_position": null,
      "order": null,
      "overflow": null,
      "overflow_x": null,
      "overflow_y": null,
      "padding": null,
      "right": null,
      "top": null,
      "visibility": null,
      "width": null
     }
    },
    "6b25151e2a0d45618e65d1beb307acc8": {
     "model_module": "@jupyter-widgets/base",
     "model_module_version": "1.2.0",
     "model_name": "LayoutModel",
     "state": {
      "_model_module": "@jupyter-widgets/base",
      "_model_module_version": "1.2.0",
      "_model_name": "LayoutModel",
      "_view_count": null,
      "_view_module": "@jupyter-widgets/base",
      "_view_module_version": "1.2.0",
      "_view_name": "LayoutView",
      "align_content": null,
      "align_items": null,
      "align_self": null,
      "border": null,
      "bottom": null,
      "display": null,
      "flex": null,
      "flex_flow": null,
      "grid_area": null,
      "grid_auto_columns": null,
      "grid_auto_flow": null,
      "grid_auto_rows": null,
      "grid_column": null,
      "grid_gap": null,
      "grid_row": null,
      "grid_template_areas": null,
      "grid_template_columns": null,
      "grid_template_rows": null,
      "height": null,
      "justify_content": null,
      "justify_items": null,
      "left": null,
      "margin": null,
      "max_height": null,
      "max_width": null,
      "min_height": null,
      "min_width": null,
      "object_fit": null,
      "object_position": null,
      "order": null,
      "overflow": null,
      "overflow_x": null,
      "overflow_y": null,
      "padding": null,
      "right": null,
      "top": null,
      "visibility": null,
      "width": null
     }
    },
    "789523af8d604a2c9fb34a0d6449d50b": {
     "model_module": "@jupyter-widgets/controls",
     "model_module_version": "1.5.0",
     "model_name": "FloatProgressModel",
     "state": {
      "_dom_classes": [],
      "_model_module": "@jupyter-widgets/controls",
      "_model_module_version": "1.5.0",
      "_model_name": "FloatProgressModel",
      "_view_count": null,
      "_view_module": "@jupyter-widgets/controls",
      "_view_module_version": "1.5.0",
      "_view_name": "ProgressView",
      "bar_style": "success",
      "description": "",
      "description_tooltip": null,
      "layout": "IPY_MODEL_1c411f463cae4687bab94edcc0fcbd96",
      "max": 66706,
      "min": 0,
      "orientation": "horizontal",
      "style": "IPY_MODEL_2efa4f8e86074c6f888da1615d868852",
      "value": 66706
     }
    },
    "7ff3fc4c683e417c8f526bc1034d4d35": {
     "model_module": "@jupyter-widgets/base",
     "model_module_version": "1.2.0",
     "model_name": "LayoutModel",
     "state": {
      "_model_module": "@jupyter-widgets/base",
      "_model_module_version": "1.2.0",
      "_model_name": "LayoutModel",
      "_view_count": null,
      "_view_module": "@jupyter-widgets/base",
      "_view_module_version": "1.2.0",
      "_view_name": "LayoutView",
      "align_content": null,
      "align_items": null,
      "align_self": null,
      "border": null,
      "bottom": null,
      "display": null,
      "flex": null,
      "flex_flow": null,
      "grid_area": null,
      "grid_auto_columns": null,
      "grid_auto_flow": null,
      "grid_auto_rows": null,
      "grid_column": null,
      "grid_gap": null,
      "grid_row": null,
      "grid_template_areas": null,
      "grid_template_columns": null,
      "grid_template_rows": null,
      "height": null,
      "justify_content": null,
      "justify_items": null,
      "left": null,
      "margin": null,
      "max_height": null,
      "max_width": null,
      "min_height": null,
      "min_width": null,
      "object_fit": null,
      "object_position": null,
      "order": null,
      "overflow": null,
      "overflow_x": null,
      "overflow_y": null,
      "padding": null,
      "right": null,
      "top": null,
      "visibility": null,
      "width": null
     }
    },
    "892a24f93aa54646a0369c00e2bad8bd": {
     "model_module": "@jupyter-widgets/base",
     "model_module_version": "1.2.0",
     "model_name": "LayoutModel",
     "state": {
      "_model_module": "@jupyter-widgets/base",
      "_model_module_version": "1.2.0",
      "_model_name": "LayoutModel",
      "_view_count": null,
      "_view_module": "@jupyter-widgets/base",
      "_view_module_version": "1.2.0",
      "_view_name": "LayoutView",
      "align_content": null,
      "align_items": null,
      "align_self": null,
      "border": null,
      "bottom": null,
      "display": null,
      "flex": null,
      "flex_flow": null,
      "grid_area": null,
      "grid_auto_columns": null,
      "grid_auto_flow": null,
      "grid_auto_rows": null,
      "grid_column": null,
      "grid_gap": null,
      "grid_row": null,
      "grid_template_areas": null,
      "grid_template_columns": null,
      "grid_template_rows": null,
      "height": null,
      "justify_content": null,
      "justify_items": null,
      "left": null,
      "margin": null,
      "max_height": null,
      "max_width": null,
      "min_height": null,
      "min_width": null,
      "object_fit": null,
      "object_position": null,
      "order": null,
      "overflow": null,
      "overflow_x": null,
      "overflow_y": null,
      "padding": null,
      "right": null,
      "top": null,
      "visibility": null,
      "width": null
     }
    },
    "93d3039bcc814d6c84e9968c1840e263": {
     "model_module": "@jupyter-widgets/base",
     "model_module_version": "1.2.0",
     "model_name": "LayoutModel",
     "state": {
      "_model_module": "@jupyter-widgets/base",
      "_model_module_version": "1.2.0",
      "_model_name": "LayoutModel",
      "_view_count": null,
      "_view_module": "@jupyter-widgets/base",
      "_view_module_version": "1.2.0",
      "_view_name": "LayoutView",
      "align_content": null,
      "align_items": null,
      "align_self": null,
      "border": null,
      "bottom": null,
      "display": null,
      "flex": null,
      "flex_flow": null,
      "grid_area": null,
      "grid_auto_columns": null,
      "grid_auto_flow": null,
      "grid_auto_rows": null,
      "grid_column": null,
      "grid_gap": null,
      "grid_row": null,
      "grid_template_areas": null,
      "grid_template_columns": null,
      "grid_template_rows": null,
      "height": null,
      "justify_content": null,
      "justify_items": null,
      "left": null,
      "margin": null,
      "max_height": null,
      "max_width": null,
      "min_height": null,
      "min_width": null,
      "object_fit": null,
      "object_position": null,
      "order": null,
      "overflow": null,
      "overflow_x": null,
      "overflow_y": null,
      "padding": null,
      "right": null,
      "top": null,
      "visibility": null,
      "width": null
     }
    },
    "93ef261cd5c043f3b083199c45ad8cf1": {
     "model_module": "@jupyter-widgets/controls",
     "model_module_version": "1.5.0",
     "model_name": "HBoxModel",
     "state": {
      "_dom_classes": [],
      "_model_module": "@jupyter-widgets/controls",
      "_model_module_version": "1.5.0",
      "_model_name": "HBoxModel",
      "_view_count": null,
      "_view_module": "@jupyter-widgets/controls",
      "_view_module_version": "1.5.0",
      "_view_name": "HBoxView",
      "box_style": "",
      "children": [
       "IPY_MODEL_c5e075d3529d43068a0676c5b01d4c53",
       "IPY_MODEL_2abd15b956e649049aef63d91434ce47",
       "IPY_MODEL_a79390214ead4a55b05cc9edb6443db0"
      ],
      "layout": "IPY_MODEL_d08d45d493184181b77be53aadce78e2"
     }
    },
    "a237023cf9284bf6a1936559c9b49ddc": {
     "model_module": "@jupyter-widgets/controls",
     "model_module_version": "1.5.0",
     "model_name": "ProgressStyleModel",
     "state": {
      "_model_module": "@jupyter-widgets/controls",
      "_model_module_version": "1.5.0",
      "_model_name": "ProgressStyleModel",
      "_view_count": null,
      "_view_module": "@jupyter-widgets/base",
      "_view_module_version": "1.2.0",
      "_view_name": "StyleView",
      "bar_color": null,
      "description_width": ""
     }
    },
    "a79390214ead4a55b05cc9edb6443db0": {
     "model_module": "@jupyter-widgets/controls",
     "model_module_version": "1.5.0",
     "model_name": "HTMLModel",
     "state": {
      "_dom_classes": [],
      "_model_module": "@jupyter-widgets/controls",
      "_model_module_version": "1.5.0",
      "_model_name": "HTMLModel",
      "_view_count": null,
      "_view_module": "@jupyter-widgets/controls",
      "_view_module_version": "1.5.0",
      "_view_name": "HTMLView",
      "description": "",
      "description_tooltip": null,
      "layout": "IPY_MODEL_7ff3fc4c683e417c8f526bc1034d4d35",
      "placeholder": "​",
      "style": "IPY_MODEL_ce9242aa13b44eff887e0bb9dbdfc2cc",
      "value": " 66706/66706 [00:16&lt;00:00, 4434.56it/s]"
     }
    },
    "a940c8b0c85044e8a8067d8f19e23780": {
     "model_module": "@jupyter-widgets/controls",
     "model_module_version": "1.5.0",
     "model_name": "HBoxModel",
     "state": {
      "_dom_classes": [],
      "_model_module": "@jupyter-widgets/controls",
      "_model_module_version": "1.5.0",
      "_model_name": "HBoxModel",
      "_view_count": null,
      "_view_module": "@jupyter-widgets/controls",
      "_view_module_version": "1.5.0",
      "_view_name": "HBoxView",
      "box_style": "",
      "children": [
       "IPY_MODEL_27db8eb73c1844c4a8a633b05d75fd29",
       "IPY_MODEL_59ce040d4561482b9d8baa9fdd0f7c55",
       "IPY_MODEL_4023e1702e584b02abbcc7088c2e56c3"
      ],
      "layout": "IPY_MODEL_b8e6f342570c409db52821e037219b11"
     }
    },
    "ac1270f96a9d4cd38a4e350d5812f84f": {
     "model_module": "@jupyter-widgets/controls",
     "model_module_version": "1.5.0",
     "model_name": "DescriptionStyleModel",
     "state": {
      "_model_module": "@jupyter-widgets/controls",
      "_model_module_version": "1.5.0",
      "_model_name": "DescriptionStyleModel",
      "_view_count": null,
      "_view_module": "@jupyter-widgets/base",
      "_view_module_version": "1.2.0",
      "_view_name": "StyleView",
      "description_width": ""
     }
    },
    "af516199fe51423295859bfe4d23fd0b": {
     "model_module": "@jupyter-widgets/controls",
     "model_module_version": "1.5.0",
     "model_name": "DescriptionStyleModel",
     "state": {
      "_model_module": "@jupyter-widgets/controls",
      "_model_module_version": "1.5.0",
      "_model_name": "DescriptionStyleModel",
      "_view_count": null,
      "_view_module": "@jupyter-widgets/base",
      "_view_module_version": "1.2.0",
      "_view_name": "StyleView",
      "description_width": ""
     }
    },
    "b73ae306e09948b2a599f16786a0e0b4": {
     "model_module": "@jupyter-widgets/base",
     "model_module_version": "1.2.0",
     "model_name": "LayoutModel",
     "state": {
      "_model_module": "@jupyter-widgets/base",
      "_model_module_version": "1.2.0",
      "_model_name": "LayoutModel",
      "_view_count": null,
      "_view_module": "@jupyter-widgets/base",
      "_view_module_version": "1.2.0",
      "_view_name": "LayoutView",
      "align_content": null,
      "align_items": null,
      "align_self": null,
      "border": null,
      "bottom": null,
      "display": null,
      "flex": null,
      "flex_flow": null,
      "grid_area": null,
      "grid_auto_columns": null,
      "grid_auto_flow": null,
      "grid_auto_rows": null,
      "grid_column": null,
      "grid_gap": null,
      "grid_row": null,
      "grid_template_areas": null,
      "grid_template_columns": null,
      "grid_template_rows": null,
      "height": null,
      "justify_content": null,
      "justify_items": null,
      "left": null,
      "margin": null,
      "max_height": null,
      "max_width": null,
      "min_height": null,
      "min_width": null,
      "object_fit": null,
      "object_position": null,
      "order": null,
      "overflow": null,
      "overflow_x": null,
      "overflow_y": null,
      "padding": null,
      "right": null,
      "top": null,
      "visibility": null,
      "width": null
     }
    },
    "b8e6f342570c409db52821e037219b11": {
     "model_module": "@jupyter-widgets/base",
     "model_module_version": "1.2.0",
     "model_name": "LayoutModel",
     "state": {
      "_model_module": "@jupyter-widgets/base",
      "_model_module_version": "1.2.0",
      "_model_name": "LayoutModel",
      "_view_count": null,
      "_view_module": "@jupyter-widgets/base",
      "_view_module_version": "1.2.0",
      "_view_name": "LayoutView",
      "align_content": null,
      "align_items": null,
      "align_self": null,
      "border": null,
      "bottom": null,
      "display": null,
      "flex": null,
      "flex_flow": null,
      "grid_area": null,
      "grid_auto_columns": null,
      "grid_auto_flow": null,
      "grid_auto_rows": null,
      "grid_column": null,
      "grid_gap": null,
      "grid_row": null,
      "grid_template_areas": null,
      "grid_template_columns": null,
      "grid_template_rows": null,
      "height": null,
      "justify_content": null,
      "justify_items": null,
      "left": null,
      "margin": null,
      "max_height": null,
      "max_width": null,
      "min_height": null,
      "min_width": null,
      "object_fit": null,
      "object_position": null,
      "order": null,
      "overflow": null,
      "overflow_x": null,
      "overflow_y": null,
      "padding": null,
      "right": null,
      "top": null,
      "visibility": null,
      "width": null
     }
    },
    "bb7c3bc856af4aa788d5d86116fc610c": {
     "model_module": "@jupyter-widgets/controls",
     "model_module_version": "1.5.0",
     "model_name": "HBoxModel",
     "state": {
      "_dom_classes": [],
      "_model_module": "@jupyter-widgets/controls",
      "_model_module_version": "1.5.0",
      "_model_name": "HBoxModel",
      "_view_count": null,
      "_view_module": "@jupyter-widgets/controls",
      "_view_module_version": "1.5.0",
      "_view_name": "HBoxView",
      "box_style": "",
      "children": [
       "IPY_MODEL_c2df787e72ac41f6818c41feb297f907",
       "IPY_MODEL_2787d6bb26ca4e48b551c8743c30eb0d",
       "IPY_MODEL_182c25a8a64c4a799652efeb3bed839c"
      ],
      "layout": "IPY_MODEL_60a267ef9d3544efb01718d29d24b66c"
     }
    },
    "c2df787e72ac41f6818c41feb297f907": {
     "model_module": "@jupyter-widgets/controls",
     "model_module_version": "1.5.0",
     "model_name": "HTMLModel",
     "state": {
      "_dom_classes": [],
      "_model_module": "@jupyter-widgets/controls",
      "_model_module_version": "1.5.0",
      "_model_name": "HTMLModel",
      "_view_count": null,
      "_view_module": "@jupyter-widgets/controls",
      "_view_module_version": "1.5.0",
      "_view_name": "HTMLView",
      "description": "",
      "description_tooltip": null,
      "layout": "IPY_MODEL_c9f9ff54d01a4c5687c8dfac22ad8461",
      "placeholder": "​",
      "style": "IPY_MODEL_28d5c50444434e6cb39b8921fcddafb9",
      "value": "100%"
     }
    },
    "c5e075d3529d43068a0676c5b01d4c53": {
     "model_module": "@jupyter-widgets/controls",
     "model_module_version": "1.5.0",
     "model_name": "HTMLModel",
     "state": {
      "_dom_classes": [],
      "_model_module": "@jupyter-widgets/controls",
      "_model_module_version": "1.5.0",
      "_model_name": "HTMLModel",
      "_view_count": null,
      "_view_module": "@jupyter-widgets/controls",
      "_view_module_version": "1.5.0",
      "_view_name": "HTMLView",
      "description": "",
      "description_tooltip": null,
      "layout": "IPY_MODEL_d1bc19c306134a24991e852d44d8e18c",
      "placeholder": "​",
      "style": "IPY_MODEL_af516199fe51423295859bfe4d23fd0b",
      "value": "100%"
     }
    },
    "c9cca113f4db4c93a8e2511897948f98": {
     "model_module": "@jupyter-widgets/controls",
     "model_module_version": "1.5.0",
     "model_name": "DescriptionStyleModel",
     "state": {
      "_model_module": "@jupyter-widgets/controls",
      "_model_module_version": "1.5.0",
      "_model_name": "DescriptionStyleModel",
      "_view_count": null,
      "_view_module": "@jupyter-widgets/base",
      "_view_module_version": "1.2.0",
      "_view_name": "StyleView",
      "description_width": ""
     }
    },
    "c9f9ff54d01a4c5687c8dfac22ad8461": {
     "model_module": "@jupyter-widgets/base",
     "model_module_version": "1.2.0",
     "model_name": "LayoutModel",
     "state": {
      "_model_module": "@jupyter-widgets/base",
      "_model_module_version": "1.2.0",
      "_model_name": "LayoutModel",
      "_view_count": null,
      "_view_module": "@jupyter-widgets/base",
      "_view_module_version": "1.2.0",
      "_view_name": "LayoutView",
      "align_content": null,
      "align_items": null,
      "align_self": null,
      "border": null,
      "bottom": null,
      "display": null,
      "flex": null,
      "flex_flow": null,
      "grid_area": null,
      "grid_auto_columns": null,
      "grid_auto_flow": null,
      "grid_auto_rows": null,
      "grid_column": null,
      "grid_gap": null,
      "grid_row": null,
      "grid_template_areas": null,
      "grid_template_columns": null,
      "grid_template_rows": null,
      "height": null,
      "justify_content": null,
      "justify_items": null,
      "left": null,
      "margin": null,
      "max_height": null,
      "max_width": null,
      "min_height": null,
      "min_width": null,
      "object_fit": null,
      "object_position": null,
      "order": null,
      "overflow": null,
      "overflow_x": null,
      "overflow_y": null,
      "padding": null,
      "right": null,
      "top": null,
      "visibility": null,
      "width": null
     }
    },
    "ce9242aa13b44eff887e0bb9dbdfc2cc": {
     "model_module": "@jupyter-widgets/controls",
     "model_module_version": "1.5.0",
     "model_name": "DescriptionStyleModel",
     "state": {
      "_model_module": "@jupyter-widgets/controls",
      "_model_module_version": "1.5.0",
      "_model_name": "DescriptionStyleModel",
      "_view_count": null,
      "_view_module": "@jupyter-widgets/base",
      "_view_module_version": "1.2.0",
      "_view_name": "StyleView",
      "description_width": ""
     }
    },
    "d08d45d493184181b77be53aadce78e2": {
     "model_module": "@jupyter-widgets/base",
     "model_module_version": "1.2.0",
     "model_name": "LayoutModel",
     "state": {
      "_model_module": "@jupyter-widgets/base",
      "_model_module_version": "1.2.0",
      "_model_name": "LayoutModel",
      "_view_count": null,
      "_view_module": "@jupyter-widgets/base",
      "_view_module_version": "1.2.0",
      "_view_name": "LayoutView",
      "align_content": null,
      "align_items": null,
      "align_self": null,
      "border": null,
      "bottom": null,
      "display": null,
      "flex": null,
      "flex_flow": null,
      "grid_area": null,
      "grid_auto_columns": null,
      "grid_auto_flow": null,
      "grid_auto_rows": null,
      "grid_column": null,
      "grid_gap": null,
      "grid_row": null,
      "grid_template_areas": null,
      "grid_template_columns": null,
      "grid_template_rows": null,
      "height": null,
      "justify_content": null,
      "justify_items": null,
      "left": null,
      "margin": null,
      "max_height": null,
      "max_width": null,
      "min_height": null,
      "min_width": null,
      "object_fit": null,
      "object_position": null,
      "order": null,
      "overflow": null,
      "overflow_x": null,
      "overflow_y": null,
      "padding": null,
      "right": null,
      "top": null,
      "visibility": null,
      "width": null
     }
    },
    "d1bc19c306134a24991e852d44d8e18c": {
     "model_module": "@jupyter-widgets/base",
     "model_module_version": "1.2.0",
     "model_name": "LayoutModel",
     "state": {
      "_model_module": "@jupyter-widgets/base",
      "_model_module_version": "1.2.0",
      "_model_name": "LayoutModel",
      "_view_count": null,
      "_view_module": "@jupyter-widgets/base",
      "_view_module_version": "1.2.0",
      "_view_name": "LayoutView",
      "align_content": null,
      "align_items": null,
      "align_self": null,
      "border": null,
      "bottom": null,
      "display": null,
      "flex": null,
      "flex_flow": null,
      "grid_area": null,
      "grid_auto_columns": null,
      "grid_auto_flow": null,
      "grid_auto_rows": null,
      "grid_column": null,
      "grid_gap": null,
      "grid_row": null,
      "grid_template_areas": null,
      "grid_template_columns": null,
      "grid_template_rows": null,
      "height": null,
      "justify_content": null,
      "justify_items": null,
      "left": null,
      "margin": null,
      "max_height": null,
      "max_width": null,
      "min_height": null,
      "min_width": null,
      "object_fit": null,
      "object_position": null,
      "order": null,
      "overflow": null,
      "overflow_x": null,
      "overflow_y": null,
      "padding": null,
      "right": null,
      "top": null,
      "visibility": null,
      "width": null
     }
    },
    "dcf77c58d8a745ec906510e7193beb34": {
     "model_module": "@jupyter-widgets/controls",
     "model_module_version": "1.5.0",
     "model_name": "DescriptionStyleModel",
     "state": {
      "_model_module": "@jupyter-widgets/controls",
      "_model_module_version": "1.5.0",
      "_model_name": "DescriptionStyleModel",
      "_view_count": null,
      "_view_module": "@jupyter-widgets/base",
      "_view_module_version": "1.2.0",
      "_view_name": "StyleView",
      "description_width": ""
     }
    },
    "e6828f229cca490db9c9bdecea29d727": {
     "model_module": "@jupyter-widgets/controls",
     "model_module_version": "1.5.0",
     "model_name": "HTMLModel",
     "state": {
      "_dom_classes": [],
      "_model_module": "@jupyter-widgets/controls",
      "_model_module_version": "1.5.0",
      "_model_name": "HTMLModel",
      "_view_count": null,
      "_view_module": "@jupyter-widgets/controls",
      "_view_module_version": "1.5.0",
      "_view_name": "HTMLView",
      "description": "",
      "description_tooltip": null,
      "layout": "IPY_MODEL_fa8c2fcd6131445c8b61957da8124848",
      "placeholder": "​",
      "style": "IPY_MODEL_dcf77c58d8a745ec906510e7193beb34",
      "value": " 66706/66706 [00:37&lt;00:00, 2634.13it/s]"
     }
    },
    "ece87f1fd58d4d0bbcf783c845634b0e": {
     "model_module": "@jupyter-widgets/controls",
     "model_module_version": "1.5.0",
     "model_name": "ProgressStyleModel",
     "state": {
      "_model_module": "@jupyter-widgets/controls",
      "_model_module_version": "1.5.0",
      "_model_name": "ProgressStyleModel",
      "_view_count": null,
      "_view_module": "@jupyter-widgets/base",
      "_view_module_version": "1.2.0",
      "_view_name": "StyleView",
      "bar_color": null,
      "description_width": ""
     }
    },
    "fa8c2fcd6131445c8b61957da8124848": {
     "model_module": "@jupyter-widgets/base",
     "model_module_version": "1.2.0",
     "model_name": "LayoutModel",
     "state": {
      "_model_module": "@jupyter-widgets/base",
      "_model_module_version": "1.2.0",
      "_model_name": "LayoutModel",
      "_view_count": null,
      "_view_module": "@jupyter-widgets/base",
      "_view_module_version": "1.2.0",
      "_view_name": "LayoutView",
      "align_content": null,
      "align_items": null,
      "align_self": null,
      "border": null,
      "bottom": null,
      "display": null,
      "flex": null,
      "flex_flow": null,
      "grid_area": null,
      "grid_auto_columns": null,
      "grid_auto_flow": null,
      "grid_auto_rows": null,
      "grid_column": null,
      "grid_gap": null,
      "grid_row": null,
      "grid_template_areas": null,
      "grid_template_columns": null,
      "grid_template_rows": null,
      "height": null,
      "justify_content": null,
      "justify_items": null,
      "left": null,
      "margin": null,
      "max_height": null,
      "max_width": null,
      "min_height": null,
      "min_width": null,
      "object_fit": null,
      "object_position": null,
      "order": null,
      "overflow": null,
      "overflow_x": null,
      "overflow_y": null,
      "padding": null,
      "right": null,
      "top": null,
      "visibility": null,
      "width": null
     }
    },
    "fc5812b57cff4c27bcff6ef78530b424": {
     "model_module": "@jupyter-widgets/base",
     "model_module_version": "1.2.0",
     "model_name": "LayoutModel",
     "state": {
      "_model_module": "@jupyter-widgets/base",
      "_model_module_version": "1.2.0",
      "_model_name": "LayoutModel",
      "_view_count": null,
      "_view_module": "@jupyter-widgets/base",
      "_view_module_version": "1.2.0",
      "_view_name": "LayoutView",
      "align_content": null,
      "align_items": null,
      "align_self": null,
      "border": null,
      "bottom": null,
      "display": null,
      "flex": null,
      "flex_flow": null,
      "grid_area": null,
      "grid_auto_columns": null,
      "grid_auto_flow": null,
      "grid_auto_rows": null,
      "grid_column": null,
      "grid_gap": null,
      "grid_row": null,
      "grid_template_areas": null,
      "grid_template_columns": null,
      "grid_template_rows": null,
      "height": null,
      "justify_content": null,
      "justify_items": null,
      "left": null,
      "margin": null,
      "max_height": null,
      "max_width": null,
      "min_height": null,
      "min_width": null,
      "object_fit": null,
      "object_position": null,
      "order": null,
      "overflow": null,
      "overflow_x": null,
      "overflow_y": null,
      "padding": null,
      "right": null,
      "top": null,
      "visibility": null,
      "width": null
     }
    }
   }
  }
 },
 "nbformat": 4,
 "nbformat_minor": 1
}
