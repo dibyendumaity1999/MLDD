{
 "cells": [
  {
   "cell_type": "markdown",
   "metadata": {
    "id": "wXFhgHkGKyUD"
   },
   "source": [
    "## 1. Basics of Numpy"
   ]
  },
  {
   "cell_type": "markdown",
   "metadata": {
    "id": "cocZRyGkM_EX"
   },
   "source": [
    "Numpy (Numerical python) is the core library for scientific computing in Python. It provides a high-performance multidimensional array object, and tools for working with these arrays.\n",
    "\n",
    "If you are already familiar with MATLAB, you might find this [tutorial](http://wiki.scipy.org/NumPy_for_Matlab_Users) useful to get started with Numpy.\n",
    "\n",
    "\n",
    "## Why use numpy ?\n",
    "\n",
    "\n",
    "1.  Numpy array calucations are much faster and efficient than python lists.\n",
    "2.  Tt has builtin functions in the domains of linear algebra,  fourier transforms, matrix calculations etc.\n",
    "\n"
   ]
  },
  {
   "cell_type": "code",
   "execution_count": null,
   "metadata": {
    "id": "DNXpHrtYJkos"
   },
   "outputs": [],
   "source": [
    "import numpy as np"
   ]
  },
  {
   "cell_type": "markdown",
   "metadata": {
    "id": "BeRQnL9pNGDU"
   },
   "source": [
    "### Arrays"
   ]
  },
  {
   "cell_type": "markdown",
   "metadata": {
    "id": "8ZM8eHUzNPNk"
   },
   "source": [
    "A numpy array is a grid of values, all of the same type, and is indexed by a tuple of nonnegative integers. The number of dimensions is the rank of the array; the shape of an array is a tuple of integers giving the size of the array along each dimension."
   ]
  },
  {
   "cell_type": "markdown",
   "metadata": {
    "id": "iJ8ZhtGRNN-t"
   },
   "source": [
    "We can initialize numpy arrays from nested Python lists, and access elements using square brackets\n",
    "\n",
    "\n",
    "\n",
    "\n",
    "\n"
   ]
  },
  {
   "cell_type": "code",
   "execution_count": null,
   "metadata": {
    "colab": {
     "base_uri": "https://localhost:8080/"
    },
    "id": "4770XbAOzif5",
    "outputId": "6e6b395b-66f5-49fa-f16f-987abf34ea01"
   },
   "outputs": [
    {
     "name": "stdout",
     "output_type": "stream",
     "text": [
      "<class 'numpy.ndarray'> (5,) 1 2 3\n",
      "[5 2 3 4 5]\n"
     ]
    }
   ],
   "source": [
    "list_a = [1,2,3,4,5]\n",
    "a = np.array(list_a)  # Create a 1D array\n",
    "print(type(a), a.shape, a[0], a[1], a[2])\n",
    "a[0] = 5                 # Change an element of the array\n",
    "print(a)                  "
   ]
  },
  {
   "cell_type": "code",
   "execution_count": null,
   "metadata": {
    "colab": {
     "base_uri": "https://localhost:8080/"
    },
    "id": "j21ztBgD5qax",
    "outputId": "dc094300-2fcb-4947-db0a-9c0a2409be3f"
   },
   "outputs": [
    {
     "name": "stdout",
     "output_type": "stream",
     "text": [
      "[[1 2 3]\n",
      " [4 5 6]]\n",
      "(2, 3)\n"
     ]
    }
   ],
   "source": [
    "list_b = [[1,2,3],[4,5,6]] # Create a nested list\n",
    "b = np.array(list_b)   # Create a 2D array\n",
    "print(b)\n",
    "print(b.shape)\n",
    "# NOTE: Dims of the nested lists should be constant"
   ]
  },
  {
   "cell_type": "code",
   "execution_count": null,
   "metadata": {
    "colab": {
     "base_uri": "https://localhost:8080/"
    },
    "id": "hzK-ACr251x3",
    "outputId": "774beef4-413b-469f-b3cb-aa062f74b896"
   },
   "outputs": [
    {
     "name": "stdout",
     "output_type": "stream",
     "text": [
      "(2, 3)\n",
      "1 2 4\n"
     ]
    }
   ],
   "source": [
    "print(b.shape)\n",
    "print(b[0, 0], b[0, 1], b[1, 0])"
   ]
  },
  {
   "cell_type": "code",
   "execution_count": null,
   "metadata": {
    "colab": {
     "base_uri": "https://localhost:8080/"
    },
    "id": "kJ5WRinl6DnN",
    "outputId": "6488e7eb-04bf-40aa-c501-1adc19b4aecf"
   },
   "outputs": [
    {
     "name": "stdout",
     "output_type": "stream",
     "text": [
      "[[[1 2 3]\n",
      "  [4 5 6]]\n",
      "\n",
      " [[3 2 1]\n",
      "  [6 5 4]]]\n"
     ]
    }
   ],
   "source": [
    "# Task\n",
    "\"\"\"\n",
    "Create a numpy array \"c\" with shape (2,2,3)\n",
    "\"\"\"\n",
    "list_c = [ [[1,2,3], [4,5,6]], [[3,2,1], [6,5,4]]]\n",
    "c = np.array(list_c)"
   ]
  },
  {
   "cell_type": "markdown",
   "metadata": {
    "id": "Jhb-kAeENaJu"
   },
   "source": [
    "Numpy also provides many functions to create arrays:"
   ]
  },
  {
   "cell_type": "code",
   "execution_count": null,
   "metadata": {
    "colab": {
     "base_uri": "https://localhost:8080/"
    },
    "id": "LfJnCKqZ7d-f",
    "outputId": "ff680d49-94f1-4c24-f779-7baf091ce465"
   },
   "outputs": [
    {
     "name": "stdout",
     "output_type": "stream",
     "text": [
      "[[0. 0.]\n",
      " [0. 0.]\n",
      " [0. 0.]\n",
      " [0. 0.]]\n"
     ]
    }
   ],
   "source": [
    "a = np.zeros((4,2))  # Create an array of all zeros\n",
    "print(a)"
   ]
  },
  {
   "cell_type": "code",
   "execution_count": null,
   "metadata": {
    "colab": {
     "base_uri": "https://localhost:8080/"
    },
    "id": "QtubE9Dq8Ltv",
    "outputId": "4469d84c-8394-47ed-e82b-f3d2d64ea127"
   },
   "outputs": [
    {
     "name": "stdout",
     "output_type": "stream",
     "text": [
      "[[1. 1.]]\n"
     ]
    }
   ],
   "source": [
    "b = np.ones((1,2))   # Create an array of all ones\n",
    "print(b)"
   ]
  },
  {
   "cell_type": "code",
   "execution_count": null,
   "metadata": {
    "colab": {
     "base_uri": "https://localhost:8080/"
    },
    "id": "arfDrUV58P4g",
    "outputId": "aeb2af1c-52a9-4468-f0de-6cb7b88a4a04"
   },
   "outputs": [
    {
     "name": "stdout",
     "output_type": "stream",
     "text": [
      "[[4 4]\n",
      " [4 4]]\n"
     ]
    }
   ],
   "source": [
    "c = np.full((2,2), 4) # Create a constant array\n",
    "print(c)"
   ]
  },
  {
   "cell_type": "code",
   "execution_count": null,
   "metadata": {
    "colab": {
     "base_uri": "https://localhost:8080/"
    },
    "id": "Q6LeFXm_8RzL",
    "outputId": "4f61642d-e093-4d53-c8ee-570fd94d8a02"
   },
   "outputs": [
    {
     "name": "stdout",
     "output_type": "stream",
     "text": [
      "[[1. 0. 0.]\n",
      " [0. 1. 0.]\n",
      " [0. 0. 1.]]\n"
     ]
    }
   ],
   "source": [
    "d = np.eye(3)        # Create a 3x3 identity matrix\n",
    "print(d)"
   ]
  },
  {
   "cell_type": "code",
   "execution_count": null,
   "metadata": {
    "colab": {
     "base_uri": "https://localhost:8080/"
    },
    "id": "rnYgdLaF8VKl",
    "outputId": "056e4db9-fd77-4983-afe4-eef8837c425d"
   },
   "outputs": [
    {
     "name": "stdout",
     "output_type": "stream",
     "text": [
      "[[0.96530349 0.23945709 0.69999421]\n",
      " [0.14117527 0.44927329 0.0620962 ]\n",
      " [0.1034208  0.67021154 0.15203092]]\n"
     ]
    }
   ],
   "source": [
    "e = np.random.random((3,3)) # Create an array filled with random values\n",
    "print(e)\n",
    "\n",
    "# NOTE:- The values filled are always between 0 and 1"
   ]
  },
  {
   "cell_type": "code",
   "execution_count": null,
   "metadata": {
    "colab": {
     "base_uri": "https://localhost:8080/"
    },
    "id": "b-2TPMdV8XQW",
    "outputId": "41ea1ba5-e86c-4bd1-de9d-7cb6a8b43696"
   },
   "outputs": [
    {
     "name": "stdout",
     "output_type": "stream",
     "text": [
      "[[3 1 2 2]\n",
      " [0 3 1 3]]\n"
     ]
    }
   ],
   "source": [
    "f = np.random.randint(5, size=(2,4)) # Create an array filled with random values\n",
    "print(f)"
   ]
  },
  {
   "cell_type": "code",
   "execution_count": null,
   "metadata": {
    "colab": {
     "base_uri": "https://localhost:8080/"
    },
    "id": "H85g4eae8ej7",
    "outputId": "18436d97-8511-41a4-b31f-8f4fd17f0d27"
   },
   "outputs": [
    {
     "name": "stdout",
     "output_type": "stream",
     "text": [
      "[1 4 1 4 8 7]\n"
     ]
    }
   ],
   "source": [
    "tp = np.random.randint(10, size=(1000))\n",
    "g = np.random.choice(tp, 6, replace=False) # Creates a numpy array by randomly choosing\n",
    "print(g)"
   ]
  },
  {
   "cell_type": "markdown",
   "metadata": {
    "id": "GkJsw4GRNhDi"
   },
   "source": [
    "### Array indexing and slicing"
   ]
  },
  {
   "cell_type": "markdown",
   "metadata": {
    "id": "xJ5foxIUNm4N"
   },
   "source": [
    "Numpy offers several ways to index into arrays."
   ]
  },
  {
   "cell_type": "markdown",
   "metadata": {
    "id": "rsjz20SGNqn1"
   },
   "source": [
    "Slicing: Similar to Python lists, numpy arrays can be sliced. Since arrays may be multidimensional, you must specify a slice for each dimension of the array:"
   ]
  },
  {
   "cell_type": "code",
   "execution_count": null,
   "metadata": {
    "colab": {
     "base_uri": "https://localhost:8080/"
    },
    "id": "FGXFsLYQ8pLf",
    "outputId": "37977a14-70e4-4178-c5af-5ebc51ceff6c"
   },
   "outputs": [
    {
     "name": "stdout",
     "output_type": "stream",
     "text": [
      "[2 3 4]\n"
     ]
    }
   ],
   "source": [
    "a = np.array([1,2,3,4,5])\n",
    "\n",
    "b = a[1:4] # Use slicing to pull out the elements from indexes 1 till 4\n",
    "print(b)"
   ]
  },
  {
   "cell_type": "code",
   "execution_count": null,
   "metadata": {
    "colab": {
     "base_uri": "https://localhost:8080/"
    },
    "id": "Tl5gEERZ9bbr",
    "outputId": "a2f98f0d-4ad6-4569-d711-1fbe7fbd6014"
   },
   "outputs": [
    {
     "name": "stdout",
     "output_type": "stream",
     "text": [
      "[[2 3]\n",
      " [6 7]]\n"
     ]
    }
   ],
   "source": [
    "\n",
    "# Create the following 2D array with shape (3, 4)\n",
    "# [[ 1  2  3  4]\n",
    "#  [ 5  6  7  8]\n",
    "#  [ 9 10 11 12]]\n",
    "a = np.array([[1,2,3,4], [5,6,7,8], [9,10,11,12]])\n",
    "\n",
    "# Use slicing to pull out the subarray consisting of the first 2 rows\n",
    "# and columns 1 and 2; b is the following array of shape (2, 2): \n",
    "# [[2 3]\n",
    "#  [6 7]]\n",
    "b = a[:2, 1:3]\n",
    "print(b)"
   ]
  },
  {
   "cell_type": "markdown",
   "metadata": {
    "id": "x5yDNdsxNtFi"
   },
   "source": [
    "A slice of an array is a view into the same data, so modifying it will modify the original array."
   ]
  },
  {
   "cell_type": "code",
   "execution_count": null,
   "metadata": {
    "colab": {
     "base_uri": "https://localhost:8080/"
    },
    "id": "cjKYjmtc9yrT",
    "outputId": "bbe2b935-d322-45b5-a7f4-a1add357a7c3"
   },
   "outputs": [
    {
     "name": "stdout",
     "output_type": "stream",
     "text": [
      "2\n",
      "77\n"
     ]
    }
   ],
   "source": [
    "print(a[0, 1])\n",
    "b[0, 0] = 77    # b[0, 0] is the same piece of data as a[0, 1]\n",
    "print(a[0, 1]) "
   ]
  },
  {
   "cell_type": "code",
   "execution_count": null,
   "metadata": {
    "colab": {
     "base_uri": "https://localhost:8080/"
    },
    "id": "tKRubMm2-yWv",
    "outputId": "04c90ffc-6188-4c1e-81ad-b3de5442868a"
   },
   "outputs": [
    {
     "name": "stdout",
     "output_type": "stream",
     "text": [
      "[3 7]\n"
     ]
    }
   ],
   "source": [
    "# Task: Expected value if we were to execute \" print(b[:, -1]) \"\n",
    "print(b[:, -1])"
   ]
  },
  {
   "cell_type": "code",
   "execution_count": null,
   "metadata": {
    "colab": {
     "base_uri": "https://localhost:8080/"
    },
    "id": "RuVvz8UT_Iy3",
    "outputId": "33aa03f3-d1c2-4152-d9c6-25555ca4aba3"
   },
   "outputs": [
    {
     "name": "stdout",
     "output_type": "stream",
     "text": [
      "[[ 1  2  3  4]\n",
      " [ 5  6  7  8]\n",
      " [ 9 10 11 12]]\n"
     ]
    }
   ],
   "source": [
    "list_a = [[1,2,3,4], [5,6,7,8], [9,10,11,12]]\n",
    "a = np.array(list_a)\n",
    "print(a)"
   ]
  },
  {
   "cell_type": "markdown",
   "metadata": {
    "id": "2nDualBHN6UT"
   },
   "source": [
    "Two ways of accessing the data in the middle row of the array.\n",
    "Mixing integer indexing with slices yields an array of lower rank,\n",
    "while using only slices yields an array of the same rank as the\n",
    "original array:"
   ]
  },
  {
   "cell_type": "code",
   "execution_count": null,
   "metadata": {
    "colab": {
     "base_uri": "https://localhost:8080/"
    },
    "id": "GrUVM64X_X8O",
    "outputId": "16b56266-6b86-49ed-beed-603707e9fe8e"
   },
   "outputs": [
    {
     "name": "stdout",
     "output_type": "stream",
     "text": [
      "[5 6 7 8] (4,)\n",
      "[[5 6 7 8]] (1, 4)\n",
      "[[5 6 7 8]] (1, 4)\n"
     ]
    }
   ],
   "source": [
    "row_r1 = a[1, :]    # Rank 1 view of the second row of a  \n",
    "row_r2 = a[1:2, :]  # Rank 2 view of the second row of a\n",
    "row_r3 = a[[1], :]  # Rank 2 view of the second row of a\n",
    "print(row_r1, row_r1.shape)\n",
    "print(row_r2, row_r2.shape)\n",
    "print(row_r3, row_r3.shape)"
   ]
  },
  {
   "cell_type": "code",
   "execution_count": null,
   "metadata": {
    "colab": {
     "base_uri": "https://localhost:8080/"
    },
    "id": "lkIEwjmJ_g_U",
    "outputId": "a8e54d33-1c1b-4af5-e64c-decae2212288"
   },
   "outputs": [
    {
     "name": "stdout",
     "output_type": "stream",
     "text": [
      "[ 2  6 10] (3,) \n",
      "\n",
      "[[ 2]\n",
      " [ 6]\n",
      " [10]] (3, 1)\n"
     ]
    }
   ],
   "source": [
    "# We can make the same distinction when accessing columns of an array:\n",
    "col_r1 = a[:, 1]\n",
    "col_r2 = a[:, 1:2]\n",
    "print(col_r1, col_r1.shape, \"\\n\")\n",
    "print(col_r2, col_r2.shape)"
   ]
  },
  {
   "cell_type": "markdown",
   "metadata": {
    "id": "XWhKu0z4PiLQ"
   },
   "source": [
    "### Datatypes"
   ]
  },
  {
   "cell_type": "markdown",
   "metadata": {
    "id": "pGOpUbBSPwWP"
   },
   "source": [
    "Every numpy array is a grid of elements of the same type. Numpy provides a large set of numeric datatypes that you can use to construct arrays. Numpy tries to guess a datatype when you create an array, but functions that construct arrays usually also include an optional argument to explicitly specify the datatype. Here is an example:\n"
   ]
  },
  {
   "cell_type": "code",
   "execution_count": null,
   "metadata": {
    "colab": {
     "base_uri": "https://localhost:8080/"
    },
    "id": "I6QUpIM4Am4v",
    "outputId": "9ad9aa86-fdf4-4fec-a279-0b63a384509b"
   },
   "outputs": [
    {
     "name": "stdout",
     "output_type": "stream",
     "text": [
      "int64 float64 int64 [1 2]\n"
     ]
    }
   ],
   "source": [
    "x = np.array([1, 2])  # Let numpy choose the datatype\n",
    "y = np.array([1.0, 2.0])  # Let numpy choose the datatype\n",
    "z = np.array([1.2, 2], dtype=np.int64)  # Force a particular datatype\n",
    "\n",
    "print(x.dtype, y.dtype, z.dtype, z)"
   ]
  },
  {
   "cell_type": "markdown",
   "metadata": {
    "id": "-Py9RmRxPy01"
   },
   "source": [
    "### Array math"
   ]
  },
  {
   "cell_type": "markdown",
   "metadata": {
    "id": "rKxTQbOCP02v"
   },
   "source": [
    "Basic mathematical functions operate elementwise on arrays, and are available both as operator overloads and as functions in the numpy module:"
   ]
  },
  {
   "cell_type": "code",
   "execution_count": null,
   "metadata": {
    "colab": {
     "base_uri": "https://localhost:8080/"
    },
    "id": "MWc9UVU1Aq4-",
    "outputId": "41e4edda-dcac-4eeb-dad4-a0f9aa045cce"
   },
   "outputs": [
    {
     "name": "stdout",
     "output_type": "stream",
     "text": [
      "[[ 6.  8.]\n",
      " [ 8. 10.]]\n",
      "[[ 6.  8.]\n",
      " [ 8. 10.]]\n"
     ]
    }
   ],
   "source": [
    "x = np.array([[1,2],[3,4]], dtype=np.float64)\n",
    "y = np.array([[5,6],[7,8]], dtype=np.float64)\n",
    "\n",
    "# Elementwise sum; both produce the array\n",
    "print(x + y)\n",
    "print(np.add(x, y))"
   ]
  },
  {
   "cell_type": "code",
   "execution_count": null,
   "metadata": {
    "colab": {
     "base_uri": "https://localhost:8080/"
    },
    "id": "-I3h6mE5BJIQ",
    "outputId": "80d9d340-97d5-41fa-9260-058d117f6303"
   },
   "outputs": [
    {
     "name": "stdout",
     "output_type": "stream",
     "text": [
      "[[-4. -4.]\n",
      " [-6. -6.]]\n",
      "[[-4. -4.]\n",
      " [-6. -6.]]\n"
     ]
    }
   ],
   "source": [
    "# Elementwise difference; both produce the array\n",
    "print(x - y)\n",
    "print(np.subtract(x, y))"
   ]
  },
  {
   "cell_type": "code",
   "execution_count": null,
   "metadata": {
    "colab": {
     "base_uri": "https://localhost:8080/"
    },
    "id": "L5PzYETCBT5e",
    "outputId": "e6d81508-fe5f-4644-e93e-06e41f055592"
   },
   "outputs": [
    {
     "name": "stdout",
     "output_type": "stream",
     "text": [
      "[[ 5. 12.]\n",
      " [ 7. 16.]]\n",
      "[[ 5. 12.]\n",
      " [ 7. 16.]]\n"
     ]
    }
   ],
   "source": [
    "# Elementwise product; both produce the array\n",
    "print(x * y)\n",
    "print(np.multiply(x, y))"
   ]
  },
  {
   "cell_type": "code",
   "execution_count": null,
   "metadata": {
    "colab": {
     "base_uri": "https://localhost:8080/"
    },
    "id": "5ehCuCQRBVt0",
    "outputId": "71feda3d-d37c-498a-eda4-76a5975e3ac5"
   },
   "outputs": [
    {
     "name": "stdout",
     "output_type": "stream",
     "text": [
      "[[0.2        0.33333333]\n",
      " [0.14285714 0.25      ]]\n",
      "[[0.2        0.33333333]\n",
      " [0.14285714 0.25      ]]\n"
     ]
    }
   ],
   "source": [
    "# Elementwise division; both produce the array\n",
    "# [[ 0.2         0.33333333]\n",
    "#  [ 0.42857143  0.5       ]]\n",
    "print(x / y)\n",
    "print(np.divide(x, y))"
   ]
  },
  {
   "cell_type": "code",
   "execution_count": null,
   "metadata": {
    "colab": {
     "base_uri": "https://localhost:8080/"
    },
    "id": "QCi9hnQ_BYjK",
    "outputId": "a36cc332-4de4-4c29-b7cc-b23cca41caf2"
   },
   "outputs": [
    {
     "name": "stdout",
     "output_type": "stream",
     "text": [
      "[[1.         1.41421356]] [[1. 2.]]\n"
     ]
    }
   ],
   "source": [
    "# Elementwise square root; produces the array\n",
    "# [[ 1.          1.41421356]\n",
    "#  [ 1.73205081  2.        ]]\n",
    "print(np.sqrt(x), x)"
   ]
  },
  {
   "cell_type": "markdown",
   "metadata": {
    "id": "RmIZQxy1P7Oa"
   },
   "source": [
    "We instead use the dot function to compute inner products of vectors, to multiply a vector by a matrix, and to multiply matrices. dot is available both as a function in the numpy module and as an instance method of array objects:"
   ]
  },
  {
   "cell_type": "code",
   "execution_count": null,
   "metadata": {
    "colab": {
     "base_uri": "https://localhost:8080/"
    },
    "id": "QtH-3lP4Bany",
    "outputId": "4271c539-8e76-4c63-aaf7-f9a968cc2f56"
   },
   "outputs": [
    {
     "name": "stdout",
     "output_type": "stream",
     "text": [
      "219\n",
      "219\n"
     ]
    }
   ],
   "source": [
    "x = np.array([[1,2],[3,4]])\n",
    "y = np.array([[5,6],[7,8]])\n",
    "\n",
    "v = np.array([9,10])\n",
    "w = np.array([11, 12])\n",
    "\n",
    "# Inner product of vectors; both produce 219\n",
    "print(v.dot(w))\n",
    "print(np.dot(v, w))"
   ]
  },
  {
   "cell_type": "markdown",
   "metadata": {
    "id": "yLCeVBOhRJCH"
   },
   "source": [
    "We can use matmul function to compute matrix multiplication operations. `@` operator can be used as short hand notation for matmul function"
   ]
  },
  {
   "cell_type": "code",
   "execution_count": null,
   "metadata": {
    "colab": {
     "base_uri": "https://localhost:8080/"
    },
    "id": "yMQaH1LCB9b7",
    "outputId": "eaf4b9f1-eecf-467e-de0f-cf93e218c717"
   },
   "outputs": [
    {
     "name": "stdout",
     "output_type": "stream",
     "text": [
      "x (2, 2)\n",
      "y (2, 2)\n",
      "z (2, 2)\n",
      "x times y [[19 22]\n",
      " [43 50]]\n",
      "y times x [[23 34]\n",
      " [31 46]]\n",
      "z times x [[11 16]\n",
      " [23 34]]\n"
     ]
    }
   ],
   "source": [
    "x = np.array([[1,2],[3,4]])\n",
    "y = np.array([[5,6],[7,8]])\n",
    "z = np.array([[2,3],[5,6]])\n",
    "\n",
    "print('x',x.shape)\n",
    "print('y',y.shape)\n",
    "print('z',z.shape)\n",
    "# Matrix multiplication of x and y\n",
    "print('x times y', np.matmul(x,y)) ## xy\n",
    "print('y times x', y@x) ## yx \n",
    "print('z times x',z@x) ## zx"
   ]
  },
  {
   "cell_type": "markdown",
   "metadata": {
    "id": "PMJLhNQ2QetK"
   },
   "source": [
    "Numpy provides many useful functions for performing computations on arrays; one of the most useful is `sum`:"
   ]
  },
  {
   "cell_type": "code",
   "execution_count": null,
   "metadata": {
    "colab": {
     "base_uri": "https://localhost:8080/"
    },
    "id": "LlnmR4ZFCG1j",
    "outputId": "bd916d59-b0c7-4f82-e17f-b2b883bb3f42"
   },
   "outputs": [
    {
     "name": "stdout",
     "output_type": "stream",
     "text": [
      "10\n",
      "[4 6]\n",
      "[3 7]\n"
     ]
    }
   ],
   "source": [
    "x = np.array([[1,2],[3,4]])\n",
    "\"\"\"\n",
    "[ [1,2]\n",
    "  [3,4] ]\n",
    "\"\"\"\n",
    "print(np.sum(x))  # Compute sum of all elements; prints \"10\"\n",
    "print(np.sum(x, axis=0))  # Compute sum of each column; prints \"[4 6]\"\n",
    "print(np.sum(x, axis=1))  # Compute sum of each row; prints \"[3 7]\""
   ]
  },
  {
   "cell_type": "code",
   "execution_count": null,
   "metadata": {
    "colab": {
     "base_uri": "https://localhost:8080/"
    },
    "id": "VWfKymWDCcFX",
    "outputId": "0205005b-9201-49fc-8a2b-1df21ae66bcd"
   },
   "outputs": [
    {
     "name": "stdout",
     "output_type": "stream",
     "text": [
      "4\n",
      "[3 4]\n",
      "[2 4]\n"
     ]
    }
   ],
   "source": [
    "x = np.array([[1,2],[3,4]])\n",
    "\n",
    "print(np.max(x))  # Compute max of all elements; prints \"4\"\n",
    "print(np.max(x, axis=0))  # Compute max of each column; prints \"[3 4]\"\n",
    "print(np.max(x, axis=1))  # Compute max of each row; prints \"[2 4]\""
   ]
  },
  {
   "cell_type": "code",
   "execution_count": null,
   "metadata": {
    "colab": {
     "base_uri": "https://localhost:8080/"
    },
    "id": "3-tvq9pLCxus",
    "outputId": "e58e409f-c323-493f-d724-c512634475d6"
   },
   "outputs": [
    {
     "name": "stdout",
     "output_type": "stream",
     "text": [
      "2.5\n",
      "[2. 3.]\n",
      "[1.5 3.5]\n"
     ]
    }
   ],
   "source": [
    "x = np.array([[1,2],[3,4]])\n",
    "\n",
    "print(np.mean(x))  # Compute mean of all elements;\n",
    "print(np.mean(x, axis=0))  # Compute mean of each column;\n",
    "print(np.mean(x, axis=1))  # Compute mean of each row;"
   ]
  },
  {
   "cell_type": "markdown",
   "metadata": {
    "id": "DdddACItQpf-"
   },
   "source": [
    "Apart from computing mathematical functions using arrays, we frequently need to reshape or otherwise manipulate data in arrays. The simplest example of this type of operation is transposing a matrix; to transpose a matrix, simply use the T attribute of an array object:"
   ]
  },
  {
   "cell_type": "code",
   "execution_count": null,
   "metadata": {
    "colab": {
     "base_uri": "https://localhost:8080/"
    },
    "id": "oVwuQSOpCzfD",
    "outputId": "2ea6ae97-1ff7-43dc-d5a8-963b20d3a907"
   },
   "outputs": [
    {
     "name": "stdout",
     "output_type": "stream",
     "text": [
      "[[1 2]\n",
      " [3 4]]\n",
      "transpose\n",
      " [[1 3]\n",
      " [2 4]]\n"
     ]
    }
   ],
   "source": [
    "print(x)\n",
    "print(\"transpose\\n\", x.T)"
   ]
  },
  {
   "cell_type": "code",
   "execution_count": null,
   "metadata": {
    "colab": {
     "base_uri": "https://localhost:8080/"
    },
    "id": "FnVrBcTdC_cI",
    "outputId": "f8111c5e-de99-4cc8-f4b5-70ca363a5be5"
   },
   "outputs": [
    {
     "name": "stdout",
     "output_type": "stream",
     "text": [
      "[[1 2 3]]\n",
      "transpose\n",
      " [[1]\n",
      " [2]\n",
      " [3]]\n"
     ]
    }
   ],
   "source": [
    "v = np.array([[1,2,3]])\n",
    "print(v )\n",
    "print(\"transpose\\n\", v.T)"
   ]
  },
  {
   "cell_type": "code",
   "execution_count": null,
   "metadata": {
    "colab": {
     "base_uri": "https://localhost:8080/"
    },
    "id": "XGAD-47fDC0M",
    "outputId": "27c93762-92a2-48cb-dada-fa6c3ea9dd75"
   },
   "outputs": [
    {
     "name": "stdout",
     "output_type": "stream",
     "text": [
      "(2, 3)\n",
      "[[1 2]\n",
      " [3 4]\n",
      " [5 6]]\n",
      "[1 2 3 4 5 6]\n"
     ]
    }
   ],
   "source": [
    "v = np.array([[1,2,3],[4,5,6]])\n",
    "print(v.shape)\n",
    "print(v.reshape(3,2))\n",
    "print(v.reshape(6))"
   ]
  },
  {
   "cell_type": "code",
   "execution_count": null,
   "metadata": {
    "colab": {
     "base_uri": "https://localhost:8080/"
    },
    "id": "8U1P3f3JDYNU",
    "outputId": "47d7b502-87fc-48ab-b8f9-2ad156694663"
   },
   "outputs": [
    {
     "name": "stdout",
     "output_type": "stream",
     "text": [
      "[array([0, 1, 2]), array([3, 4, 5]), array([6, 7, 8]), array([ 9, 10, 11]), array([12, 13, 14])]\n"
     ]
    }
   ],
   "source": [
    "## array splitting into mulitple subarrays\n",
    "x=np.arange(15)\n",
    "y = np.split(x, 5)\n",
    "print(y)"
   ]
  },
  {
   "cell_type": "code",
   "execution_count": null,
   "metadata": {
    "colab": {
     "base_uri": "https://localhost:8080/"
    },
    "id": "_oG1uYerDlUc",
    "outputId": "8c41898e-f58f-4041-c2a4-053b70c37619"
   },
   "outputs": [
    {
     "name": "stdout",
     "output_type": "stream",
     "text": [
      "(array([0, 0, 0, 1, 1, 1]), array([0, 1, 3, 3, 4, 5])) \n",
      "\n",
      "[7 4 5 4 5 6]\n"
     ]
    }
   ],
   "source": [
    "## find the index of an element in the array\n",
    "x = np.array([ [7,4,3,5,2,1], [1,2,3,4,5,6] ])\n",
    "\n",
    "print(np.where( x > 3 ), '\\n')\n",
    "\n",
    "y = x[np.where( x > 3 )]\n",
    "print(y)"
   ]
  },
  {
   "cell_type": "code",
   "execution_count": null,
   "metadata": {
    "colab": {
     "base_uri": "https://localhost:8080/"
    },
    "id": "qUIYYvc1Dl6x",
    "outputId": "9a6ca23c-5a95-4c79-a419-313d6efcb43d"
   },
   "outputs": [
    {
     "name": "stdout",
     "output_type": "stream",
     "text": [
      "[7 4 3 5 2 1]\n",
      "[1 2 3 4 5 7]\n"
     ]
    }
   ],
   "source": [
    "## sorting numpy arrays\n",
    "x = np.array([7,4,3,5,2,1])\n",
    "print(x)\n",
    "print(np.sort(x))"
   ]
  },
  {
   "cell_type": "markdown",
   "metadata": {
    "id": "-hjgcX-e0qeD"
   },
   "source": [
    "# QM7 dataset - Class Exercise"
   ]
  },
  {
   "cell_type": "code",
   "execution_count": null,
   "metadata": {
    "id": "TQxiXEdvERcj"
   },
   "outputs": [],
   "source": [
    "import pandas as pd"
   ]
  },
  {
   "cell_type": "markdown",
   "metadata": {
    "id": "HcbnsNmW5Y2Q"
   },
   "source": [
    "### Part-1\n",
    "*   Use concepts taught in previous tutorial to load qm7.csv\n",
    "*   Filter out the first 1000 enteries\n",
    "*   Take out only the values for \"u0_atom\" column. (what datatype is this new array?)"
   ]
  },
  {
   "cell_type": "code",
   "execution_count": null,
   "metadata": {
    "colab": {
     "base_uri": "https://localhost:8080/"
    },
    "id": "pvuJ4MYJEYT9",
    "outputId": "d2574783-93d6-46d2-84e3-88b98c09ec8c"
   },
   "outputs": [
    {
     "name": "stdout",
     "output_type": "stream",
     "text": [
      "[ -417.96  -712.42  -564.21  -404.88  -808.87  -677.16  -796.98  -860.33\n",
      " -1008.49  -861.73] <class 'numpy.ndarray'> (1000,)\n"
     ]
    }
   ],
   "source": [
    "df = pd.read_csv('qm7.csv')\n",
    "df_1000 = df.head(1000)\n",
    "u0_vals = df_1000[\"u0_atom\"].values\n",
    "print(u0_vals[:10], type(u0_vals), u0_vals.shape)"
   ]
  },
  {
   "cell_type": "markdown",
   "metadata": {
    "id": "Zflx-JE9iRcl"
   },
   "source": [
    "### Part 2\n",
    "\n",
    "*   Slice the elements based on index from 100-900\n",
    "*   Create a new numpy array \"int_u0_vals\" containg all the elements in the modified u0_vals but in int datatype\n",
    "\n",
    "*  Print the max, min, sum, mean of \"int_u0_vals\""
   ]
  },
  {
   "cell_type": "code",
   "execution_count": null,
   "metadata": {
    "colab": {
     "base_uri": "https://localhost:8080/"
    },
    "id": "DOSbcgwfFuMy",
    "outputId": "2414bfbc-ded8-415c-de22-977a8f4a0b64"
   },
   "outputs": [
    {
     "name": "stdout",
     "output_type": "stream",
     "text": [
      "[-1310 -1105 -1122 -1118 -1118 -1271 -1013 -1023] (800,) \n",
      "\n",
      "Metrics of the array -\n",
      " Max:-785\n",
      " Min:-1896\n",
      " Sum:-1120256\n",
      " Mean:-1400.32\n"
     ]
    }
   ],
   "source": [
    "mod_u0_vals = u0_vals[100:900]\n",
    "int_u0_vals = np.array(mod_u0_vals, dtype=np.int64)\n",
    "print(int_u0_vals[:8], int_u0_vals.shape, \"\\n\")\n",
    "\n",
    "max_u0 =  np.max(int_u0_vals)\n",
    "min_u0 =  np.min(int_u0_vals)\n",
    "sum_u0 =  np.sum(int_u0_vals)\n",
    "mean_u0 = np.mean(int_u0_vals)\n",
    "print(f'Metrics of the array -\\n Max:{max_u0}\\n Min:{min_u0}\\n Sum:{sum_u0}\\n Mean:{mean_u0}')"
   ]
  },
  {
   "cell_type": "markdown",
   "metadata": {
    "id": "bhX95rRlog7-"
   },
   "source": [
    "### Part 3\n",
    "* Create a function to calculate rmse (root mean squared error) between 2 numpy arrays.\n",
    "* Make numpy arrays a,b by slicing \"int_u0_vals\" from indices (100-300) and (500-700)\n",
    "* Find rmse for a,b"
   ]
  },
  {
   "cell_type": "code",
   "execution_count": null,
   "metadata": {
    "id": "tPuc4OrPHaR8"
   },
   "outputs": [],
   "source": [
    "def rmse(arr_1, arr_2):\n",
    "  err = np.subtract(arr_1,arr_2)\n",
    "  sqrd_err = (err)**2\n",
    "  mean_sqrd_err = np.mean(sqrd_err)\n",
    "  rmse = np.sqrt(mean_sqrd_err)\n",
    "\n",
    "  return rmse"
   ]
  },
  {
   "cell_type": "code",
   "execution_count": null,
   "metadata": {
    "id": "KvN7Z3lYIeWz"
   },
   "outputs": [],
   "source": [
    "def rmse_shorthand(arr_1, arr_2):\n",
    "  return np.sqrt( ((arr_1 - arr_2)**2).mean() ) # Numpy arrays can be directly subtracted"
   ]
  },
  {
   "cell_type": "code",
   "execution_count": null,
   "metadata": {
    "colab": {
     "base_uri": "https://localhost:8080/"
    },
    "id": "52IRIkfeIsS0",
    "outputId": "1c2aaae7-ffd1-4703-e267-26e7e0284f5a"
   },
   "outputs": [
    {
     "name": "stdout",
     "output_type": "stream",
     "text": [
      "260.3198513367738\n",
      "260.3198513367738\n"
     ]
    }
   ],
   "source": [
    "a,b = int_u0_vals[100:300], int_u0_vals[500:700]\n",
    "\n",
    "print(rmse(a,b))\n",
    "print(rmse_shorthand(a,b))"
   ]
  },
  {
   "cell_type": "markdown",
   "metadata": {
    "id": "Z82yL0JAKwAR"
   },
   "source": [
    "# 2. Basics of SKlearn (sci-kit learn)"
   ]
  },
  {
   "cell_type": "markdown",
   "metadata": {
    "id": "EXmlYc9Nx8_-"
   },
   "source": [
    "Scikit-learn (Sklearn) is one of the most useful and robust library for machine learning in Python. It provides a selection of efficient tools for machine learning and statistical modeling including classification, regression, clustering and dimensionality reduction via a consistence interface in Python. This library, which is largely written in Python, is built upon NumPy, SciPy and Matplotlib."
   ]
  },
  {
   "cell_type": "code",
   "execution_count": null,
   "metadata": {
    "colab": {
     "base_uri": "https://localhost:8080/"
    },
    "id": "iYxXqUN6I3Fq",
    "outputId": "d80d7066-52cc-4600-dcf3-d0baa649b7e9"
   },
   "outputs": [
    {
     "name": "stdout",
     "output_type": "stream",
     "text": [
      "260.3198513367738\n"
     ]
    }
   ],
   "source": [
    "# Doing the previous exercise using a sklearn function\n",
    "\n",
    "from sklearn.metrics import mean_squared_error\n",
    "print(mean_squared_error(a,b, squared=False))"
   ]
  },
  {
   "cell_type": "code",
   "execution_count": null,
   "metadata": {
    "id": "FMh-KHbuJlq0"
   },
   "outputs": [],
   "source": [
    "# Importing nessasary Libraries\n",
    "\n",
    "from sklearn.model_selection import train_test_split\n",
    "from sklearn.linear_model import SGDClassifier\n",
    "from sklearn.metrics import accuracy_score"
   ]
  },
  {
   "cell_type": "code",
   "execution_count": null,
   "metadata": {
    "id": "EDdWnC3sJrYI"
   },
   "outputs": [],
   "source": [
    "dataset = pd.read_csv('herg_mol_descriptors.csv')\n",
    "dataset.dropna(inplace=True)\n",
    "columns = list(dataset.columns.values)\n",
    "# features = list(set(columns) - set(['smiles', 'label']))\n",
    "features = columns\n",
    "features.remove('smiles')\n",
    "features.remove('label')\n",
    "# print(features)\n",
    "# features = features.remove('label')\n",
    "\n",
    "data = pd.DataFrame(dataset[features]).to_numpy(dtype=np.float64)\n",
    "labels = dataset['label'].to_numpy(dtype=np.float64)"
   ]
  },
  {
   "cell_type": "code",
   "execution_count": null,
   "metadata": {
    "colab": {
     "base_uri": "https://localhost:8080/"
    },
    "id": "qz9DmvE6J3ds",
    "outputId": "b6303513-cff8-4eaa-da6e-c4208c3a28c8"
   },
   "outputs": [
    {
     "name": "stdout",
     "output_type": "stream",
     "text": [
      "(588, 32)\n",
      "(588,)\n"
     ]
    }
   ],
   "source": [
    "print(data.shape)\n",
    "print(labels.shape)"
   ]
  },
  {
   "cell_type": "code",
   "execution_count": null,
   "metadata": {
    "colab": {
     "base_uri": "https://localhost:8080/"
    },
    "id": "oPoM4FTCKEGh",
    "outputId": "924f57b7-9a54-454e-f563-aac184435da6"
   },
   "outputs": [
    {
     "name": "stdout",
     "output_type": "stream",
     "text": [
      "['qed', 'MolWt', 'HeavyAtomMolWt', 'ExactMolWt', 'NumValenceElectrons', 'NumRadicalElectrons', 'MaxPartialCharge', 'MinPartialCharge', 'MaxAbsPartialCharge', 'MinAbsPartialCharge', 'FpDensityMorgan1', 'FpDensityMorgan2', 'FpDensityMorgan3', 'HeavyAtomCount', 'NHOHCount', 'NOCount', 'NumAliphaticCarbocycles', 'NumAliphaticHeterocycles', 'NumAliphaticRings', 'NumAromaticCarbocycles', 'NumAromaticHeterocycles', 'NumAromaticRings', 'NumHAcceptors', 'NumHDonors', 'NumHeteroatoms', 'NumRotatableBonds', 'NumSaturatedCarbocycles', 'NumSaturatedHeterocycles', 'NumSaturatedRings', 'RingCount', 'MolLogP', 'MolMR']\n"
     ]
    }
   ],
   "source": [
    "# Splitting the total dataset into a train and test set\n",
    "\n",
    "\n",
    "# X_train is the input data for train set\n",
    "# y_train is the label data for train set\n",
    "# X_test is the input data for test set\n",
    "# y_test is the label data for test set\n",
    "print(features)\n",
    "X_train , X_test , y_train, y_test = train_test_split(data[:], # we can tweak around to see what all features we want to include \n",
    "                                                      labels[:], \n",
    "                                                      test_size=0.25, \n",
    "                                                      random_state=12)"
   ]
  },
  {
   "cell_type": "code",
   "execution_count": null,
   "metadata": {
    "colab": {
     "base_uri": "https://localhost:8080/"
    },
    "id": "vfNCtNzVKOBw",
    "outputId": "cccf380b-5015-4944-c525-91f9b1ecb8dc"
   },
   "outputs": [
    {
     "name": "stdout",
     "output_type": "stream",
     "text": [
      "(441, 32) (147, 32)\n",
      "(441,) (147,)\n"
     ]
    }
   ],
   "source": [
    "print(X_train.shape, X_test.shape)\n",
    "print(y_train.shape, y_test.shape)"
   ]
  },
  {
   "cell_type": "markdown",
   "metadata": {
    "id": "MhQ9cHXB4f_-"
   },
   "source": [
    "## Linear Model\n",
    "It creates a linear model with coeffecients \n",
    "$w = [w_1, w_2, w_3 ..w_n]$\n",
    "\n",
    "Let the input feature vector be \n",
    "$X = [x_1,x_2,x_3..x_n]$\n",
    "\n",
    "The prediction is given by  $w.X + bias$ term\n",
    "\n",
    "The weights get adjusted so the residual sum of squares between the predictions and the actual labels in the dataset is least"
   ]
  },
  {
   "cell_type": "code",
   "execution_count": null,
   "metadata": {
    "id": "L8YArABCKXQ-"
   },
   "outputs": [],
   "source": [
    "# Defining a Linear Classifier model\n",
    "model = SGDClassifier(random_state=0)"
   ]
  },
  {
   "cell_type": "code",
   "execution_count": null,
   "metadata": {
    "colab": {
     "base_uri": "https://localhost:8080/"
    },
    "id": "AAPSRzf2Kxas",
    "outputId": "d5ae91d8-1e67-4854-a2d9-ca0a3197ec74"
   },
   "outputs": [
    {
     "data": {
      "text/plain": [
       "SGDClassifier(random_state=0)"
      ]
     },
     "execution_count": 68,
     "metadata": {},
     "output_type": "execute_result"
    }
   ],
   "source": [
    "# Training the model on the training data\n",
    "model.fit(X_train, y_train)"
   ]
  },
  {
   "cell_type": "code",
   "execution_count": null,
   "metadata": {
    "colab": {
     "base_uri": "https://localhost:8080/"
    },
    "id": "C8xeKV2tK0xo",
    "outputId": "63461d4b-7a28-4442-d23c-2c8d49ea59e2"
   },
   "outputs": [
    {
     "name": "stdout",
     "output_type": "stream",
     "text": [
      "Coeffecients \n",
      " [[ -222.88965772  -129.69818294   245.58977518  -203.97760263\n",
      "  -1762.65270506   -17.45200698  -105.53648591   186.58171347\n",
      "   -191.06273575  -101.05546363  -610.44945865  -799.0264184\n",
      "   -885.31860864   133.45652397 -1074.49611607 -2085.68593231\n",
      "   -373.67826712    99.92129487  -273.75697225   788.76227629\n",
      "   -109.5027889    679.25948739 -2017.58888547  -901.34483113\n",
      "  -1397.52934333   752.14728125  -218.66338158   114.63573213\n",
      "   -104.02764945   405.50251514  1403.34649762  3307.57146768]]\n",
      "Intercept \n",
      " [-1171.31703218]\n"
     ]
    }
   ],
   "source": [
    "# the final weights of the linear model can be obtined using the coef_ parameter\n",
    "print('Coeffecients \\n', model.coef_)\n",
    "print('Intercept \\n', model.intercept_)"
   ]
  },
  {
   "cell_type": "code",
   "execution_count": null,
   "metadata": {
    "id": "iUWlnXXoK5Gp"
   },
   "outputs": [],
   "source": [
    "# Using the trained model to make prediction on the test set\n",
    "predictions = model.predict(X_test)"
   ]
  },
  {
   "cell_type": "code",
   "execution_count": null,
   "metadata": {
    "colab": {
     "base_uri": "https://localhost:8080/"
    },
    "id": "Pclcc8aELCks",
    "outputId": "9260b8f7-da49-4369-a117-2e3183abbd12"
   },
   "outputs": [
    {
     "name": "stdout",
     "output_type": "stream",
     "text": [
      "0.7959183673469388\n"
     ]
    }
   ],
   "source": [
    "print(accuracy_score(y_test, predictions))"
   ]
  },
  {
   "cell_type": "code",
   "execution_count": null,
   "metadata": {
    "id": "9nPnUT7DLJcD"
   },
   "outputs": [],
   "source": [
    "all_Acc = []\n",
    "for i in range(20):\n",
    "  model = SGDClassifier(random_state=i)\n",
    "  model.fit(X_train, y_train)\n",
    "  predictions = model.predict(X_test)\n",
    "  all_Acc.append(accuracy_score(y_test, predictions))"
   ]
  },
  {
   "cell_type": "code",
   "execution_count": null,
   "metadata": {
    "colab": {
     "base_uri": "https://localhost:8080/"
    },
    "id": "ou1xpFpFLS6b",
    "outputId": "508f35bc-755a-4e47-b55e-b6874cc0e219"
   },
   "outputs": [
    {
     "name": "stdout",
     "output_type": "stream",
     "text": [
      "Mean accuracy of the models 0.6435374149659863\n"
     ]
    }
   ],
   "source": [
    "print('Mean accuracy of the models',np.array(all_Acc).mean())"
   ]
  },
  {
   "cell_type": "code",
   "execution_count": null,
   "metadata": {
    "id": "AkY58iBgLXoP"
   },
   "outputs": [],
   "source": []
  }
 ],
 "metadata": {
  "colab": {
   "name": "Tutorial-3-IntroToNumpy&Sklearn-StudentCopy.ipynb",
   "provenance": []
  },
  "kernelspec": {
   "display_name": "Python 3 (ipykernel)",
   "language": "python",
   "name": "python3"
  },
  "language_info": {
   "codemirror_mode": {
    "name": "ipython",
    "version": 3
   },
   "file_extension": ".py",
   "mimetype": "text/x-python",
   "name": "python",
   "nbconvert_exporter": "python",
   "pygments_lexer": "ipython3",
   "version": "3.7.13"
  }
 },
 "nbformat": 4,
 "nbformat_minor": 1
}
